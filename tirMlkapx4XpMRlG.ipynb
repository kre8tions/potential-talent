{
  "cells": [
    {
      "cell_type": "markdown",
      "id": "62852793",
      "metadata": {
        "id": "62852793"
      },
      "source": [
        "## Potential Talent\n",
        "\n",
        "### **Context:**\n",
        "\n",
        "As a **talent sourcing and management company**, we are interested in **finding talented individuals** for sourcing these candidates to technology companies. **Finding talented candidates is not easy**, for **several reasons**. The **first** reason is one needs to understand what the role is very well to fill in that spot, this requires understanding the client’s needs and what they are looking for in a potential candidate. The **second** reason is one needs to understand what makes a candidate shine for the role we are in search for. **Third**, where to find talented individuals is another challenge.\n",
        "\n",
        "The nature of our job requires a lot of human labor and is full of **manual operations**. Towards **automating this process** we want to build a better approach that could save us time and finally help us spot potential candidates that could fit the roles we are in search for. Moreover, going beyond that for a specific role we want to fill in we are interested in developing a machine learning powered pipeline that could spot talented individuals, and rank them based on their fitness.\n",
        "\n",
        "We are right now semi-automatically sourcing a few candidates, therefore the sourcing part is not a concern at this time but we expect to first determine best matching candidates based on how fit these candidates are for a given role. We generally make these searches based on some keywords such as “full-stack software engineer”, “engineering manager” or “aspiring human resources” based on the role we are trying to fill in. These keywords might change, and you can expect that specific keywords will be provided to you.\n",
        "\n",
        "Assuming that we were able to list and rank fitting candidates, we then employ a review procedure, as each candidate needs to be reviewed and then determined how good a fit they are through manual inspection. This procedure is done manually and at the end of this manual review, we might choose not the first fitting candidate in the list but maybe the 7th candidate in the list. If that happens, we are interested in being able to re-rank the previous list based on this information. This supervisory signal is going to be supplied by starring the 7th candidate in the list. Starring one candidate actually sets this candidate as an ideal candidate for the given role. Then, we expect the list to be re-ranked each time a candidate is starred.\n",
        "\n",
        "### Data Description:\n",
        "\n",
        "The data comes from our sourcing efforts. We removed any field that could directly reveal personal details and gave a unique identifier for each candidate.\n",
        "\n",
        "#### Attributes:\n",
        "**id** : unique identifier for candidate (numeric)\n",
        "\n",
        "**job_title** : job title for candidate (text)\n",
        "\n",
        "**location** : geographical location for candidate (text)\n",
        "\n",
        "**connections** : number of connections candidate has, 500+ means over 500 (text)\n",
        "\n",
        "**Output (desired target)**:\n",
        "fit - how fit the candidate is for the role? (numeric, probability between 0-1)\n",
        "\n",
        "Keywords: “Aspiring human resources” or “seeking human resources”\n",
        "\n",
        "#### Download Data:\n",
        "\n",
        "https://docs.google.com/spreadsheets/d/117X6i53dKiO7w6kuA1g1TpdTlv1173h_dPlJt5cNNMU/edit?usp=sharing\n",
        "\n",
        "#### Goal(s):\n",
        "\n",
        "Predict how fit the candidate is based on their available information (variable fit)\n",
        "\n",
        "Success Metric(s):\n",
        "\n",
        "Rank candidates based on a fitness score.\n",
        "\n",
        "Re-rank candidates when a candidate is starred.\n",
        "\n",
        "#### Bonus(es):\n",
        "\n",
        "We are interested in a robust algorithm, tell us how your solution works and show us how your ranking gets better with each starring action.\n",
        "\n",
        "How can we filter out candidates which in the first place should not be in this list?\n",
        "\n",
        "Can we determine a cut-off point that would work for other roles without losing high potential candidates?\n",
        "\n",
        "Do you have any ideas that we should explore so that we can even automate this procedure to prevent human bias?"
      ]
    },
    {
      "cell_type": "code",
      "source": [
        "!pip install openpyxl"
      ],
      "metadata": {
        "id": "K7Sw2jN9TU_G",
        "outputId": "861f4dac-24e8-4651-abba-8bbef56a3b91",
        "colab": {
          "base_uri": "https://localhost:8080/"
        }
      },
      "id": "K7Sw2jN9TU_G",
      "execution_count": 1,
      "outputs": [
        {
          "output_type": "stream",
          "name": "stdout",
          "text": [
            "Requirement already satisfied: openpyxl in /usr/local/lib/python3.11/dist-packages (3.1.5)\n",
            "Requirement already satisfied: et-xmlfile in /usr/local/lib/python3.11/dist-packages (from openpyxl) (2.0.0)\n"
          ]
        }
      ]
    },
    {
      "cell_type": "code",
      "execution_count": 2,
      "id": "c013a16d",
      "metadata": {
        "id": "c013a16d"
      },
      "outputs": [],
      "source": [
        "# Importing Standard Libraries\n",
        "import pandas as pd\n",
        "import numpy as np\n",
        "import os\n",
        "\n",
        "from sklearn.metrics.pairwise import linear_kernel\n",
        "pd.options.display.max_columns = 60"
      ]
    },
    {
      "cell_type": "code",
      "execution_count": 3,
      "id": "b51ea5e4",
      "metadata": {
        "id": "b51ea5e4"
      },
      "outputs": [],
      "source": [
        "# Set the option to display the full text in DataFrame columns\n",
        "pd.set_option('display.max_colwidth', None)"
      ]
    },
    {
      "cell_type": "markdown",
      "id": "2272c7de",
      "metadata": {
        "id": "2272c7de"
      },
      "source": [
        "## Initial Exploratory Data Analysis"
      ]
    },
    {
      "cell_type": "code",
      "execution_count": 4,
      "id": "2d170f8a",
      "metadata": {
        "id": "2d170f8a",
        "outputId": "993a9df3-9a3f-4b38-d510-5d17439b1d0a",
        "colab": {
          "base_uri": "https://localhost:8080/",
          "height": 35
        }
      },
      "outputs": [
        {
          "output_type": "execute_result",
          "data": {
            "text/plain": [
              "'/content'"
            ],
            "application/vnd.google.colaboratory.intrinsic+json": {
              "type": "string"
            }
          },
          "metadata": {},
          "execution_count": 4
        }
      ],
      "source": [
        "path = os.getcwd()\n",
        "path\n"
      ]
    },
    {
      "cell_type": "code",
      "source": [
        "pd.read_csv('/content/potential-talents - Aspiring human resources - seeking human resources.csv')"
      ],
      "metadata": {
        "id": "Ejry49eUQRkm",
        "outputId": "8c2b150f-25aa-4073-dd2d-6b550024962b",
        "colab": {
          "base_uri": "https://localhost:8080/",
          "height": 701
        }
      },
      "id": "Ejry49eUQRkm",
      "execution_count": 5,
      "outputs": [
        {
          "output_type": "execute_result",
          "data": {
            "text/plain": [
              "      id  \\\n",
              "0      1   \n",
              "1      2   \n",
              "2      3   \n",
              "3      4   \n",
              "4      5   \n",
              "..   ...   \n",
              "99   100   \n",
              "100  101   \n",
              "101  102   \n",
              "102  103   \n",
              "103  104   \n",
              "\n",
              "                                                                                                                 job_title  \\\n",
              "0                 2019 C.T. Bauer College of Business Graduate (Magna Cum Laude) and aspiring Human Resources professional   \n",
              "1                                                                Native English Teacher at EPIK (English Program in Korea)   \n",
              "2                                                                                    Aspiring Human Resources Professional   \n",
              "3                                                                                   People Development Coordinator at Ryan   \n",
              "4                                                                          Advisory Board Member at Celal Bayar University   \n",
              "..                                                                                                                     ...   \n",
              "99   Aspiring Human Resources Manager | Graduating May 2020 | Seeking an Entry-Level Human Resources Position in St. Louis   \n",
              "100                                                                                  Human Resources Generalist at Loparex   \n",
              "101                                                                       Business Intelligence and Analytics at Travelers   \n",
              "102                                                                                         Always set them up for Success   \n",
              "103                                                                       Director Of Administration at Excellence Logging   \n",
              "\n",
              "                                location connection  fit  \n",
              "0                         Houston, Texas         85  NaN  \n",
              "1                                 Kanada      500+   NaN  \n",
              "2    Raleigh-Durham, North Carolina Area         44  NaN  \n",
              "3                          Denton, Texas      500+   NaN  \n",
              "4                         İzmir, Türkiye      500+   NaN  \n",
              "..                                   ...        ...  ...  \n",
              "99              Cape Girardeau, Missouri        103  NaN  \n",
              "100  Raleigh-Durham, North Carolina Area      500+   NaN  \n",
              "101           Greater New York City Area         49  NaN  \n",
              "102             Greater Los Angeles Area      500+   NaN  \n",
              "103                          Katy, Texas      500+   NaN  \n",
              "\n",
              "[104 rows x 5 columns]"
            ],
            "text/html": [
              "\n",
              "  <div id=\"df-52171376-3d8c-45af-8e64-99bc74845870\" class=\"colab-df-container\">\n",
              "    <div>\n",
              "<style scoped>\n",
              "    .dataframe tbody tr th:only-of-type {\n",
              "        vertical-align: middle;\n",
              "    }\n",
              "\n",
              "    .dataframe tbody tr th {\n",
              "        vertical-align: top;\n",
              "    }\n",
              "\n",
              "    .dataframe thead th {\n",
              "        text-align: right;\n",
              "    }\n",
              "</style>\n",
              "<table border=\"1\" class=\"dataframe\">\n",
              "  <thead>\n",
              "    <tr style=\"text-align: right;\">\n",
              "      <th></th>\n",
              "      <th>id</th>\n",
              "      <th>job_title</th>\n",
              "      <th>location</th>\n",
              "      <th>connection</th>\n",
              "      <th>fit</th>\n",
              "    </tr>\n",
              "  </thead>\n",
              "  <tbody>\n",
              "    <tr>\n",
              "      <th>0</th>\n",
              "      <td>1</td>\n",
              "      <td>2019 C.T. Bauer College of Business Graduate (Magna Cum Laude) and aspiring Human Resources professional</td>\n",
              "      <td>Houston, Texas</td>\n",
              "      <td>85</td>\n",
              "      <td>NaN</td>\n",
              "    </tr>\n",
              "    <tr>\n",
              "      <th>1</th>\n",
              "      <td>2</td>\n",
              "      <td>Native English Teacher at EPIK (English Program in Korea)</td>\n",
              "      <td>Kanada</td>\n",
              "      <td>500+</td>\n",
              "      <td>NaN</td>\n",
              "    </tr>\n",
              "    <tr>\n",
              "      <th>2</th>\n",
              "      <td>3</td>\n",
              "      <td>Aspiring Human Resources Professional</td>\n",
              "      <td>Raleigh-Durham, North Carolina Area</td>\n",
              "      <td>44</td>\n",
              "      <td>NaN</td>\n",
              "    </tr>\n",
              "    <tr>\n",
              "      <th>3</th>\n",
              "      <td>4</td>\n",
              "      <td>People Development Coordinator at Ryan</td>\n",
              "      <td>Denton, Texas</td>\n",
              "      <td>500+</td>\n",
              "      <td>NaN</td>\n",
              "    </tr>\n",
              "    <tr>\n",
              "      <th>4</th>\n",
              "      <td>5</td>\n",
              "      <td>Advisory Board Member at Celal Bayar University</td>\n",
              "      <td>İzmir, Türkiye</td>\n",
              "      <td>500+</td>\n",
              "      <td>NaN</td>\n",
              "    </tr>\n",
              "    <tr>\n",
              "      <th>...</th>\n",
              "      <td>...</td>\n",
              "      <td>...</td>\n",
              "      <td>...</td>\n",
              "      <td>...</td>\n",
              "      <td>...</td>\n",
              "    </tr>\n",
              "    <tr>\n",
              "      <th>99</th>\n",
              "      <td>100</td>\n",
              "      <td>Aspiring Human Resources Manager | Graduating May 2020 | Seeking an Entry-Level Human Resources Position in St. Louis</td>\n",
              "      <td>Cape Girardeau, Missouri</td>\n",
              "      <td>103</td>\n",
              "      <td>NaN</td>\n",
              "    </tr>\n",
              "    <tr>\n",
              "      <th>100</th>\n",
              "      <td>101</td>\n",
              "      <td>Human Resources Generalist at Loparex</td>\n",
              "      <td>Raleigh-Durham, North Carolina Area</td>\n",
              "      <td>500+</td>\n",
              "      <td>NaN</td>\n",
              "    </tr>\n",
              "    <tr>\n",
              "      <th>101</th>\n",
              "      <td>102</td>\n",
              "      <td>Business Intelligence and Analytics at Travelers</td>\n",
              "      <td>Greater New York City Area</td>\n",
              "      <td>49</td>\n",
              "      <td>NaN</td>\n",
              "    </tr>\n",
              "    <tr>\n",
              "      <th>102</th>\n",
              "      <td>103</td>\n",
              "      <td>Always set them up for Success</td>\n",
              "      <td>Greater Los Angeles Area</td>\n",
              "      <td>500+</td>\n",
              "      <td>NaN</td>\n",
              "    </tr>\n",
              "    <tr>\n",
              "      <th>103</th>\n",
              "      <td>104</td>\n",
              "      <td>Director Of Administration at Excellence Logging</td>\n",
              "      <td>Katy, Texas</td>\n",
              "      <td>500+</td>\n",
              "      <td>NaN</td>\n",
              "    </tr>\n",
              "  </tbody>\n",
              "</table>\n",
              "<p>104 rows × 5 columns</p>\n",
              "</div>\n",
              "    <div class=\"colab-df-buttons\">\n",
              "\n",
              "  <div class=\"colab-df-container\">\n",
              "    <button class=\"colab-df-convert\" onclick=\"convertToInteractive('df-52171376-3d8c-45af-8e64-99bc74845870')\"\n",
              "            title=\"Convert this dataframe to an interactive table.\"\n",
              "            style=\"display:none;\">\n",
              "\n",
              "  <svg xmlns=\"http://www.w3.org/2000/svg\" height=\"24px\" viewBox=\"0 -960 960 960\">\n",
              "    <path d=\"M120-120v-720h720v720H120Zm60-500h600v-160H180v160Zm220 220h160v-160H400v160Zm0 220h160v-160H400v160ZM180-400h160v-160H180v160Zm440 0h160v-160H620v160ZM180-180h160v-160H180v160Zm440 0h160v-160H620v160Z\"/>\n",
              "  </svg>\n",
              "    </button>\n",
              "\n",
              "  <style>\n",
              "    .colab-df-container {\n",
              "      display:flex;\n",
              "      gap: 12px;\n",
              "    }\n",
              "\n",
              "    .colab-df-convert {\n",
              "      background-color: #E8F0FE;\n",
              "      border: none;\n",
              "      border-radius: 50%;\n",
              "      cursor: pointer;\n",
              "      display: none;\n",
              "      fill: #1967D2;\n",
              "      height: 32px;\n",
              "      padding: 0 0 0 0;\n",
              "      width: 32px;\n",
              "    }\n",
              "\n",
              "    .colab-df-convert:hover {\n",
              "      background-color: #E2EBFA;\n",
              "      box-shadow: 0px 1px 2px rgba(60, 64, 67, 0.3), 0px 1px 3px 1px rgba(60, 64, 67, 0.15);\n",
              "      fill: #174EA6;\n",
              "    }\n",
              "\n",
              "    .colab-df-buttons div {\n",
              "      margin-bottom: 4px;\n",
              "    }\n",
              "\n",
              "    [theme=dark] .colab-df-convert {\n",
              "      background-color: #3B4455;\n",
              "      fill: #D2E3FC;\n",
              "    }\n",
              "\n",
              "    [theme=dark] .colab-df-convert:hover {\n",
              "      background-color: #434B5C;\n",
              "      box-shadow: 0px 1px 3px 1px rgba(0, 0, 0, 0.15);\n",
              "      filter: drop-shadow(0px 1px 2px rgba(0, 0, 0, 0.3));\n",
              "      fill: #FFFFFF;\n",
              "    }\n",
              "  </style>\n",
              "\n",
              "    <script>\n",
              "      const buttonEl =\n",
              "        document.querySelector('#df-52171376-3d8c-45af-8e64-99bc74845870 button.colab-df-convert');\n",
              "      buttonEl.style.display =\n",
              "        google.colab.kernel.accessAllowed ? 'block' : 'none';\n",
              "\n",
              "      async function convertToInteractive(key) {\n",
              "        const element = document.querySelector('#df-52171376-3d8c-45af-8e64-99bc74845870');\n",
              "        const dataTable =\n",
              "          await google.colab.kernel.invokeFunction('convertToInteractive',\n",
              "                                                    [key], {});\n",
              "        if (!dataTable) return;\n",
              "\n",
              "        const docLinkHtml = 'Like what you see? Visit the ' +\n",
              "          '<a target=\"_blank\" href=https://colab.research.google.com/notebooks/data_table.ipynb>data table notebook</a>'\n",
              "          + ' to learn more about interactive tables.';\n",
              "        element.innerHTML = '';\n",
              "        dataTable['output_type'] = 'display_data';\n",
              "        await google.colab.output.renderOutput(dataTable, element);\n",
              "        const docLink = document.createElement('div');\n",
              "        docLink.innerHTML = docLinkHtml;\n",
              "        element.appendChild(docLink);\n",
              "      }\n",
              "    </script>\n",
              "  </div>\n",
              "\n",
              "\n",
              "    <div id=\"df-d2f49b25-661d-4732-84c2-c3f785fe5914\">\n",
              "      <button class=\"colab-df-quickchart\" onclick=\"quickchart('df-d2f49b25-661d-4732-84c2-c3f785fe5914')\"\n",
              "                title=\"Suggest charts\"\n",
              "                style=\"display:none;\">\n",
              "\n",
              "<svg xmlns=\"http://www.w3.org/2000/svg\" height=\"24px\"viewBox=\"0 0 24 24\"\n",
              "     width=\"24px\">\n",
              "    <g>\n",
              "        <path d=\"M19 3H5c-1.1 0-2 .9-2 2v14c0 1.1.9 2 2 2h14c1.1 0 2-.9 2-2V5c0-1.1-.9-2-2-2zM9 17H7v-7h2v7zm4 0h-2V7h2v10zm4 0h-2v-4h2v4z\"/>\n",
              "    </g>\n",
              "</svg>\n",
              "      </button>\n",
              "\n",
              "<style>\n",
              "  .colab-df-quickchart {\n",
              "      --bg-color: #E8F0FE;\n",
              "      --fill-color: #1967D2;\n",
              "      --hover-bg-color: #E2EBFA;\n",
              "      --hover-fill-color: #174EA6;\n",
              "      --disabled-fill-color: #AAA;\n",
              "      --disabled-bg-color: #DDD;\n",
              "  }\n",
              "\n",
              "  [theme=dark] .colab-df-quickchart {\n",
              "      --bg-color: #3B4455;\n",
              "      --fill-color: #D2E3FC;\n",
              "      --hover-bg-color: #434B5C;\n",
              "      --hover-fill-color: #FFFFFF;\n",
              "      --disabled-bg-color: #3B4455;\n",
              "      --disabled-fill-color: #666;\n",
              "  }\n",
              "\n",
              "  .colab-df-quickchart {\n",
              "    background-color: var(--bg-color);\n",
              "    border: none;\n",
              "    border-radius: 50%;\n",
              "    cursor: pointer;\n",
              "    display: none;\n",
              "    fill: var(--fill-color);\n",
              "    height: 32px;\n",
              "    padding: 0;\n",
              "    width: 32px;\n",
              "  }\n",
              "\n",
              "  .colab-df-quickchart:hover {\n",
              "    background-color: var(--hover-bg-color);\n",
              "    box-shadow: 0 1px 2px rgba(60, 64, 67, 0.3), 0 1px 3px 1px rgba(60, 64, 67, 0.15);\n",
              "    fill: var(--button-hover-fill-color);\n",
              "  }\n",
              "\n",
              "  .colab-df-quickchart-complete:disabled,\n",
              "  .colab-df-quickchart-complete:disabled:hover {\n",
              "    background-color: var(--disabled-bg-color);\n",
              "    fill: var(--disabled-fill-color);\n",
              "    box-shadow: none;\n",
              "  }\n",
              "\n",
              "  .colab-df-spinner {\n",
              "    border: 2px solid var(--fill-color);\n",
              "    border-color: transparent;\n",
              "    border-bottom-color: var(--fill-color);\n",
              "    animation:\n",
              "      spin 1s steps(1) infinite;\n",
              "  }\n",
              "\n",
              "  @keyframes spin {\n",
              "    0% {\n",
              "      border-color: transparent;\n",
              "      border-bottom-color: var(--fill-color);\n",
              "      border-left-color: var(--fill-color);\n",
              "    }\n",
              "    20% {\n",
              "      border-color: transparent;\n",
              "      border-left-color: var(--fill-color);\n",
              "      border-top-color: var(--fill-color);\n",
              "    }\n",
              "    30% {\n",
              "      border-color: transparent;\n",
              "      border-left-color: var(--fill-color);\n",
              "      border-top-color: var(--fill-color);\n",
              "      border-right-color: var(--fill-color);\n",
              "    }\n",
              "    40% {\n",
              "      border-color: transparent;\n",
              "      border-right-color: var(--fill-color);\n",
              "      border-top-color: var(--fill-color);\n",
              "    }\n",
              "    60% {\n",
              "      border-color: transparent;\n",
              "      border-right-color: var(--fill-color);\n",
              "    }\n",
              "    80% {\n",
              "      border-color: transparent;\n",
              "      border-right-color: var(--fill-color);\n",
              "      border-bottom-color: var(--fill-color);\n",
              "    }\n",
              "    90% {\n",
              "      border-color: transparent;\n",
              "      border-bottom-color: var(--fill-color);\n",
              "    }\n",
              "  }\n",
              "</style>\n",
              "\n",
              "      <script>\n",
              "        async function quickchart(key) {\n",
              "          const quickchartButtonEl =\n",
              "            document.querySelector('#' + key + ' button');\n",
              "          quickchartButtonEl.disabled = true;  // To prevent multiple clicks.\n",
              "          quickchartButtonEl.classList.add('colab-df-spinner');\n",
              "          try {\n",
              "            const charts = await google.colab.kernel.invokeFunction(\n",
              "                'suggestCharts', [key], {});\n",
              "          } catch (error) {\n",
              "            console.error('Error during call to suggestCharts:', error);\n",
              "          }\n",
              "          quickchartButtonEl.classList.remove('colab-df-spinner');\n",
              "          quickchartButtonEl.classList.add('colab-df-quickchart-complete');\n",
              "        }\n",
              "        (() => {\n",
              "          let quickchartButtonEl =\n",
              "            document.querySelector('#df-d2f49b25-661d-4732-84c2-c3f785fe5914 button');\n",
              "          quickchartButtonEl.style.display =\n",
              "            google.colab.kernel.accessAllowed ? 'block' : 'none';\n",
              "        })();\n",
              "      </script>\n",
              "    </div>\n",
              "\n",
              "    </div>\n",
              "  </div>\n"
            ],
            "application/vnd.google.colaboratory.intrinsic+json": {
              "type": "dataframe",
              "summary": "{\n  \"name\": \"pd\",\n  \"rows\": 104,\n  \"fields\": [\n    {\n      \"column\": \"id\",\n      \"properties\": {\n        \"dtype\": \"number\",\n        \"std\": 30,\n        \"min\": 1,\n        \"max\": 104,\n        \"num_unique_values\": 104,\n        \"samples\": [\n          31,\n          66,\n          65\n        ],\n        \"semantic_type\": \"\",\n        \"description\": \"\"\n      }\n    },\n    {\n      \"column\": \"job_title\",\n      \"properties\": {\n        \"dtype\": \"string\",\n        \"num_unique_values\": 52,\n        \"samples\": [\n          \"Human Resources Generalist at ScottMadden, Inc.\",\n          \"Admissions Representative at Community medical center long beach\",\n          \"Aspiring Human Resources Manager | Graduating May 2020 | Seeking an Entry-Level Human Resources Position in St. Louis\"\n        ],\n        \"semantic_type\": \"\",\n        \"description\": \"\"\n      }\n    },\n    {\n      \"column\": \"location\",\n      \"properties\": {\n        \"dtype\": \"category\",\n        \"num_unique_values\": 41,\n        \"samples\": [\n          \"Chattanooga, Tennessee Area\",\n          \"Jackson, Mississippi Area\",\n          \"Lake Forest, California\"\n        ],\n        \"semantic_type\": \"\",\n        \"description\": \"\"\n      }\n    },\n    {\n      \"column\": \"connection\",\n      \"properties\": {\n        \"dtype\": \"category\",\n        \"num_unique_values\": 33,\n        \"samples\": [\n          \"103\",\n          \"455\",\n          \"9\"\n        ],\n        \"semantic_type\": \"\",\n        \"description\": \"\"\n      }\n    },\n    {\n      \"column\": \"fit\",\n      \"properties\": {\n        \"dtype\": \"number\",\n        \"std\": null,\n        \"min\": null,\n        \"max\": null,\n        \"num_unique_values\": 0,\n        \"samples\": [],\n        \"semantic_type\": \"\",\n        \"description\": \"\"\n      }\n    }\n  ]\n}"
            }
          },
          "metadata": {},
          "execution_count": 5
        }
      ]
    },
    {
      "cell_type": "code",
      "execution_count": 6,
      "id": "c7419cad",
      "metadata": {
        "scrolled": false,
        "id": "c7419cad",
        "outputId": "9f6590e2-4db8-4017-c86c-8b9a13b38cfa",
        "colab": {
          "base_uri": "https://localhost:8080/",
          "height": 428
        }
      },
      "outputs": [
        {
          "output_type": "execute_result",
          "data": {
            "text/plain": [
              "                                                                                                                                                                                                        title  \\\n",
              "id                                                                                                                                                                                                              \n",
              "1                                                                                     innovative and driven professional seeking a role in data analyticsdata science in the information technology industry.   \n",
              "2      ms applied data science student usc research assistant usc former data analytics intern at dr reddys laboratories former data science intern quadratyx actively seeking full time roles in summer 2025   \n",
              "3                                                                                  computer science student seeking full-time software engineerdeveloper positions ai sql data visualization toolspython ssrs   \n",
              "4   microsoft certified power bi data analyst mba business analytics unt business intelligence engineer data scientist data engineer business analytics predictive analytics statistical analysis ex-ericsson   \n",
              "5                                                                                                                            graduate research assistant at uab masters in data science student at uab ex jio   \n",
              "\n",
              "         location  screening_score  \n",
              "id                                  \n",
              "1   United States              100  \n",
              "2   United States              100  \n",
              "3   United States              100  \n",
              "4   United States              100  \n",
              "5   United States              100  "
            ],
            "text/html": [
              "\n",
              "  <div id=\"df-c74ca601-6dac-44cd-9af1-5dde440946bb\" class=\"colab-df-container\">\n",
              "    <div>\n",
              "<style scoped>\n",
              "    .dataframe tbody tr th:only-of-type {\n",
              "        vertical-align: middle;\n",
              "    }\n",
              "\n",
              "    .dataframe tbody tr th {\n",
              "        vertical-align: top;\n",
              "    }\n",
              "\n",
              "    .dataframe thead th {\n",
              "        text-align: right;\n",
              "    }\n",
              "</style>\n",
              "<table border=\"1\" class=\"dataframe\">\n",
              "  <thead>\n",
              "    <tr style=\"text-align: right;\">\n",
              "      <th></th>\n",
              "      <th>title</th>\n",
              "      <th>location</th>\n",
              "      <th>screening_score</th>\n",
              "    </tr>\n",
              "    <tr>\n",
              "      <th>id</th>\n",
              "      <th></th>\n",
              "      <th></th>\n",
              "      <th></th>\n",
              "    </tr>\n",
              "  </thead>\n",
              "  <tbody>\n",
              "    <tr>\n",
              "      <th>1</th>\n",
              "      <td>innovative and driven professional seeking a role in data analyticsdata science in the information technology industry.</td>\n",
              "      <td>United States</td>\n",
              "      <td>100</td>\n",
              "    </tr>\n",
              "    <tr>\n",
              "      <th>2</th>\n",
              "      <td>ms applied data science student usc research assistant usc former data analytics intern at dr reddys laboratories former data science intern quadratyx actively seeking full time roles in summer 2025</td>\n",
              "      <td>United States</td>\n",
              "      <td>100</td>\n",
              "    </tr>\n",
              "    <tr>\n",
              "      <th>3</th>\n",
              "      <td>computer science student seeking full-time software engineerdeveloper positions ai sql data visualization toolspython ssrs</td>\n",
              "      <td>United States</td>\n",
              "      <td>100</td>\n",
              "    </tr>\n",
              "    <tr>\n",
              "      <th>4</th>\n",
              "      <td>microsoft certified power bi data analyst mba business analytics unt business intelligence engineer data scientist data engineer business analytics predictive analytics statistical analysis ex-ericsson</td>\n",
              "      <td>United States</td>\n",
              "      <td>100</td>\n",
              "    </tr>\n",
              "    <tr>\n",
              "      <th>5</th>\n",
              "      <td>graduate research assistant at uab masters in data science student at uab ex jio</td>\n",
              "      <td>United States</td>\n",
              "      <td>100</td>\n",
              "    </tr>\n",
              "  </tbody>\n",
              "</table>\n",
              "</div>\n",
              "    <div class=\"colab-df-buttons\">\n",
              "\n",
              "  <div class=\"colab-df-container\">\n",
              "    <button class=\"colab-df-convert\" onclick=\"convertToInteractive('df-c74ca601-6dac-44cd-9af1-5dde440946bb')\"\n",
              "            title=\"Convert this dataframe to an interactive table.\"\n",
              "            style=\"display:none;\">\n",
              "\n",
              "  <svg xmlns=\"http://www.w3.org/2000/svg\" height=\"24px\" viewBox=\"0 -960 960 960\">\n",
              "    <path d=\"M120-120v-720h720v720H120Zm60-500h600v-160H180v160Zm220 220h160v-160H400v160Zm0 220h160v-160H400v160ZM180-400h160v-160H180v160Zm440 0h160v-160H620v160ZM180-180h160v-160H180v160Zm440 0h160v-160H620v160Z\"/>\n",
              "  </svg>\n",
              "    </button>\n",
              "\n",
              "  <style>\n",
              "    .colab-df-container {\n",
              "      display:flex;\n",
              "      gap: 12px;\n",
              "    }\n",
              "\n",
              "    .colab-df-convert {\n",
              "      background-color: #E8F0FE;\n",
              "      border: none;\n",
              "      border-radius: 50%;\n",
              "      cursor: pointer;\n",
              "      display: none;\n",
              "      fill: #1967D2;\n",
              "      height: 32px;\n",
              "      padding: 0 0 0 0;\n",
              "      width: 32px;\n",
              "    }\n",
              "\n",
              "    .colab-df-convert:hover {\n",
              "      background-color: #E2EBFA;\n",
              "      box-shadow: 0px 1px 2px rgba(60, 64, 67, 0.3), 0px 1px 3px 1px rgba(60, 64, 67, 0.15);\n",
              "      fill: #174EA6;\n",
              "    }\n",
              "\n",
              "    .colab-df-buttons div {\n",
              "      margin-bottom: 4px;\n",
              "    }\n",
              "\n",
              "    [theme=dark] .colab-df-convert {\n",
              "      background-color: #3B4455;\n",
              "      fill: #D2E3FC;\n",
              "    }\n",
              "\n",
              "    [theme=dark] .colab-df-convert:hover {\n",
              "      background-color: #434B5C;\n",
              "      box-shadow: 0px 1px 3px 1px rgba(0, 0, 0, 0.15);\n",
              "      filter: drop-shadow(0px 1px 2px rgba(0, 0, 0, 0.3));\n",
              "      fill: #FFFFFF;\n",
              "    }\n",
              "  </style>\n",
              "\n",
              "    <script>\n",
              "      const buttonEl =\n",
              "        document.querySelector('#df-c74ca601-6dac-44cd-9af1-5dde440946bb button.colab-df-convert');\n",
              "      buttonEl.style.display =\n",
              "        google.colab.kernel.accessAllowed ? 'block' : 'none';\n",
              "\n",
              "      async function convertToInteractive(key) {\n",
              "        const element = document.querySelector('#df-c74ca601-6dac-44cd-9af1-5dde440946bb');\n",
              "        const dataTable =\n",
              "          await google.colab.kernel.invokeFunction('convertToInteractive',\n",
              "                                                    [key], {});\n",
              "        if (!dataTable) return;\n",
              "\n",
              "        const docLinkHtml = 'Like what you see? Visit the ' +\n",
              "          '<a target=\"_blank\" href=https://colab.research.google.com/notebooks/data_table.ipynb>data table notebook</a>'\n",
              "          + ' to learn more about interactive tables.';\n",
              "        element.innerHTML = '';\n",
              "        dataTable['output_type'] = 'display_data';\n",
              "        await google.colab.output.renderOutput(dataTable, element);\n",
              "        const docLink = document.createElement('div');\n",
              "        docLink.innerHTML = docLinkHtml;\n",
              "        element.appendChild(docLink);\n",
              "      }\n",
              "    </script>\n",
              "  </div>\n",
              "\n",
              "\n",
              "    <div id=\"df-68861010-23bd-4fc8-a251-76719bbd9086\">\n",
              "      <button class=\"colab-df-quickchart\" onclick=\"quickchart('df-68861010-23bd-4fc8-a251-76719bbd9086')\"\n",
              "                title=\"Suggest charts\"\n",
              "                style=\"display:none;\">\n",
              "\n",
              "<svg xmlns=\"http://www.w3.org/2000/svg\" height=\"24px\"viewBox=\"0 0 24 24\"\n",
              "     width=\"24px\">\n",
              "    <g>\n",
              "        <path d=\"M19 3H5c-1.1 0-2 .9-2 2v14c0 1.1.9 2 2 2h14c1.1 0 2-.9 2-2V5c0-1.1-.9-2-2-2zM9 17H7v-7h2v7zm4 0h-2V7h2v10zm4 0h-2v-4h2v4z\"/>\n",
              "    </g>\n",
              "</svg>\n",
              "      </button>\n",
              "\n",
              "<style>\n",
              "  .colab-df-quickchart {\n",
              "      --bg-color: #E8F0FE;\n",
              "      --fill-color: #1967D2;\n",
              "      --hover-bg-color: #E2EBFA;\n",
              "      --hover-fill-color: #174EA6;\n",
              "      --disabled-fill-color: #AAA;\n",
              "      --disabled-bg-color: #DDD;\n",
              "  }\n",
              "\n",
              "  [theme=dark] .colab-df-quickchart {\n",
              "      --bg-color: #3B4455;\n",
              "      --fill-color: #D2E3FC;\n",
              "      --hover-bg-color: #434B5C;\n",
              "      --hover-fill-color: #FFFFFF;\n",
              "      --disabled-bg-color: #3B4455;\n",
              "      --disabled-fill-color: #666;\n",
              "  }\n",
              "\n",
              "  .colab-df-quickchart {\n",
              "    background-color: var(--bg-color);\n",
              "    border: none;\n",
              "    border-radius: 50%;\n",
              "    cursor: pointer;\n",
              "    display: none;\n",
              "    fill: var(--fill-color);\n",
              "    height: 32px;\n",
              "    padding: 0;\n",
              "    width: 32px;\n",
              "  }\n",
              "\n",
              "  .colab-df-quickchart:hover {\n",
              "    background-color: var(--hover-bg-color);\n",
              "    box-shadow: 0 1px 2px rgba(60, 64, 67, 0.3), 0 1px 3px 1px rgba(60, 64, 67, 0.15);\n",
              "    fill: var(--button-hover-fill-color);\n",
              "  }\n",
              "\n",
              "  .colab-df-quickchart-complete:disabled,\n",
              "  .colab-df-quickchart-complete:disabled:hover {\n",
              "    background-color: var(--disabled-bg-color);\n",
              "    fill: var(--disabled-fill-color);\n",
              "    box-shadow: none;\n",
              "  }\n",
              "\n",
              "  .colab-df-spinner {\n",
              "    border: 2px solid var(--fill-color);\n",
              "    border-color: transparent;\n",
              "    border-bottom-color: var(--fill-color);\n",
              "    animation:\n",
              "      spin 1s steps(1) infinite;\n",
              "  }\n",
              "\n",
              "  @keyframes spin {\n",
              "    0% {\n",
              "      border-color: transparent;\n",
              "      border-bottom-color: var(--fill-color);\n",
              "      border-left-color: var(--fill-color);\n",
              "    }\n",
              "    20% {\n",
              "      border-color: transparent;\n",
              "      border-left-color: var(--fill-color);\n",
              "      border-top-color: var(--fill-color);\n",
              "    }\n",
              "    30% {\n",
              "      border-color: transparent;\n",
              "      border-left-color: var(--fill-color);\n",
              "      border-top-color: var(--fill-color);\n",
              "      border-right-color: var(--fill-color);\n",
              "    }\n",
              "    40% {\n",
              "      border-color: transparent;\n",
              "      border-right-color: var(--fill-color);\n",
              "      border-top-color: var(--fill-color);\n",
              "    }\n",
              "    60% {\n",
              "      border-color: transparent;\n",
              "      border-right-color: var(--fill-color);\n",
              "    }\n",
              "    80% {\n",
              "      border-color: transparent;\n",
              "      border-right-color: var(--fill-color);\n",
              "      border-bottom-color: var(--fill-color);\n",
              "    }\n",
              "    90% {\n",
              "      border-color: transparent;\n",
              "      border-bottom-color: var(--fill-color);\n",
              "    }\n",
              "  }\n",
              "</style>\n",
              "\n",
              "      <script>\n",
              "        async function quickchart(key) {\n",
              "          const quickchartButtonEl =\n",
              "            document.querySelector('#' + key + ' button');\n",
              "          quickchartButtonEl.disabled = true;  // To prevent multiple clicks.\n",
              "          quickchartButtonEl.classList.add('colab-df-spinner');\n",
              "          try {\n",
              "            const charts = await google.colab.kernel.invokeFunction(\n",
              "                'suggestCharts', [key], {});\n",
              "          } catch (error) {\n",
              "            console.error('Error during call to suggestCharts:', error);\n",
              "          }\n",
              "          quickchartButtonEl.classList.remove('colab-df-spinner');\n",
              "          quickchartButtonEl.classList.add('colab-df-quickchart-complete');\n",
              "        }\n",
              "        (() => {\n",
              "          let quickchartButtonEl =\n",
              "            document.querySelector('#df-68861010-23bd-4fc8-a251-76719bbd9086 button');\n",
              "          quickchartButtonEl.style.display =\n",
              "            google.colab.kernel.accessAllowed ? 'block' : 'none';\n",
              "        })();\n",
              "      </script>\n",
              "    </div>\n",
              "\n",
              "    </div>\n",
              "  </div>\n"
            ],
            "application/vnd.google.colaboratory.intrinsic+json": {
              "type": "dataframe",
              "variable_name": "df",
              "summary": "{\n  \"name\": \"df\",\n  \"rows\": 1285,\n  \"fields\": [\n    {\n      \"column\": \"id\",\n      \"properties\": {\n        \"dtype\": \"number\",\n        \"std\": 371,\n        \"min\": 1,\n        \"max\": 1285,\n        \"num_unique_values\": 1285,\n        \"samples\": [\n          1246,\n          728,\n          623\n        ],\n        \"semantic_type\": \"\",\n        \"description\": \"\"\n      }\n    },\n    {\n      \"column\": \"title\",\n      \"properties\": {\n        \"dtype\": \"string\",\n        \"num_unique_values\": 1206,\n        \"samples\": [\n          \"masters in data science python sql skilled in data analyst power bi\",\n          \"ex-research data scientist at watts water data science and analytics graduate student northeastern university\",\n          \"python developer\"\n        ],\n        \"semantic_type\": \"\",\n        \"description\": \"\"\n      }\n    },\n    {\n      \"column\": \"location\",\n      \"properties\": {\n        \"dtype\": \"category\",\n        \"num_unique_values\": 40,\n        \"samples\": [\n          \"South Africa\",\n          \"Lebanon\",\n          \"Jordan\"\n        ],\n        \"semantic_type\": \"\",\n        \"description\": \"\"\n      }\n    },\n    {\n      \"column\": \"screening_score\",\n      \"properties\": {\n        \"dtype\": \"number\",\n        \"std\": 32,\n        \"min\": 0,\n        \"max\": 100,\n        \"num_unique_values\": 20,\n        \"samples\": [\n          100,\n          60,\n          15\n        ],\n        \"semantic_type\": \"\",\n        \"description\": \"\"\n      }\n    }\n  ]\n}"
            }
          },
          "metadata": {},
          "execution_count": 6
        }
      ],
      "source": [
        "df = pd.read_excel('/content/Dataset for Potential Talents.xlsx').set_index('id')\n",
        "df.head()"
      ]
    },
    {
      "cell_type": "code",
      "execution_count": 7,
      "id": "f1b6513a",
      "metadata": {
        "id": "f1b6513a",
        "outputId": "5889562a-5345-452a-ec0c-a10d48c85315",
        "colab": {
          "base_uri": "https://localhost:8080/",
          "height": 541
        }
      },
      "outputs": [
        {
          "output_type": "execute_result",
          "data": {
            "text/plain": [
              "job_title\n",
              "data analyst                                                                                                    19\n",
              "data scientist                                                                                                  16\n",
              "--                                                                                                              15\n",
              "software engineer                                                                                                5\n",
              "researcher                                                                                                       3\n",
              "                                                                                                                ..\n",
              "masters in applied statistics and supply chain analyst for aldi                                                  1\n",
              "master of science in analytics at georgia institute of technology aspiring data scientist                        1\n",
              "data engineer student at iit and upm                                                                             1\n",
              "data science tech enthusiast python machine learning r programming sci-kit learn and other python libraries.     1\n",
              "Digital Marketing Strategist Growth Performance Marketing SEO PPC Social Media Expert                            1\n",
              "Name: count, Length: 1206, dtype: int64"
            ],
            "text/html": [
              "<div>\n",
              "<style scoped>\n",
              "    .dataframe tbody tr th:only-of-type {\n",
              "        vertical-align: middle;\n",
              "    }\n",
              "\n",
              "    .dataframe tbody tr th {\n",
              "        vertical-align: top;\n",
              "    }\n",
              "\n",
              "    .dataframe thead th {\n",
              "        text-align: right;\n",
              "    }\n",
              "</style>\n",
              "<table border=\"1\" class=\"dataframe\">\n",
              "  <thead>\n",
              "    <tr style=\"text-align: right;\">\n",
              "      <th></th>\n",
              "      <th>count</th>\n",
              "    </tr>\n",
              "    <tr>\n",
              "      <th>job_title</th>\n",
              "      <th></th>\n",
              "    </tr>\n",
              "  </thead>\n",
              "  <tbody>\n",
              "    <tr>\n",
              "      <th>data analyst</th>\n",
              "      <td>19</td>\n",
              "    </tr>\n",
              "    <tr>\n",
              "      <th>data scientist</th>\n",
              "      <td>16</td>\n",
              "    </tr>\n",
              "    <tr>\n",
              "      <th>--</th>\n",
              "      <td>15</td>\n",
              "    </tr>\n",
              "    <tr>\n",
              "      <th>software engineer</th>\n",
              "      <td>5</td>\n",
              "    </tr>\n",
              "    <tr>\n",
              "      <th>researcher</th>\n",
              "      <td>3</td>\n",
              "    </tr>\n",
              "    <tr>\n",
              "      <th>...</th>\n",
              "      <td>...</td>\n",
              "    </tr>\n",
              "    <tr>\n",
              "      <th>masters in applied statistics and supply chain analyst for aldi</th>\n",
              "      <td>1</td>\n",
              "    </tr>\n",
              "    <tr>\n",
              "      <th>master of science in analytics at georgia institute of technology aspiring data scientist</th>\n",
              "      <td>1</td>\n",
              "    </tr>\n",
              "    <tr>\n",
              "      <th>data engineer student at iit and upm</th>\n",
              "      <td>1</td>\n",
              "    </tr>\n",
              "    <tr>\n",
              "      <th>data science tech enthusiast python machine learning r programming sci-kit learn and other python libraries.</th>\n",
              "      <td>1</td>\n",
              "    </tr>\n",
              "    <tr>\n",
              "      <th>Digital Marketing Strategist Growth Performance Marketing SEO PPC Social Media Expert</th>\n",
              "      <td>1</td>\n",
              "    </tr>\n",
              "  </tbody>\n",
              "</table>\n",
              "<p>1206 rows × 1 columns</p>\n",
              "</div><br><label><b>dtype:</b> int64</label>"
            ]
          },
          "metadata": {},
          "execution_count": 7
        }
      ],
      "source": [
        "df.rename(columns={\"title\":\"job_title\"}, inplace=True)\n",
        "df.rename(columns={\"screening_score\":\"connection\"}, inplace=True)\n",
        "df.job_title.value_counts()"
      ]
    },
    {
      "cell_type": "code",
      "execution_count": 8,
      "id": "80da927d",
      "metadata": {
        "id": "80da927d",
        "outputId": "93f06ed4-3588-4cbe-c6b0-8e74292b24d8",
        "colab": {
          "base_uri": "https://localhost:8080/"
        }
      },
      "outputs": [
        {
          "output_type": "stream",
          "name": "stdout",
          "text": [
            "<class 'pandas.core.frame.DataFrame'>\n",
            "Index: 1285 entries, 1 to 1285\n",
            "Data columns (total 3 columns):\n",
            " #   Column      Non-Null Count  Dtype \n",
            "---  ------      --------------  ----- \n",
            " 0   job_title   1281 non-null   object\n",
            " 1   location    1285 non-null   object\n",
            " 2   connection  1285 non-null   int64 \n",
            "dtypes: int64(1), object(2)\n",
            "memory usage: 40.2+ KB\n"
          ]
        }
      ],
      "source": [
        "df.info()"
      ]
    },
    {
      "cell_type": "code",
      "execution_count": 9,
      "id": "e0d09bc7",
      "metadata": {
        "id": "e0d09bc7"
      },
      "outputs": [],
      "source": [
        "# dropping null values\n",
        "df = (df[~df['job_title'].isna()])"
      ]
    },
    {
      "cell_type": "code",
      "execution_count": 10,
      "id": "b9aa3b99",
      "metadata": {
        "id": "b9aa3b99",
        "outputId": "5e896d0e-3c2c-496d-e43a-7979f4d75313",
        "colab": {
          "base_uri": "https://localhost:8080/"
        }
      },
      "outputs": [
        {
          "output_type": "stream",
          "name": "stderr",
          "text": [
            "/tmp/ipython-input-3826282787.py:1: SettingWithCopyWarning: \n",
            "A value is trying to be set on a copy of a slice from a DataFrame\n",
            "\n",
            "See the caveats in the documentation: https://pandas.pydata.org/pandas-docs/stable/user_guide/indexing.html#returning-a-view-versus-a-copy\n",
            "  df.replace(\"--\", \"blank\", inplace=True)\n",
            "/tmp/ipython-input-3826282787.py:2: SettingWithCopyWarning: \n",
            "A value is trying to be set on a copy of a slice from a DataFrame\n",
            "\n",
            "See the caveats in the documentation: https://pandas.pydata.org/pandas-docs/stable/user_guide/indexing.html#returning-a-view-versus-a-copy\n",
            "  df.replace(\" \", \"blank\", inplace=True)\n",
            "/tmp/ipython-input-3826282787.py:3: SettingWithCopyWarning: \n",
            "A value is trying to be set on a copy of a slice from a DataFrame\n",
            "\n",
            "See the caveats in the documentation: https://pandas.pydata.org/pandas-docs/stable/user_guide/indexing.html#returning-a-view-versus-a-copy\n",
            "  df.replace(\".\", \"blank\", inplace=True)\n"
          ]
        }
      ],
      "source": [
        "df.replace(\"--\", \"blank\", inplace=True)\n",
        "df.replace(\" \", \"blank\", inplace=True)\n",
        "df.replace(\".\", \"blank\", inplace=True)"
      ]
    },
    {
      "cell_type": "code",
      "execution_count": 11,
      "id": "3f96ea72",
      "metadata": {
        "id": "3f96ea72",
        "outputId": "6c75325f-8ece-431c-dee1-854be523c00d",
        "colab": {
          "base_uri": "https://localhost:8080/",
          "height": 80
        }
      },
      "outputs": [
        {
          "output_type": "execute_result",
          "data": {
            "text/plain": [
              "Empty DataFrame\n",
              "Columns: [job_title, location, connection]\n",
              "Index: []"
            ],
            "text/html": [
              "\n",
              "  <div id=\"df-f2f26f6d-251c-47af-8f2e-6e540281e783\" class=\"colab-df-container\">\n",
              "    <div>\n",
              "<style scoped>\n",
              "    .dataframe tbody tr th:only-of-type {\n",
              "        vertical-align: middle;\n",
              "    }\n",
              "\n",
              "    .dataframe tbody tr th {\n",
              "        vertical-align: top;\n",
              "    }\n",
              "\n",
              "    .dataframe thead th {\n",
              "        text-align: right;\n",
              "    }\n",
              "</style>\n",
              "<table border=\"1\" class=\"dataframe\">\n",
              "  <thead>\n",
              "    <tr style=\"text-align: right;\">\n",
              "      <th></th>\n",
              "      <th>job_title</th>\n",
              "      <th>location</th>\n",
              "      <th>connection</th>\n",
              "    </tr>\n",
              "    <tr>\n",
              "      <th>id</th>\n",
              "      <th></th>\n",
              "      <th></th>\n",
              "      <th></th>\n",
              "    </tr>\n",
              "  </thead>\n",
              "  <tbody>\n",
              "  </tbody>\n",
              "</table>\n",
              "</div>\n",
              "    <div class=\"colab-df-buttons\">\n",
              "\n",
              "  <div class=\"colab-df-container\">\n",
              "    <button class=\"colab-df-convert\" onclick=\"convertToInteractive('df-f2f26f6d-251c-47af-8f2e-6e540281e783')\"\n",
              "            title=\"Convert this dataframe to an interactive table.\"\n",
              "            style=\"display:none;\">\n",
              "\n",
              "  <svg xmlns=\"http://www.w3.org/2000/svg\" height=\"24px\" viewBox=\"0 -960 960 960\">\n",
              "    <path d=\"M120-120v-720h720v720H120Zm60-500h600v-160H180v160Zm220 220h160v-160H400v160Zm0 220h160v-160H400v160ZM180-400h160v-160H180v160Zm440 0h160v-160H620v160ZM180-180h160v-160H180v160Zm440 0h160v-160H620v160Z\"/>\n",
              "  </svg>\n",
              "    </button>\n",
              "\n",
              "  <style>\n",
              "    .colab-df-container {\n",
              "      display:flex;\n",
              "      gap: 12px;\n",
              "    }\n",
              "\n",
              "    .colab-df-convert {\n",
              "      background-color: #E8F0FE;\n",
              "      border: none;\n",
              "      border-radius: 50%;\n",
              "      cursor: pointer;\n",
              "      display: none;\n",
              "      fill: #1967D2;\n",
              "      height: 32px;\n",
              "      padding: 0 0 0 0;\n",
              "      width: 32px;\n",
              "    }\n",
              "\n",
              "    .colab-df-convert:hover {\n",
              "      background-color: #E2EBFA;\n",
              "      box-shadow: 0px 1px 2px rgba(60, 64, 67, 0.3), 0px 1px 3px 1px rgba(60, 64, 67, 0.15);\n",
              "      fill: #174EA6;\n",
              "    }\n",
              "\n",
              "    .colab-df-buttons div {\n",
              "      margin-bottom: 4px;\n",
              "    }\n",
              "\n",
              "    [theme=dark] .colab-df-convert {\n",
              "      background-color: #3B4455;\n",
              "      fill: #D2E3FC;\n",
              "    }\n",
              "\n",
              "    [theme=dark] .colab-df-convert:hover {\n",
              "      background-color: #434B5C;\n",
              "      box-shadow: 0px 1px 3px 1px rgba(0, 0, 0, 0.15);\n",
              "      filter: drop-shadow(0px 1px 2px rgba(0, 0, 0, 0.3));\n",
              "      fill: #FFFFFF;\n",
              "    }\n",
              "  </style>\n",
              "\n",
              "    <script>\n",
              "      const buttonEl =\n",
              "        document.querySelector('#df-f2f26f6d-251c-47af-8f2e-6e540281e783 button.colab-df-convert');\n",
              "      buttonEl.style.display =\n",
              "        google.colab.kernel.accessAllowed ? 'block' : 'none';\n",
              "\n",
              "      async function convertToInteractive(key) {\n",
              "        const element = document.querySelector('#df-f2f26f6d-251c-47af-8f2e-6e540281e783');\n",
              "        const dataTable =\n",
              "          await google.colab.kernel.invokeFunction('convertToInteractive',\n",
              "                                                    [key], {});\n",
              "        if (!dataTable) return;\n",
              "\n",
              "        const docLinkHtml = 'Like what you see? Visit the ' +\n",
              "          '<a target=\"_blank\" href=https://colab.research.google.com/notebooks/data_table.ipynb>data table notebook</a>'\n",
              "          + ' to learn more about interactive tables.';\n",
              "        element.innerHTML = '';\n",
              "        dataTable['output_type'] = 'display_data';\n",
              "        await google.colab.output.renderOutput(dataTable, element);\n",
              "        const docLink = document.createElement('div');\n",
              "        docLink.innerHTML = docLinkHtml;\n",
              "        element.appendChild(docLink);\n",
              "      }\n",
              "    </script>\n",
              "  </div>\n",
              "\n",
              "\n",
              "    </div>\n",
              "  </div>\n"
            ],
            "application/vnd.google.colaboratory.intrinsic+json": {
              "type": "dataframe",
              "repr_error": "Out of range float values are not JSON compliant: nan"
            }
          },
          "metadata": {},
          "execution_count": 11
        }
      ],
      "source": [
        "df[df.job_title == ' ']"
      ]
    },
    {
      "cell_type": "code",
      "execution_count": 12,
      "id": "012b52aa",
      "metadata": {
        "id": "012b52aa",
        "outputId": "d2ac86be-58db-4074-d16f-02c4b00e425b",
        "colab": {
          "base_uri": "https://localhost:8080/"
        }
      },
      "outputs": [
        {
          "output_type": "stream",
          "name": "stdout",
          "text": [
            "<class 'pandas.core.frame.DataFrame'>\n",
            "Index: 1281 entries, 1 to 1285\n",
            "Data columns (total 3 columns):\n",
            " #   Column      Non-Null Count  Dtype \n",
            "---  ------      --------------  ----- \n",
            " 0   job_title   1281 non-null   object\n",
            " 1   location    1281 non-null   object\n",
            " 2   connection  1281 non-null   int64 \n",
            "dtypes: int64(1), object(2)\n",
            "memory usage: 40.0+ KB\n"
          ]
        }
      ],
      "source": [
        "df.info()"
      ]
    },
    {
      "cell_type": "code",
      "execution_count": 13,
      "id": "121f9a41",
      "metadata": {
        "id": "121f9a41"
      },
      "outputs": [],
      "source": [
        "# df.replace('500+ ','501', inplace=True)\n",
        "# df['connection'] = pd.to_numeric(df['connection'])"
      ]
    },
    {
      "cell_type": "code",
      "execution_count": 14,
      "id": "f900a4e9",
      "metadata": {
        "id": "f900a4e9",
        "outputId": "74650ed7-4c08-4b23-eeb4-f1fa89b30c3f",
        "colab": {
          "base_uri": "https://localhost:8080/",
          "height": 141
        }
      },
      "outputs": [
        {
          "output_type": "error",
          "ename": "NameError",
          "evalue": "name 'xxx' is not defined",
          "traceback": [
            "\u001b[0;31m---------------------------------------------------------------------------\u001b[0m",
            "\u001b[0;31mNameError\u001b[0m                                 Traceback (most recent call last)",
            "\u001b[0;32m/tmp/ipython-input-2387606105.py\u001b[0m in \u001b[0;36m<cell line: 0>\u001b[0;34m()\u001b[0m\n\u001b[0;32m----> 1\u001b[0;31m \u001b[0mxxx\u001b[0m\u001b[0;34m\u001b[0m\u001b[0;34m\u001b[0m\u001b[0m\n\u001b[0m",
            "\u001b[0;31mNameError\u001b[0m: name 'xxx' is not defined"
          ]
        }
      ],
      "source": [
        "xxx"
      ]
    },
    {
      "cell_type": "markdown",
      "id": "3f55ecb1",
      "metadata": {
        "id": "3f55ecb1"
      },
      "source": [
        "# TF-IDF"
      ]
    },
    {
      "cell_type": "markdown",
      "id": "24fb042a",
      "metadata": {
        "id": "24fb042a"
      },
      "source": [
        "Term Frequency-Inverse Document Frequency (Statistical Method)\n",
        "### Prepping our Text for Modelling\n"
      ]
    },
    {
      "cell_type": "code",
      "execution_count": 16,
      "id": "163e0dea",
      "metadata": {
        "id": "163e0dea"
      },
      "outputs": [],
      "source": [
        "from sklearn.feature_extraction.text import TfidfVectorizer\n",
        "from sklearn.metrics.pairwise import cosine_similarity\n",
        "\n",
        "# Prep our Text for Modelling\n",
        "vectorizer = TfidfVectorizer(stop_words='english', ngram_range = (1, 2))\n",
        "docs_tfidf = vectorizer.fit_transform(df[\"job_title\"])"
      ]
    },
    {
      "cell_type": "code",
      "execution_count": 17,
      "id": "2fbb8e09",
      "metadata": {
        "id": "2fbb8e09"
      },
      "outputs": [],
      "source": [
        "def get_tf_idf_query_similarity(vectorizer, docs_tfidf, query):\n",
        "    \"\"\"\n",
        "    vectorizer: TfIdfVectorizer model\n",
        "    docs_tfidf: tfidf vectors for all docs\n",
        "    query: query doc\n",
        "\n",
        "    return: cosine similarity between query and all docs\n",
        "    \"\"\"\n",
        "    query_tfidf = vectorizer.transform([query])\n",
        "    cos_sim = cosine_similarity(query_tfidf, docs_tfidf).flatten()\n",
        "\n",
        "    return cos_sim"
      ]
    },
    {
      "cell_type": "code",
      "execution_count": 18,
      "id": "caf75f54",
      "metadata": {
        "id": "caf75f54"
      },
      "outputs": [],
      "source": [
        "def top_candidates(n, by = 'tfidf_fit', ascending = False, min_con = 0, location = df.location):\n",
        "\n",
        "    df2 = df.loc[(df.connection >= min_con) &\n",
        "                 (df[by] > 0) &\n",
        "                 (df.location == location)].sort_values(by = by, ascending = ascending).head(n).copy()\n",
        "\n",
        "    if df2.empty:\n",
        "        return \"There are no suitable candidates\"\n",
        "\n",
        "    else:\n",
        "        return df2"
      ]
    },
    {
      "cell_type": "code",
      "execution_count": 19,
      "id": "4420fffe",
      "metadata": {
        "id": "4420fffe",
        "colab": {
          "base_uri": "https://localhost:8080/",
          "height": 206
        },
        "outputId": "bbca0fb4-ce29-4a25-e43f-26ef4e5eb92b"
      },
      "outputs": [
        {
          "output_type": "execute_result",
          "data": {
            "text/plain": [
              "         job_title       location  connection  tfidf_fit\n",
              "id                                                      \n",
              "900   data analyst    New Zealand          70        1.0\n",
              "1222  DATA ANALYST          India           0        1.0\n",
              "697   data analyst  United States          80        1.0\n",
              "363   data analyst  United States         100        1.0"
            ],
            "text/html": [
              "\n",
              "  <div id=\"df-1f97fdb0-20c4-4e26-8cf6-f033862fa994\" class=\"colab-df-container\">\n",
              "    <div>\n",
              "<style scoped>\n",
              "    .dataframe tbody tr th:only-of-type {\n",
              "        vertical-align: middle;\n",
              "    }\n",
              "\n",
              "    .dataframe tbody tr th {\n",
              "        vertical-align: top;\n",
              "    }\n",
              "\n",
              "    .dataframe thead th {\n",
              "        text-align: right;\n",
              "    }\n",
              "</style>\n",
              "<table border=\"1\" class=\"dataframe\">\n",
              "  <thead>\n",
              "    <tr style=\"text-align: right;\">\n",
              "      <th></th>\n",
              "      <th>job_title</th>\n",
              "      <th>location</th>\n",
              "      <th>connection</th>\n",
              "      <th>tfidf_fit</th>\n",
              "    </tr>\n",
              "    <tr>\n",
              "      <th>id</th>\n",
              "      <th></th>\n",
              "      <th></th>\n",
              "      <th></th>\n",
              "      <th></th>\n",
              "    </tr>\n",
              "  </thead>\n",
              "  <tbody>\n",
              "    <tr>\n",
              "      <th>900</th>\n",
              "      <td>data analyst</td>\n",
              "      <td>New Zealand</td>\n",
              "      <td>70</td>\n",
              "      <td>1.0</td>\n",
              "    </tr>\n",
              "    <tr>\n",
              "      <th>1222</th>\n",
              "      <td>DATA ANALYST</td>\n",
              "      <td>India</td>\n",
              "      <td>0</td>\n",
              "      <td>1.0</td>\n",
              "    </tr>\n",
              "    <tr>\n",
              "      <th>697</th>\n",
              "      <td>data analyst</td>\n",
              "      <td>United States</td>\n",
              "      <td>80</td>\n",
              "      <td>1.0</td>\n",
              "    </tr>\n",
              "    <tr>\n",
              "      <th>363</th>\n",
              "      <td>data analyst</td>\n",
              "      <td>United States</td>\n",
              "      <td>100</td>\n",
              "      <td>1.0</td>\n",
              "    </tr>\n",
              "  </tbody>\n",
              "</table>\n",
              "</div>\n",
              "    <div class=\"colab-df-buttons\">\n",
              "\n",
              "  <div class=\"colab-df-container\">\n",
              "    <button class=\"colab-df-convert\" onclick=\"convertToInteractive('df-1f97fdb0-20c4-4e26-8cf6-f033862fa994')\"\n",
              "            title=\"Convert this dataframe to an interactive table.\"\n",
              "            style=\"display:none;\">\n",
              "\n",
              "  <svg xmlns=\"http://www.w3.org/2000/svg\" height=\"24px\" viewBox=\"0 -960 960 960\">\n",
              "    <path d=\"M120-120v-720h720v720H120Zm60-500h600v-160H180v160Zm220 220h160v-160H400v160Zm0 220h160v-160H400v160ZM180-400h160v-160H180v160Zm440 0h160v-160H620v160ZM180-180h160v-160H180v160Zm440 0h160v-160H620v160Z\"/>\n",
              "  </svg>\n",
              "    </button>\n",
              "\n",
              "  <style>\n",
              "    .colab-df-container {\n",
              "      display:flex;\n",
              "      gap: 12px;\n",
              "    }\n",
              "\n",
              "    .colab-df-convert {\n",
              "      background-color: #E8F0FE;\n",
              "      border: none;\n",
              "      border-radius: 50%;\n",
              "      cursor: pointer;\n",
              "      display: none;\n",
              "      fill: #1967D2;\n",
              "      height: 32px;\n",
              "      padding: 0 0 0 0;\n",
              "      width: 32px;\n",
              "    }\n",
              "\n",
              "    .colab-df-convert:hover {\n",
              "      background-color: #E2EBFA;\n",
              "      box-shadow: 0px 1px 2px rgba(60, 64, 67, 0.3), 0px 1px 3px 1px rgba(60, 64, 67, 0.15);\n",
              "      fill: #174EA6;\n",
              "    }\n",
              "\n",
              "    .colab-df-buttons div {\n",
              "      margin-bottom: 4px;\n",
              "    }\n",
              "\n",
              "    [theme=dark] .colab-df-convert {\n",
              "      background-color: #3B4455;\n",
              "      fill: #D2E3FC;\n",
              "    }\n",
              "\n",
              "    [theme=dark] .colab-df-convert:hover {\n",
              "      background-color: #434B5C;\n",
              "      box-shadow: 0px 1px 3px 1px rgba(0, 0, 0, 0.15);\n",
              "      filter: drop-shadow(0px 1px 2px rgba(0, 0, 0, 0.3));\n",
              "      fill: #FFFFFF;\n",
              "    }\n",
              "  </style>\n",
              "\n",
              "    <script>\n",
              "      const buttonEl =\n",
              "        document.querySelector('#df-1f97fdb0-20c4-4e26-8cf6-f033862fa994 button.colab-df-convert');\n",
              "      buttonEl.style.display =\n",
              "        google.colab.kernel.accessAllowed ? 'block' : 'none';\n",
              "\n",
              "      async function convertToInteractive(key) {\n",
              "        const element = document.querySelector('#df-1f97fdb0-20c4-4e26-8cf6-f033862fa994');\n",
              "        const dataTable =\n",
              "          await google.colab.kernel.invokeFunction('convertToInteractive',\n",
              "                                                    [key], {});\n",
              "        if (!dataTable) return;\n",
              "\n",
              "        const docLinkHtml = 'Like what you see? Visit the ' +\n",
              "          '<a target=\"_blank\" href=https://colab.research.google.com/notebooks/data_table.ipynb>data table notebook</a>'\n",
              "          + ' to learn more about interactive tables.';\n",
              "        element.innerHTML = '';\n",
              "        dataTable['output_type'] = 'display_data';\n",
              "        await google.colab.output.renderOutput(dataTable, element);\n",
              "        const docLink = document.createElement('div');\n",
              "        docLink.innerHTML = docLinkHtml;\n",
              "        element.appendChild(docLink);\n",
              "      }\n",
              "    </script>\n",
              "  </div>\n",
              "\n",
              "\n",
              "    <div id=\"df-950b9b07-9ea2-4fd1-b99d-160006100d81\">\n",
              "      <button class=\"colab-df-quickchart\" onclick=\"quickchart('df-950b9b07-9ea2-4fd1-b99d-160006100d81')\"\n",
              "                title=\"Suggest charts\"\n",
              "                style=\"display:none;\">\n",
              "\n",
              "<svg xmlns=\"http://www.w3.org/2000/svg\" height=\"24px\"viewBox=\"0 0 24 24\"\n",
              "     width=\"24px\">\n",
              "    <g>\n",
              "        <path d=\"M19 3H5c-1.1 0-2 .9-2 2v14c0 1.1.9 2 2 2h14c1.1 0 2-.9 2-2V5c0-1.1-.9-2-2-2zM9 17H7v-7h2v7zm4 0h-2V7h2v10zm4 0h-2v-4h2v4z\"/>\n",
              "    </g>\n",
              "</svg>\n",
              "      </button>\n",
              "\n",
              "<style>\n",
              "  .colab-df-quickchart {\n",
              "      --bg-color: #E8F0FE;\n",
              "      --fill-color: #1967D2;\n",
              "      --hover-bg-color: #E2EBFA;\n",
              "      --hover-fill-color: #174EA6;\n",
              "      --disabled-fill-color: #AAA;\n",
              "      --disabled-bg-color: #DDD;\n",
              "  }\n",
              "\n",
              "  [theme=dark] .colab-df-quickchart {\n",
              "      --bg-color: #3B4455;\n",
              "      --fill-color: #D2E3FC;\n",
              "      --hover-bg-color: #434B5C;\n",
              "      --hover-fill-color: #FFFFFF;\n",
              "      --disabled-bg-color: #3B4455;\n",
              "      --disabled-fill-color: #666;\n",
              "  }\n",
              "\n",
              "  .colab-df-quickchart {\n",
              "    background-color: var(--bg-color);\n",
              "    border: none;\n",
              "    border-radius: 50%;\n",
              "    cursor: pointer;\n",
              "    display: none;\n",
              "    fill: var(--fill-color);\n",
              "    height: 32px;\n",
              "    padding: 0;\n",
              "    width: 32px;\n",
              "  }\n",
              "\n",
              "  .colab-df-quickchart:hover {\n",
              "    background-color: var(--hover-bg-color);\n",
              "    box-shadow: 0 1px 2px rgba(60, 64, 67, 0.3), 0 1px 3px 1px rgba(60, 64, 67, 0.15);\n",
              "    fill: var(--button-hover-fill-color);\n",
              "  }\n",
              "\n",
              "  .colab-df-quickchart-complete:disabled,\n",
              "  .colab-df-quickchart-complete:disabled:hover {\n",
              "    background-color: var(--disabled-bg-color);\n",
              "    fill: var(--disabled-fill-color);\n",
              "    box-shadow: none;\n",
              "  }\n",
              "\n",
              "  .colab-df-spinner {\n",
              "    border: 2px solid var(--fill-color);\n",
              "    border-color: transparent;\n",
              "    border-bottom-color: var(--fill-color);\n",
              "    animation:\n",
              "      spin 1s steps(1) infinite;\n",
              "  }\n",
              "\n",
              "  @keyframes spin {\n",
              "    0% {\n",
              "      border-color: transparent;\n",
              "      border-bottom-color: var(--fill-color);\n",
              "      border-left-color: var(--fill-color);\n",
              "    }\n",
              "    20% {\n",
              "      border-color: transparent;\n",
              "      border-left-color: var(--fill-color);\n",
              "      border-top-color: var(--fill-color);\n",
              "    }\n",
              "    30% {\n",
              "      border-color: transparent;\n",
              "      border-left-color: var(--fill-color);\n",
              "      border-top-color: var(--fill-color);\n",
              "      border-right-color: var(--fill-color);\n",
              "    }\n",
              "    40% {\n",
              "      border-color: transparent;\n",
              "      border-right-color: var(--fill-color);\n",
              "      border-top-color: var(--fill-color);\n",
              "    }\n",
              "    60% {\n",
              "      border-color: transparent;\n",
              "      border-right-color: var(--fill-color);\n",
              "    }\n",
              "    80% {\n",
              "      border-color: transparent;\n",
              "      border-right-color: var(--fill-color);\n",
              "      border-bottom-color: var(--fill-color);\n",
              "    }\n",
              "    90% {\n",
              "      border-color: transparent;\n",
              "      border-bottom-color: var(--fill-color);\n",
              "    }\n",
              "  }\n",
              "</style>\n",
              "\n",
              "      <script>\n",
              "        async function quickchart(key) {\n",
              "          const quickchartButtonEl =\n",
              "            document.querySelector('#' + key + ' button');\n",
              "          quickchartButtonEl.disabled = true;  // To prevent multiple clicks.\n",
              "          quickchartButtonEl.classList.add('colab-df-spinner');\n",
              "          try {\n",
              "            const charts = await google.colab.kernel.invokeFunction(\n",
              "                'suggestCharts', [key], {});\n",
              "          } catch (error) {\n",
              "            console.error('Error during call to suggestCharts:', error);\n",
              "          }\n",
              "          quickchartButtonEl.classList.remove('colab-df-spinner');\n",
              "          quickchartButtonEl.classList.add('colab-df-quickchart-complete');\n",
              "        }\n",
              "        (() => {\n",
              "          let quickchartButtonEl =\n",
              "            document.querySelector('#df-950b9b07-9ea2-4fd1-b99d-160006100d81 button');\n",
              "          quickchartButtonEl.style.display =\n",
              "            google.colab.kernel.accessAllowed ? 'block' : 'none';\n",
              "        })();\n",
              "      </script>\n",
              "    </div>\n",
              "\n",
              "    </div>\n",
              "  </div>\n"
            ],
            "application/vnd.google.colaboratory.intrinsic+json": {
              "type": "dataframe",
              "summary": "{\n  \"name\": \"top_candidates(n = 4)\",\n  \"rows\": 4,\n  \"fields\": [\n    {\n      \"column\": \"id\",\n      \"properties\": {\n        \"dtype\": \"number\",\n        \"std\": 360,\n        \"min\": 363,\n        \"max\": 1222,\n        \"num_unique_values\": 4,\n        \"samples\": [\n          1222,\n          363,\n          900\n        ],\n        \"semantic_type\": \"\",\n        \"description\": \"\"\n      }\n    },\n    {\n      \"column\": \"job_title\",\n      \"properties\": {\n        \"dtype\": \"string\",\n        \"num_unique_values\": 2,\n        \"samples\": [\n          \"DATA ANALYST\",\n          \"data analyst\"\n        ],\n        \"semantic_type\": \"\",\n        \"description\": \"\"\n      }\n    },\n    {\n      \"column\": \"location\",\n      \"properties\": {\n        \"dtype\": \"string\",\n        \"num_unique_values\": 3,\n        \"samples\": [\n          \"New Zealand\",\n          \"India\"\n        ],\n        \"semantic_type\": \"\",\n        \"description\": \"\"\n      }\n    },\n    {\n      \"column\": \"connection\",\n      \"properties\": {\n        \"dtype\": \"number\",\n        \"std\": 43,\n        \"min\": 0,\n        \"max\": 100,\n        \"num_unique_values\": 4,\n        \"samples\": [\n          0,\n          100\n        ],\n        \"semantic_type\": \"\",\n        \"description\": \"\"\n      }\n    },\n    {\n      \"column\": \"tfidf_fit\",\n      \"properties\": {\n        \"dtype\": \"number\",\n        \"std\": 0.0,\n        \"min\": 1.0,\n        \"max\": 1.0,\n        \"num_unique_values\": 1,\n        \"samples\": [\n          1.0\n        ],\n        \"semantic_type\": \"\",\n        \"description\": \"\"\n      }\n    }\n  ]\n}"
            }
          },
          "metadata": {},
          "execution_count": 19
        }
      ],
      "source": [
        "query = 'Data Analyst'\n",
        "\n",
        "cos_sim = get_tf_idf_query_similarity(vectorizer, docs_tfidf, query)\n",
        "\n",
        "df['tfidf_fit'] = cos_sim\n",
        "\n",
        "top_candidates(n = 4)"
      ]
    },
    {
      "cell_type": "code",
      "execution_count": 20,
      "id": "de620ae1",
      "metadata": {
        "id": "de620ae1",
        "colab": {
          "base_uri": "https://localhost:8080/",
          "height": 394
        },
        "outputId": "436202a9-e20b-46d2-d183-8ffe7b2e4279"
      },
      "outputs": [
        {
          "output_type": "execute_result",
          "data": {
            "text/plain": [
              "           tfidf_fit\n",
              "id                  \n",
              "900     data analyst\n",
              "1222    DATA ANALYST\n",
              "697     data analyst\n",
              "363     data analyst\n",
              "1194    data analyst\n",
              "728   data analyst 2\n",
              "741     data analyst\n",
              "589     data analyst\n",
              "754     data analyst\n",
              "74      data analyst"
            ],
            "text/html": [
              "\n",
              "  <div id=\"df-26fd6b5e-dd24-4275-b1d2-22192de25f57\" class=\"colab-df-container\">\n",
              "    <div>\n",
              "<style scoped>\n",
              "    .dataframe tbody tr th:only-of-type {\n",
              "        vertical-align: middle;\n",
              "    }\n",
              "\n",
              "    .dataframe tbody tr th {\n",
              "        vertical-align: top;\n",
              "    }\n",
              "\n",
              "    .dataframe thead th {\n",
              "        text-align: right;\n",
              "    }\n",
              "</style>\n",
              "<table border=\"1\" class=\"dataframe\">\n",
              "  <thead>\n",
              "    <tr style=\"text-align: right;\">\n",
              "      <th></th>\n",
              "      <th>tfidf_fit</th>\n",
              "    </tr>\n",
              "    <tr>\n",
              "      <th>id</th>\n",
              "      <th></th>\n",
              "    </tr>\n",
              "  </thead>\n",
              "  <tbody>\n",
              "    <tr>\n",
              "      <th>900</th>\n",
              "      <td>data analyst</td>\n",
              "    </tr>\n",
              "    <tr>\n",
              "      <th>1222</th>\n",
              "      <td>DATA ANALYST</td>\n",
              "    </tr>\n",
              "    <tr>\n",
              "      <th>697</th>\n",
              "      <td>data analyst</td>\n",
              "    </tr>\n",
              "    <tr>\n",
              "      <th>363</th>\n",
              "      <td>data analyst</td>\n",
              "    </tr>\n",
              "    <tr>\n",
              "      <th>1194</th>\n",
              "      <td>data analyst</td>\n",
              "    </tr>\n",
              "    <tr>\n",
              "      <th>728</th>\n",
              "      <td>data analyst 2</td>\n",
              "    </tr>\n",
              "    <tr>\n",
              "      <th>741</th>\n",
              "      <td>data analyst</td>\n",
              "    </tr>\n",
              "    <tr>\n",
              "      <th>589</th>\n",
              "      <td>data analyst</td>\n",
              "    </tr>\n",
              "    <tr>\n",
              "      <th>754</th>\n",
              "      <td>data analyst</td>\n",
              "    </tr>\n",
              "    <tr>\n",
              "      <th>74</th>\n",
              "      <td>data analyst</td>\n",
              "    </tr>\n",
              "  </tbody>\n",
              "</table>\n",
              "</div>\n",
              "    <div class=\"colab-df-buttons\">\n",
              "\n",
              "  <div class=\"colab-df-container\">\n",
              "    <button class=\"colab-df-convert\" onclick=\"convertToInteractive('df-26fd6b5e-dd24-4275-b1d2-22192de25f57')\"\n",
              "            title=\"Convert this dataframe to an interactive table.\"\n",
              "            style=\"display:none;\">\n",
              "\n",
              "  <svg xmlns=\"http://www.w3.org/2000/svg\" height=\"24px\" viewBox=\"0 -960 960 960\">\n",
              "    <path d=\"M120-120v-720h720v720H120Zm60-500h600v-160H180v160Zm220 220h160v-160H400v160Zm0 220h160v-160H400v160ZM180-400h160v-160H180v160Zm440 0h160v-160H620v160ZM180-180h160v-160H180v160Zm440 0h160v-160H620v160Z\"/>\n",
              "  </svg>\n",
              "    </button>\n",
              "\n",
              "  <style>\n",
              "    .colab-df-container {\n",
              "      display:flex;\n",
              "      gap: 12px;\n",
              "    }\n",
              "\n",
              "    .colab-df-convert {\n",
              "      background-color: #E8F0FE;\n",
              "      border: none;\n",
              "      border-radius: 50%;\n",
              "      cursor: pointer;\n",
              "      display: none;\n",
              "      fill: #1967D2;\n",
              "      height: 32px;\n",
              "      padding: 0 0 0 0;\n",
              "      width: 32px;\n",
              "    }\n",
              "\n",
              "    .colab-df-convert:hover {\n",
              "      background-color: #E2EBFA;\n",
              "      box-shadow: 0px 1px 2px rgba(60, 64, 67, 0.3), 0px 1px 3px 1px rgba(60, 64, 67, 0.15);\n",
              "      fill: #174EA6;\n",
              "    }\n",
              "\n",
              "    .colab-df-buttons div {\n",
              "      margin-bottom: 4px;\n",
              "    }\n",
              "\n",
              "    [theme=dark] .colab-df-convert {\n",
              "      background-color: #3B4455;\n",
              "      fill: #D2E3FC;\n",
              "    }\n",
              "\n",
              "    [theme=dark] .colab-df-convert:hover {\n",
              "      background-color: #434B5C;\n",
              "      box-shadow: 0px 1px 3px 1px rgba(0, 0, 0, 0.15);\n",
              "      filter: drop-shadow(0px 1px 2px rgba(0, 0, 0, 0.3));\n",
              "      fill: #FFFFFF;\n",
              "    }\n",
              "  </style>\n",
              "\n",
              "    <script>\n",
              "      const buttonEl =\n",
              "        document.querySelector('#df-26fd6b5e-dd24-4275-b1d2-22192de25f57 button.colab-df-convert');\n",
              "      buttonEl.style.display =\n",
              "        google.colab.kernel.accessAllowed ? 'block' : 'none';\n",
              "\n",
              "      async function convertToInteractive(key) {\n",
              "        const element = document.querySelector('#df-26fd6b5e-dd24-4275-b1d2-22192de25f57');\n",
              "        const dataTable =\n",
              "          await google.colab.kernel.invokeFunction('convertToInteractive',\n",
              "                                                    [key], {});\n",
              "        if (!dataTable) return;\n",
              "\n",
              "        const docLinkHtml = 'Like what you see? Visit the ' +\n",
              "          '<a target=\"_blank\" href=https://colab.research.google.com/notebooks/data_table.ipynb>data table notebook</a>'\n",
              "          + ' to learn more about interactive tables.';\n",
              "        element.innerHTML = '';\n",
              "        dataTable['output_type'] = 'display_data';\n",
              "        await google.colab.output.renderOutput(dataTable, element);\n",
              "        const docLink = document.createElement('div');\n",
              "        docLink.innerHTML = docLinkHtml;\n",
              "        element.appendChild(docLink);\n",
              "      }\n",
              "    </script>\n",
              "  </div>\n",
              "\n",
              "\n",
              "    <div id=\"df-e8982249-b3dc-4ab3-8252-2ad8ce5ae781\">\n",
              "      <button class=\"colab-df-quickchart\" onclick=\"quickchart('df-e8982249-b3dc-4ab3-8252-2ad8ce5ae781')\"\n",
              "                title=\"Suggest charts\"\n",
              "                style=\"display:none;\">\n",
              "\n",
              "<svg xmlns=\"http://www.w3.org/2000/svg\" height=\"24px\"viewBox=\"0 0 24 24\"\n",
              "     width=\"24px\">\n",
              "    <g>\n",
              "        <path d=\"M19 3H5c-1.1 0-2 .9-2 2v14c0 1.1.9 2 2 2h14c1.1 0 2-.9 2-2V5c0-1.1-.9-2-2-2zM9 17H7v-7h2v7zm4 0h-2V7h2v10zm4 0h-2v-4h2v4z\"/>\n",
              "    </g>\n",
              "</svg>\n",
              "      </button>\n",
              "\n",
              "<style>\n",
              "  .colab-df-quickchart {\n",
              "      --bg-color: #E8F0FE;\n",
              "      --fill-color: #1967D2;\n",
              "      --hover-bg-color: #E2EBFA;\n",
              "      --hover-fill-color: #174EA6;\n",
              "      --disabled-fill-color: #AAA;\n",
              "      --disabled-bg-color: #DDD;\n",
              "  }\n",
              "\n",
              "  [theme=dark] .colab-df-quickchart {\n",
              "      --bg-color: #3B4455;\n",
              "      --fill-color: #D2E3FC;\n",
              "      --hover-bg-color: #434B5C;\n",
              "      --hover-fill-color: #FFFFFF;\n",
              "      --disabled-bg-color: #3B4455;\n",
              "      --disabled-fill-color: #666;\n",
              "  }\n",
              "\n",
              "  .colab-df-quickchart {\n",
              "    background-color: var(--bg-color);\n",
              "    border: none;\n",
              "    border-radius: 50%;\n",
              "    cursor: pointer;\n",
              "    display: none;\n",
              "    fill: var(--fill-color);\n",
              "    height: 32px;\n",
              "    padding: 0;\n",
              "    width: 32px;\n",
              "  }\n",
              "\n",
              "  .colab-df-quickchart:hover {\n",
              "    background-color: var(--hover-bg-color);\n",
              "    box-shadow: 0 1px 2px rgba(60, 64, 67, 0.3), 0 1px 3px 1px rgba(60, 64, 67, 0.15);\n",
              "    fill: var(--button-hover-fill-color);\n",
              "  }\n",
              "\n",
              "  .colab-df-quickchart-complete:disabled,\n",
              "  .colab-df-quickchart-complete:disabled:hover {\n",
              "    background-color: var(--disabled-bg-color);\n",
              "    fill: var(--disabled-fill-color);\n",
              "    box-shadow: none;\n",
              "  }\n",
              "\n",
              "  .colab-df-spinner {\n",
              "    border: 2px solid var(--fill-color);\n",
              "    border-color: transparent;\n",
              "    border-bottom-color: var(--fill-color);\n",
              "    animation:\n",
              "      spin 1s steps(1) infinite;\n",
              "  }\n",
              "\n",
              "  @keyframes spin {\n",
              "    0% {\n",
              "      border-color: transparent;\n",
              "      border-bottom-color: var(--fill-color);\n",
              "      border-left-color: var(--fill-color);\n",
              "    }\n",
              "    20% {\n",
              "      border-color: transparent;\n",
              "      border-left-color: var(--fill-color);\n",
              "      border-top-color: var(--fill-color);\n",
              "    }\n",
              "    30% {\n",
              "      border-color: transparent;\n",
              "      border-left-color: var(--fill-color);\n",
              "      border-top-color: var(--fill-color);\n",
              "      border-right-color: var(--fill-color);\n",
              "    }\n",
              "    40% {\n",
              "      border-color: transparent;\n",
              "      border-right-color: var(--fill-color);\n",
              "      border-top-color: var(--fill-color);\n",
              "    }\n",
              "    60% {\n",
              "      border-color: transparent;\n",
              "      border-right-color: var(--fill-color);\n",
              "    }\n",
              "    80% {\n",
              "      border-color: transparent;\n",
              "      border-right-color: var(--fill-color);\n",
              "      border-bottom-color: var(--fill-color);\n",
              "    }\n",
              "    90% {\n",
              "      border-color: transparent;\n",
              "      border-bottom-color: var(--fill-color);\n",
              "    }\n",
              "  }\n",
              "</style>\n",
              "\n",
              "      <script>\n",
              "        async function quickchart(key) {\n",
              "          const quickchartButtonEl =\n",
              "            document.querySelector('#' + key + ' button');\n",
              "          quickchartButtonEl.disabled = true;  // To prevent multiple clicks.\n",
              "          quickchartButtonEl.classList.add('colab-df-spinner');\n",
              "          try {\n",
              "            const charts = await google.colab.kernel.invokeFunction(\n",
              "                'suggestCharts', [key], {});\n",
              "          } catch (error) {\n",
              "            console.error('Error during call to suggestCharts:', error);\n",
              "          }\n",
              "          quickchartButtonEl.classList.remove('colab-df-spinner');\n",
              "          quickchartButtonEl.classList.add('colab-df-quickchart-complete');\n",
              "        }\n",
              "        (() => {\n",
              "          let quickchartButtonEl =\n",
              "            document.querySelector('#df-e8982249-b3dc-4ab3-8252-2ad8ce5ae781 button');\n",
              "          quickchartButtonEl.style.display =\n",
              "            google.colab.kernel.accessAllowed ? 'block' : 'none';\n",
              "        })();\n",
              "      </script>\n",
              "    </div>\n",
              "\n",
              "  <div id=\"id_bf9d30ec-e704-4528-816c-02d0740c9ed8\">\n",
              "    <style>\n",
              "      .colab-df-generate {\n",
              "        background-color: #E8F0FE;\n",
              "        border: none;\n",
              "        border-radius: 50%;\n",
              "        cursor: pointer;\n",
              "        display: none;\n",
              "        fill: #1967D2;\n",
              "        height: 32px;\n",
              "        padding: 0 0 0 0;\n",
              "        width: 32px;\n",
              "      }\n",
              "\n",
              "      .colab-df-generate:hover {\n",
              "        background-color: #E2EBFA;\n",
              "        box-shadow: 0px 1px 2px rgba(60, 64, 67, 0.3), 0px 1px 3px 1px rgba(60, 64, 67, 0.15);\n",
              "        fill: #174EA6;\n",
              "      }\n",
              "\n",
              "      [theme=dark] .colab-df-generate {\n",
              "        background-color: #3B4455;\n",
              "        fill: #D2E3FC;\n",
              "      }\n",
              "\n",
              "      [theme=dark] .colab-df-generate:hover {\n",
              "        background-color: #434B5C;\n",
              "        box-shadow: 0px 1px 3px 1px rgba(0, 0, 0, 0.15);\n",
              "        filter: drop-shadow(0px 1px 2px rgba(0, 0, 0, 0.3));\n",
              "        fill: #FFFFFF;\n",
              "      }\n",
              "    </style>\n",
              "    <button class=\"colab-df-generate\" onclick=\"generateWithVariable('df_compare')\"\n",
              "            title=\"Generate code using this dataframe.\"\n",
              "            style=\"display:none;\">\n",
              "\n",
              "  <svg xmlns=\"http://www.w3.org/2000/svg\" height=\"24px\"viewBox=\"0 0 24 24\"\n",
              "       width=\"24px\">\n",
              "    <path d=\"M7,19H8.4L18.45,9,17,7.55,7,17.6ZM5,21V16.75L18.45,3.32a2,2,0,0,1,2.83,0l1.4,1.43a1.91,1.91,0,0,1,.58,1.4,1.91,1.91,0,0,1-.58,1.4L9.25,21ZM18.45,9,17,7.55Zm-12,3A5.31,5.31,0,0,0,4.9,8.1,5.31,5.31,0,0,0,1,6.5,5.31,5.31,0,0,0,4.9,4.9,5.31,5.31,0,0,0,6.5,1,5.31,5.31,0,0,0,8.1,4.9,5.31,5.31,0,0,0,12,6.5,5.46,5.46,0,0,0,6.5,12Z\"/>\n",
              "  </svg>\n",
              "    </button>\n",
              "    <script>\n",
              "      (() => {\n",
              "      const buttonEl =\n",
              "        document.querySelector('#id_bf9d30ec-e704-4528-816c-02d0740c9ed8 button.colab-df-generate');\n",
              "      buttonEl.style.display =\n",
              "        google.colab.kernel.accessAllowed ? 'block' : 'none';\n",
              "\n",
              "      buttonEl.onclick = () => {\n",
              "        google.colab.notebook.generateWithVariable('df_compare');\n",
              "      }\n",
              "      })();\n",
              "    </script>\n",
              "  </div>\n",
              "\n",
              "    </div>\n",
              "  </div>\n"
            ],
            "application/vnd.google.colaboratory.intrinsic+json": {
              "type": "dataframe",
              "variable_name": "df_compare",
              "summary": "{\n  \"name\": \"df_compare\",\n  \"rows\": 10,\n  \"fields\": [\n    {\n      \"column\": \"id\",\n      \"properties\": {\n        \"dtype\": \"number\",\n        \"std\": 345,\n        \"min\": 74,\n        \"max\": 1222,\n        \"num_unique_values\": 10,\n        \"samples\": [\n          754,\n          1222,\n          728\n        ],\n        \"semantic_type\": \"\",\n        \"description\": \"\"\n      }\n    },\n    {\n      \"column\": \"tfidf_fit\",\n      \"properties\": {\n        \"dtype\": \"category\",\n        \"num_unique_values\": 3,\n        \"samples\": [\n          \"data analyst\",\n          \"DATA ANALYST\",\n          \"data analyst 2\"\n        ],\n        \"semantic_type\": \"\",\n        \"description\": \"\"\n      }\n    }\n  ]\n}"
            }
          },
          "metadata": {},
          "execution_count": 20
        }
      ],
      "source": [
        "df_compare = pd.DataFrame()\n",
        "df_compare['tfidf_fit'] = top_candidates(n = 10)['job_title']\n",
        "df_compare"
      ]
    },
    {
      "cell_type": "code",
      "execution_count": 21,
      "id": "7b98ef9c",
      "metadata": {
        "id": "7b98ef9c"
      },
      "outputs": [],
      "source": [
        "# Reranking by learning to rank"
      ]
    },
    {
      "cell_type": "markdown",
      "id": "aaa36c8d",
      "metadata": {
        "id": "aaa36c8d"
      },
      "source": [
        "# Let's do this for Word2Vec, GloVe, Fasttext, BERT and finally GenAI"
      ]
    },
    {
      "cell_type": "markdown",
      "id": "6d5bd339",
      "metadata": {
        "id": "6d5bd339"
      },
      "source": [
        "# Word2Vec Gensim\n",
        "Word embedding"
      ]
    },
    {
      "cell_type": "markdown",
      "id": "fbc2982e",
      "metadata": {
        "id": "fbc2982e"
      },
      "source": [
        "### Prepping our Text for Modelling"
      ]
    },
    {
      "cell_type": "code",
      "execution_count": 22,
      "id": "d74b9db6",
      "metadata": {
        "id": "d74b9db6",
        "colab": {
          "base_uri": "https://localhost:8080/"
        },
        "outputId": "39825b3a-821e-4644-bf08-d99dbbcc92f0"
      },
      "outputs": [
        {
          "output_type": "stream",
          "name": "stderr",
          "text": [
            "[nltk_data] Downloading package stopwords to /root/nltk_data...\n",
            "[nltk_data]   Package stopwords is already up-to-date!\n"
          ]
        }
      ],
      "source": [
        "import re\n",
        "import nltk\n",
        "nltk.download('stopwords')\n",
        "\n",
        "# processing texts for modelling\n",
        "from nltk.corpus import stopwords\n",
        "stop_words = stopwords.words('english')\n",
        "df['job_title_cleaned'] = df.job_title.apply(lambda x: \" \".join(re.sub(r'[^a-zA-Z]',' ',w).lower()\n",
        "                                                            for w in x.split()\n",
        "                                                            if re.sub(r'[^a-zA-Z]',' ',w).lower()\n",
        "                                                            not in stop_words) ) #nltk.download('stopwords')"
      ]
    },
    {
      "cell_type": "code",
      "execution_count": 23,
      "id": "0179566d",
      "metadata": {
        "id": "0179566d",
        "colab": {
          "base_uri": "https://localhost:8080/",
          "height": 369
        },
        "outputId": "24bae33b-dd58-4c4d-fadd-88faa99c72d0"
      },
      "outputs": [
        {
          "output_type": "execute_result",
          "data": {
            "text/plain": [
              "                                                                                                                                                                                                 job_title  \\\n",
              "id                                                                                                                                                                                                           \n",
              "1                                                                                  innovative and driven professional seeking a role in data analyticsdata science in the information technology industry.   \n",
              "2   ms applied data science student usc research assistant usc former data analytics intern at dr reddys laboratories former data science intern quadratyx actively seeking full time roles in summer 2025   \n",
              "\n",
              "         location  connection  \\\n",
              "id                              \n",
              "1   United States         100   \n",
              "2   United States         100   \n",
              "\n",
              "                                                                                                                                                                                   job_title_cleaned  \n",
              "id                                                                                                                                                                                                    \n",
              "1                                                                                            innovative driven professional seeking role data analyticsdata science information technology industry   \n",
              "2   ms applied data science student usc research assistant usc former data analytics intern dr reddys laboratories former data science intern quadratyx actively seeking full time roles summer       "
            ],
            "text/html": [
              "\n",
              "  <div id=\"df-557b64f6-873f-42d6-a35f-0089a91e8989\" class=\"colab-df-container\">\n",
              "    <div>\n",
              "<style scoped>\n",
              "    .dataframe tbody tr th:only-of-type {\n",
              "        vertical-align: middle;\n",
              "    }\n",
              "\n",
              "    .dataframe tbody tr th {\n",
              "        vertical-align: top;\n",
              "    }\n",
              "\n",
              "    .dataframe thead th {\n",
              "        text-align: right;\n",
              "    }\n",
              "</style>\n",
              "<table border=\"1\" class=\"dataframe\">\n",
              "  <thead>\n",
              "    <tr style=\"text-align: right;\">\n",
              "      <th></th>\n",
              "      <th>job_title</th>\n",
              "      <th>location</th>\n",
              "      <th>connection</th>\n",
              "      <th>job_title_cleaned</th>\n",
              "    </tr>\n",
              "    <tr>\n",
              "      <th>id</th>\n",
              "      <th></th>\n",
              "      <th></th>\n",
              "      <th></th>\n",
              "      <th></th>\n",
              "    </tr>\n",
              "  </thead>\n",
              "  <tbody>\n",
              "    <tr>\n",
              "      <th>1</th>\n",
              "      <td>innovative and driven professional seeking a role in data analyticsdata science in the information technology industry.</td>\n",
              "      <td>United States</td>\n",
              "      <td>100</td>\n",
              "      <td>innovative driven professional seeking role data analyticsdata science information technology industry</td>\n",
              "    </tr>\n",
              "    <tr>\n",
              "      <th>2</th>\n",
              "      <td>ms applied data science student usc research assistant usc former data analytics intern at dr reddys laboratories former data science intern quadratyx actively seeking full time roles in summer 2025</td>\n",
              "      <td>United States</td>\n",
              "      <td>100</td>\n",
              "      <td>ms applied data science student usc research assistant usc former data analytics intern dr reddys laboratories former data science intern quadratyx actively seeking full time roles summer</td>\n",
              "    </tr>\n",
              "  </tbody>\n",
              "</table>\n",
              "</div>\n",
              "    <div class=\"colab-df-buttons\">\n",
              "\n",
              "  <div class=\"colab-df-container\">\n",
              "    <button class=\"colab-df-convert\" onclick=\"convertToInteractive('df-557b64f6-873f-42d6-a35f-0089a91e8989')\"\n",
              "            title=\"Convert this dataframe to an interactive table.\"\n",
              "            style=\"display:none;\">\n",
              "\n",
              "  <svg xmlns=\"http://www.w3.org/2000/svg\" height=\"24px\" viewBox=\"0 -960 960 960\">\n",
              "    <path d=\"M120-120v-720h720v720H120Zm60-500h600v-160H180v160Zm220 220h160v-160H400v160Zm0 220h160v-160H400v160ZM180-400h160v-160H180v160Zm440 0h160v-160H620v160ZM180-180h160v-160H180v160Zm440 0h160v-160H620v160Z\"/>\n",
              "  </svg>\n",
              "    </button>\n",
              "\n",
              "  <style>\n",
              "    .colab-df-container {\n",
              "      display:flex;\n",
              "      gap: 12px;\n",
              "    }\n",
              "\n",
              "    .colab-df-convert {\n",
              "      background-color: #E8F0FE;\n",
              "      border: none;\n",
              "      border-radius: 50%;\n",
              "      cursor: pointer;\n",
              "      display: none;\n",
              "      fill: #1967D2;\n",
              "      height: 32px;\n",
              "      padding: 0 0 0 0;\n",
              "      width: 32px;\n",
              "    }\n",
              "\n",
              "    .colab-df-convert:hover {\n",
              "      background-color: #E2EBFA;\n",
              "      box-shadow: 0px 1px 2px rgba(60, 64, 67, 0.3), 0px 1px 3px 1px rgba(60, 64, 67, 0.15);\n",
              "      fill: #174EA6;\n",
              "    }\n",
              "\n",
              "    .colab-df-buttons div {\n",
              "      margin-bottom: 4px;\n",
              "    }\n",
              "\n",
              "    [theme=dark] .colab-df-convert {\n",
              "      background-color: #3B4455;\n",
              "      fill: #D2E3FC;\n",
              "    }\n",
              "\n",
              "    [theme=dark] .colab-df-convert:hover {\n",
              "      background-color: #434B5C;\n",
              "      box-shadow: 0px 1px 3px 1px rgba(0, 0, 0, 0.15);\n",
              "      filter: drop-shadow(0px 1px 2px rgba(0, 0, 0, 0.3));\n",
              "      fill: #FFFFFF;\n",
              "    }\n",
              "  </style>\n",
              "\n",
              "    <script>\n",
              "      const buttonEl =\n",
              "        document.querySelector('#df-557b64f6-873f-42d6-a35f-0089a91e8989 button.colab-df-convert');\n",
              "      buttonEl.style.display =\n",
              "        google.colab.kernel.accessAllowed ? 'block' : 'none';\n",
              "\n",
              "      async function convertToInteractive(key) {\n",
              "        const element = document.querySelector('#df-557b64f6-873f-42d6-a35f-0089a91e8989');\n",
              "        const dataTable =\n",
              "          await google.colab.kernel.invokeFunction('convertToInteractive',\n",
              "                                                    [key], {});\n",
              "        if (!dataTable) return;\n",
              "\n",
              "        const docLinkHtml = 'Like what you see? Visit the ' +\n",
              "          '<a target=\"_blank\" href=https://colab.research.google.com/notebooks/data_table.ipynb>data table notebook</a>'\n",
              "          + ' to learn more about interactive tables.';\n",
              "        element.innerHTML = '';\n",
              "        dataTable['output_type'] = 'display_data';\n",
              "        await google.colab.output.renderOutput(dataTable, element);\n",
              "        const docLink = document.createElement('div');\n",
              "        docLink.innerHTML = docLinkHtml;\n",
              "        element.appendChild(docLink);\n",
              "      }\n",
              "    </script>\n",
              "  </div>\n",
              "\n",
              "\n",
              "    <div id=\"df-d301b800-6d14-4fb1-a8eb-1c906da21669\">\n",
              "      <button class=\"colab-df-quickchart\" onclick=\"quickchart('df-d301b800-6d14-4fb1-a8eb-1c906da21669')\"\n",
              "                title=\"Suggest charts\"\n",
              "                style=\"display:none;\">\n",
              "\n",
              "<svg xmlns=\"http://www.w3.org/2000/svg\" height=\"24px\"viewBox=\"0 0 24 24\"\n",
              "     width=\"24px\">\n",
              "    <g>\n",
              "        <path d=\"M19 3H5c-1.1 0-2 .9-2 2v14c0 1.1.9 2 2 2h14c1.1 0 2-.9 2-2V5c0-1.1-.9-2-2-2zM9 17H7v-7h2v7zm4 0h-2V7h2v10zm4 0h-2v-4h2v4z\"/>\n",
              "    </g>\n",
              "</svg>\n",
              "      </button>\n",
              "\n",
              "<style>\n",
              "  .colab-df-quickchart {\n",
              "      --bg-color: #E8F0FE;\n",
              "      --fill-color: #1967D2;\n",
              "      --hover-bg-color: #E2EBFA;\n",
              "      --hover-fill-color: #174EA6;\n",
              "      --disabled-fill-color: #AAA;\n",
              "      --disabled-bg-color: #DDD;\n",
              "  }\n",
              "\n",
              "  [theme=dark] .colab-df-quickchart {\n",
              "      --bg-color: #3B4455;\n",
              "      --fill-color: #D2E3FC;\n",
              "      --hover-bg-color: #434B5C;\n",
              "      --hover-fill-color: #FFFFFF;\n",
              "      --disabled-bg-color: #3B4455;\n",
              "      --disabled-fill-color: #666;\n",
              "  }\n",
              "\n",
              "  .colab-df-quickchart {\n",
              "    background-color: var(--bg-color);\n",
              "    border: none;\n",
              "    border-radius: 50%;\n",
              "    cursor: pointer;\n",
              "    display: none;\n",
              "    fill: var(--fill-color);\n",
              "    height: 32px;\n",
              "    padding: 0;\n",
              "    width: 32px;\n",
              "  }\n",
              "\n",
              "  .colab-df-quickchart:hover {\n",
              "    background-color: var(--hover-bg-color);\n",
              "    box-shadow: 0 1px 2px rgba(60, 64, 67, 0.3), 0 1px 3px 1px rgba(60, 64, 67, 0.15);\n",
              "    fill: var(--button-hover-fill-color);\n",
              "  }\n",
              "\n",
              "  .colab-df-quickchart-complete:disabled,\n",
              "  .colab-df-quickchart-complete:disabled:hover {\n",
              "    background-color: var(--disabled-bg-color);\n",
              "    fill: var(--disabled-fill-color);\n",
              "    box-shadow: none;\n",
              "  }\n",
              "\n",
              "  .colab-df-spinner {\n",
              "    border: 2px solid var(--fill-color);\n",
              "    border-color: transparent;\n",
              "    border-bottom-color: var(--fill-color);\n",
              "    animation:\n",
              "      spin 1s steps(1) infinite;\n",
              "  }\n",
              "\n",
              "  @keyframes spin {\n",
              "    0% {\n",
              "      border-color: transparent;\n",
              "      border-bottom-color: var(--fill-color);\n",
              "      border-left-color: var(--fill-color);\n",
              "    }\n",
              "    20% {\n",
              "      border-color: transparent;\n",
              "      border-left-color: var(--fill-color);\n",
              "      border-top-color: var(--fill-color);\n",
              "    }\n",
              "    30% {\n",
              "      border-color: transparent;\n",
              "      border-left-color: var(--fill-color);\n",
              "      border-top-color: var(--fill-color);\n",
              "      border-right-color: var(--fill-color);\n",
              "    }\n",
              "    40% {\n",
              "      border-color: transparent;\n",
              "      border-right-color: var(--fill-color);\n",
              "      border-top-color: var(--fill-color);\n",
              "    }\n",
              "    60% {\n",
              "      border-color: transparent;\n",
              "      border-right-color: var(--fill-color);\n",
              "    }\n",
              "    80% {\n",
              "      border-color: transparent;\n",
              "      border-right-color: var(--fill-color);\n",
              "      border-bottom-color: var(--fill-color);\n",
              "    }\n",
              "    90% {\n",
              "      border-color: transparent;\n",
              "      border-bottom-color: var(--fill-color);\n",
              "    }\n",
              "  }\n",
              "</style>\n",
              "\n",
              "      <script>\n",
              "        async function quickchart(key) {\n",
              "          const quickchartButtonEl =\n",
              "            document.querySelector('#' + key + ' button');\n",
              "          quickchartButtonEl.disabled = true;  // To prevent multiple clicks.\n",
              "          quickchartButtonEl.classList.add('colab-df-spinner');\n",
              "          try {\n",
              "            const charts = await google.colab.kernel.invokeFunction(\n",
              "                'suggestCharts', [key], {});\n",
              "          } catch (error) {\n",
              "            console.error('Error during call to suggestCharts:', error);\n",
              "          }\n",
              "          quickchartButtonEl.classList.remove('colab-df-spinner');\n",
              "          quickchartButtonEl.classList.add('colab-df-quickchart-complete');\n",
              "        }\n",
              "        (() => {\n",
              "          let quickchartButtonEl =\n",
              "            document.querySelector('#df-d301b800-6d14-4fb1-a8eb-1c906da21669 button');\n",
              "          quickchartButtonEl.style.display =\n",
              "            google.colab.kernel.accessAllowed ? 'block' : 'none';\n",
              "        })();\n",
              "      </script>\n",
              "    </div>\n",
              "\n",
              "    </div>\n",
              "  </div>\n"
            ],
            "application/vnd.google.colaboratory.intrinsic+json": {
              "type": "dataframe",
              "variable_name": "df",
              "summary": "{\n  \"name\": \"df\",\n  \"rows\": 1281,\n  \"fields\": [\n    {\n      \"column\": \"id\",\n      \"properties\": {\n        \"dtype\": \"number\",\n        \"std\": 370,\n        \"min\": 1,\n        \"max\": 1285,\n        \"num_unique_values\": 1281,\n        \"samples\": [\n          1246,\n          767,\n          1225\n        ],\n        \"semantic_type\": \"\",\n        \"description\": \"\"\n      }\n    },\n    {\n      \"column\": \"job_title\",\n      \"properties\": {\n        \"dtype\": \"string\",\n        \"num_unique_values\": 1205,\n        \"samples\": [\n          \"masters in data science python sql skilled in data analyst power bi\",\n          \"data analyst graduate teaching assistant data science umbc salesforce certified associate python sql\",\n          \"Data Scientist Data Analyst AI ML Engineer Data Engineer Passionate About Turning Data into Intelligent Solutions\"\n        ],\n        \"semantic_type\": \"\",\n        \"description\": \"\"\n      }\n    },\n    {\n      \"column\": \"location\",\n      \"properties\": {\n        \"dtype\": \"category\",\n        \"num_unique_values\": 39,\n        \"samples\": [\n          \"Nepal\",\n          \"Ghana\",\n          \"China\"\n        ],\n        \"semantic_type\": \"\",\n        \"description\": \"\"\n      }\n    },\n    {\n      \"column\": \"connection\",\n      \"properties\": {\n        \"dtype\": \"number\",\n        \"std\": 32,\n        \"min\": 0,\n        \"max\": 100,\n        \"num_unique_values\": 19,\n        \"samples\": [\n          100,\n          82,\n          30\n        ],\n        \"semantic_type\": \"\",\n        \"description\": \"\"\n      }\n    },\n    {\n      \"column\": \"job_title_cleaned\",\n      \"properties\": {\n        \"dtype\": \"string\",\n        \"num_unique_values\": 1198,\n        \"samples\": [\n          \"data analyst mlops engineer orchestrating infrastructure algorithms scalable ai solutions transforming data actionable insights business growth\",\n          \"m sc data science brown\",\n          \"masters data science python sql skilled data analyst power bi\"\n        ],\n        \"semantic_type\": \"\",\n        \"description\": \"\"\n      }\n    }\n  ]\n}"
            }
          },
          "metadata": {},
          "execution_count": 23
        }
      ],
      "source": [
        "# drop tfidf_fit column to preserve column order later\n",
        "df.drop(columns=\"tfidf_fit\", inplace=True)\n",
        "df.head(2)"
      ]
    },
    {
      "cell_type": "code",
      "source": [
        "# !pip install keras_preprocessing"
      ],
      "metadata": {
        "id": "5fv1JNw18gUk"
      },
      "id": "5fv1JNw18gUk",
      "execution_count": 24,
      "outputs": []
    },
    {
      "cell_type": "code",
      "source": [
        "# !pip uninstall numpy\n"
      ],
      "metadata": {
        "id": "SnRD7TGEBqkH"
      },
      "id": "SnRD7TGEBqkH",
      "execution_count": 25,
      "outputs": []
    },
    {
      "cell_type": "code",
      "source": [
        "# !pip install \"numpy<2.0\""
      ],
      "metadata": {
        "id": "Iq5nwVdEB8oD"
      },
      "id": "Iq5nwVdEB8oD",
      "execution_count": 26,
      "outputs": []
    },
    {
      "cell_type": "code",
      "source": [
        "import numpy as np\n",
        "print(np.__version__)"
      ],
      "metadata": {
        "colab": {
          "base_uri": "https://localhost:8080/"
        },
        "id": "F8GO1BjmBJZ4",
        "outputId": "c79f97d1-a98f-47eb-a4b7-593b015ef24c"
      },
      "id": "F8GO1BjmBJZ4",
      "execution_count": 27,
      "outputs": [
        {
          "output_type": "stream",
          "name": "stdout",
          "text": [
            "1.26.4\n"
          ]
        }
      ]
    },
    {
      "cell_type": "code",
      "execution_count": 28,
      "id": "44746de1",
      "metadata": {
        "id": "44746de1"
      },
      "outputs": [],
      "source": [
        "from tensorflow import keras\n",
        "\n",
        "# tokenize and pad every document to make them of the same size\n",
        "from tensorflow.keras.preprocessing.text import Tokenizer\n",
        "\n",
        "# from keras.layers import TextVectorization\n",
        "from keras_preprocessing.sequence import pad_sequences\n",
        "tokenizer=Tokenizer()\n",
        "\n",
        "tokenizer.fit_on_texts(df.job_title_cleaned)\n",
        "tokenized_documents=tokenizer.texts_to_sequences(df.job_title_cleaned)\n",
        "tokenized_paded_documents=pad_sequences(tokenized_documents,maxlen=64,padding='post')\n",
        "vocab_size=len(tokenizer.word_index)+1"
      ]
    },
    {
      "cell_type": "code",
      "source": [
        "!pip install gensim"
      ],
      "metadata": {
        "id": "gbhI4P02C610",
        "outputId": "eb13c57b-5a7d-4807-aeaa-a16952f5b023",
        "colab": {
          "base_uri": "https://localhost:8080/",
          "height": 481
        }
      },
      "id": "gbhI4P02C610",
      "execution_count": 30,
      "outputs": [
        {
          "output_type": "stream",
          "name": "stdout",
          "text": [
            "Collecting gensim\n",
            "  Downloading gensim-4.3.3-cp311-cp311-manylinux_2_17_x86_64.manylinux2014_x86_64.whl.metadata (8.1 kB)\n",
            "Requirement already satisfied: numpy<2.0,>=1.18.5 in /usr/local/lib/python3.11/dist-packages (from gensim) (1.26.4)\n",
            "Collecting scipy<1.14.0,>=1.7.0 (from gensim)\n",
            "  Downloading scipy-1.13.1-cp311-cp311-manylinux_2_17_x86_64.manylinux2014_x86_64.whl.metadata (60 kB)\n",
            "\u001b[2K     \u001b[90m━━━━━━━━━━━━━━━━━━━━━━━━━━━━━━━━━━━━━━━━\u001b[0m \u001b[32m60.6/60.6 kB\u001b[0m \u001b[31m4.3 MB/s\u001b[0m eta \u001b[36m0:00:00\u001b[0m\n",
            "\u001b[?25hRequirement already satisfied: smart-open>=1.8.1 in /usr/local/lib/python3.11/dist-packages (from gensim) (7.3.0.post1)\n",
            "Requirement already satisfied: wrapt in /usr/local/lib/python3.11/dist-packages (from smart-open>=1.8.1->gensim) (1.17.2)\n",
            "Downloading gensim-4.3.3-cp311-cp311-manylinux_2_17_x86_64.manylinux2014_x86_64.whl (26.7 MB)\n",
            "\u001b[2K   \u001b[90m━━━━━━━━━━━━━━━━━━━━━━━━━━━━━━━━━━━━━━━━\u001b[0m \u001b[32m26.7/26.7 MB\u001b[0m \u001b[31m19.2 MB/s\u001b[0m eta \u001b[36m0:00:00\u001b[0m\n",
            "\u001b[?25hDownloading scipy-1.13.1-cp311-cp311-manylinux_2_17_x86_64.manylinux2014_x86_64.whl (38.6 MB)\n",
            "\u001b[2K   \u001b[90m━━━━━━━━━━━━━━━━━━━━━━━━━━━━━━━━━━━━━━━━\u001b[0m \u001b[32m38.6/38.6 MB\u001b[0m \u001b[31m6.5 MB/s\u001b[0m eta \u001b[36m0:00:00\u001b[0m\n",
            "\u001b[?25hInstalling collected packages: scipy, gensim\n",
            "  Attempting uninstall: scipy\n",
            "    Found existing installation: scipy 1.16.1\n",
            "    Uninstalling scipy-1.16.1:\n",
            "      Successfully uninstalled scipy-1.16.1\n",
            "\u001b[31mERROR: pip's dependency resolver does not currently take into account all the packages that are installed. This behaviour is the source of the following dependency conflicts.\n",
            "tsfresh 0.21.0 requires scipy>=1.14.0; python_version >= \"3.10\", but you have scipy 1.13.1 which is incompatible.\u001b[0m\u001b[31m\n",
            "\u001b[0mSuccessfully installed gensim-4.3.3 scipy-1.13.1\n"
          ]
        },
        {
          "output_type": "display_data",
          "data": {
            "application/vnd.colab-display-data+json": {
              "pip_warning": {
                "packages": [
                  "scipy"
                ]
              },
              "id": "5837dca55782417a873e2ebac242a754"
            }
          },
          "metadata": {}
        }
      ]
    },
    {
      "cell_type": "code",
      "execution_count": 31,
      "id": "3a72658e",
      "metadata": {
        "scrolled": false,
        "id": "3a72658e",
        "colab": {
          "base_uri": "https://localhost:8080/",
          "height": 245
        },
        "outputId": "e295df55-1a8d-4d3c-e514-c47fa7426c95"
      },
      "outputs": [
        {
          "output_type": "error",
          "ename": "FileNotFoundError",
          "evalue": "[Errno 2] No such file or directory: 'C:\\\\Users\\\\Alex Chung\\\\Documents\\\\the_Lab\\\\Apziva\\\\Potential Talent'",
          "traceback": [
            "\u001b[0;31m---------------------------------------------------------------------------\u001b[0m",
            "\u001b[0;31mFileNotFoundError\u001b[0m                         Traceback (most recent call last)",
            "\u001b[0;32m/tmp/ipython-input-3385182191.py\u001b[0m in \u001b[0;36m<cell line: 0>\u001b[0;34m()\u001b[0m\n\u001b[1;32m      3\u001b[0m \u001b[0;34m\u001b[0m\u001b[0m\n\u001b[1;32m      4\u001b[0m \u001b[0;31m# Navigating to directory where pre-trained embeddings were downloaded\u001b[0m\u001b[0;34m\u001b[0m\u001b[0;34m\u001b[0m\u001b[0m\n\u001b[0;32m----> 5\u001b[0;31m \u001b[0mos\u001b[0m\u001b[0;34m.\u001b[0m\u001b[0mchdir\u001b[0m\u001b[0;34m(\u001b[0m\u001b[0;34mr\"C:\\Users\\Alex Chung\\Documents\\the_Lab\\Apziva\\Potential Talent\"\u001b[0m\u001b[0;34m)\u001b[0m\u001b[0;34m\u001b[0m\u001b[0;34m\u001b[0m\u001b[0m\n\u001b[0m\u001b[1;32m      6\u001b[0m \u001b[0;31m# W2V_PATH=\"GoogleNews-vectors-negative300.bin.gz\"\u001b[0m\u001b[0;34m\u001b[0m\u001b[0;34m\u001b[0m\u001b[0m\n\u001b[1;32m      7\u001b[0m \u001b[0mW2V_PATH\u001b[0m\u001b[0;34m=\u001b[0m\u001b[0;34m\"GoogleNews-vectors-negative300.bin\"\u001b[0m\u001b[0;34m\u001b[0m\u001b[0;34m\u001b[0m\u001b[0m\n",
            "\u001b[0;31mFileNotFoundError\u001b[0m: [Errno 2] No such file or directory: 'C:\\\\Users\\\\Alex Chung\\\\Documents\\\\the_Lab\\\\Apziva\\\\Potential Talent'"
          ]
        }
      ],
      "source": [
        "# loading pre-trained embeddings, each word is represented as a 300 dimensional vector\n",
        "import gensim\n",
        "\n",
        "# Navigating to directory where pre-trained embeddings were downloaded\n",
        "os.chdir(r\"C:\\Users\\Alex Chung\\Documents\\the_Lab\\Apziva\\Potential Talent\")\n",
        "# W2V_PATH=\"GoogleNews-vectors-negative300.bin.gz\"\n",
        "W2V_PATH=\"GoogleNews-vectors-negative300.bin\""
      ]
    },
    {
      "cell_type": "code",
      "execution_count": null,
      "id": "95a9e0a8",
      "metadata": {
        "id": "95a9e0a8"
      },
      "outputs": [],
      "source": [
        "path = os.getcwd()+'\\\\GoogleNews-vectors-negative300.bin\\\\'"
      ]
    },
    {
      "cell_type": "code",
      "execution_count": null,
      "id": "e74884a6",
      "metadata": {
        "id": "e74884a6"
      },
      "outputs": [],
      "source": [
        "# loading word2vec model\n",
        "model_w2v = gensim.models.KeyedVectors.load_word2vec_format(path+W2V_PATH, binary=True)\n",
        "model_w2v[0][:4]"
      ]
    },
    {
      "cell_type": "code",
      "execution_count": null,
      "id": "ce34bb3a",
      "metadata": {
        "id": "ce34bb3a"
      },
      "outputs": [],
      "source": [
        "# creating embedding matrix, every row is a vector representation from the vocabulary indexed by the tokenizer index.\n",
        "embedding_matrix=np.zeros((vocab_size,300))\n",
        "for word,i in tokenizer.word_index.items():\n",
        "    if word in model_w2v:\n",
        "        embedding_matrix[i]=model_w2v[word]\n",
        "\n",
        "# creating document-word embeddings\n",
        "document_word_embeddings=np.zeros((len(tokenized_paded_documents),64,300))\n",
        "for i in range(len(tokenized_paded_documents)):\n",
        "    for j in range(len(tokenized_paded_documents[0])):\n",
        "        document_word_embeddings[i][j]=embedding_matrix[tokenized_paded_documents[i][j]]\n",
        "document_word_embeddings.shape"
      ]
    },
    {
      "cell_type": "code",
      "execution_count": null,
      "id": "70a1ebd1",
      "metadata": {
        "scrolled": false,
        "id": "70a1ebd1"
      },
      "outputs": [],
      "source": [
        "# document_word_embeddings[0][0][:10]"
      ]
    },
    {
      "cell_type": "code",
      "execution_count": null,
      "id": "27058ba1",
      "metadata": {
        "scrolled": true,
        "id": "27058ba1"
      },
      "outputs": [],
      "source": [
        "# model_w2v['england'][:5]"
      ]
    },
    {
      "cell_type": "code",
      "execution_count": null,
      "id": "0794d886",
      "metadata": {
        "scrolled": true,
        "id": "0794d886"
      },
      "outputs": [],
      "source": [
        "def processing(query):\n",
        "    df3 = pd.DataFrame([query], columns=['query'])\n",
        "    stop_words = stopwords.words('english')\n",
        "    df3['processed'] = df3['query'].apply(lambda x: \" \".join(re.sub(r'[^a-zA-Z]',' ',w).lower()\n",
        "                                                                                for w in x.split()\n",
        "                                                                                if re.sub(r'[^a-zA-Z]',' ',w).lower()\n",
        "                                                                                not in stop_words) )\n",
        "\n",
        "    tokenizer.fit_on_texts(df3.processed)\n",
        "    tokenized_documents=tokenizer.texts_to_sequences(df3.processed)\n",
        "    tokenized_paded_documents=pad_sequences(tokenized_documents,maxlen=64,padding='post')\n",
        "    vocab_size=len(tokenizer.word_index)+1\n",
        "\n",
        "    embedding_matrix=np.zeros((vocab_size,300))\n",
        "    for word,i in tokenizer.word_index.items():\n",
        "        if word in model_w2v:\n",
        "            embedding_matrix[i]=model_w2v[word]\n",
        "\n",
        "    # creating document-word embeddings\n",
        "    query_document_word_embeddings=np.zeros((len(tokenized_paded_documents),64,300))\n",
        "    for i in range(len(tokenized_paded_documents)):\n",
        "        for j in range(len(tokenized_paded_documents[0])):\n",
        "            query_document_word_embeddings[i][j]=embedding_matrix[tokenized_paded_documents[i][j]]\n",
        "#     document_word_embeddings.shape\n",
        "\n",
        "    return query_document_word_embeddings"
      ]
    },
    {
      "cell_type": "code",
      "execution_count": null,
      "id": "31049804",
      "metadata": {
        "scrolled": true,
        "id": "31049804"
      },
      "outputs": [],
      "source": [
        "processing('hello world!!!!').shape"
      ]
    },
    {
      "cell_type": "code",
      "execution_count": null,
      "id": "5155db2c",
      "metadata": {
        "scrolled": true,
        "id": "5155db2c"
      },
      "outputs": [],
      "source": [
        "processing('hello world!!!!')[0][:3][0][:20]"
      ]
    },
    {
      "cell_type": "code",
      "execution_count": null,
      "id": "0454fa68",
      "metadata": {
        "id": "0454fa68"
      },
      "outputs": [],
      "source": [
        "def get_w2v_query_similarity(document_word_embeddings, query):\n",
        "    \"\"\"\n",
        "    query_w2v: processing the query\n",
        "    model_w2v: word2vec embedding for all docs\n",
        "    query: query doc\n",
        "\n",
        "    return: cosine similarity between query and all docs\n",
        "\n",
        "    \"\"\"\n",
        "    query_w2v = processing(query)\n",
        "\n",
        "    nsamples, nx, ny = query_w2v.shape\n",
        "    query_w2v_reshape = query_w2v.reshape((nsamples,nx*ny))\n",
        "\n",
        "    nsamples, nx, ny = document_word_embeddings.shape\n",
        "    document_word_embeddings_reshape = document_word_embeddings.reshape((nsamples,nx*ny))\n",
        "\n",
        "    cos_sim_w2v = cosine_similarity(query_w2v_reshape, document_word_embeddings_reshape).flatten()\n",
        "\n",
        "    return cos_sim_w2v"
      ]
    },
    {
      "cell_type": "code",
      "execution_count": null,
      "id": "7371c7f4",
      "metadata": {
        "id": "7371c7f4"
      },
      "outputs": [],
      "source": [
        "def get_all_similarity(query):\n",
        "\n",
        "    # Word2Vec Similarity\n",
        "    cos_sim_w2v = get_w2v_query_similarity(document_word_embeddings, query)\n",
        "    df['w2v_fit'] = cos_sim_w2v\n",
        "\n",
        "    # Original TFIDF similarity for comparison\n",
        "    cos_sim = get_tf_idf_query_similarity(vectorizer, docs_tfidf, query)\n",
        "    df['tfidf_fit'] = cos_sim\n",
        "\n",
        "    return df"
      ]
    },
    {
      "cell_type": "code",
      "execution_count": null,
      "id": "0595a6b6",
      "metadata": {
        "id": "0595a6b6"
      },
      "outputs": [],
      "source": [
        "query = 'seeking human resources'\n",
        "\n",
        "df = get_all_similarity(query)\n",
        "\n",
        "top_candidates(n = 10, by = 'w2v_fit', ascending = False, min_con = 0)"
      ]
    },
    {
      "cell_type": "code",
      "execution_count": null,
      "id": "13ce0b2d",
      "metadata": {
        "id": "13ce0b2d"
      },
      "outputs": [],
      "source": [
        "\n",
        "def compare_results(n, query):\n",
        "\n",
        "    df_compare = pd.DataFrame()\n",
        "    df = get_all_similarity(query)\n",
        "    cols = df.columns[4:].to_list()\n",
        "    col_names = [x.split(\"_\")[0] for x in df.columns[4:].to_list()]\n",
        "    for tn, t in zip(col_names, cols):\n",
        "        if type(top_candidates(n = n, by = t)) != str:\n",
        "            if len(top_candidates(n = n, by = t)) < n:\n",
        "                difference = n - len(top_candidates(n = n, by = t))\n",
        "                zeros = [0] * difference\n",
        "                df_compare[tn] = top_candidates(n = n, by = t)['job_title'].to_list() + zeros\n",
        "\n",
        "            else:\n",
        "                df_compare[tn] = top_candidates(n = n, by = t)['job_title'].to_list()\n",
        "\n",
        "    return df_compare"
      ]
    },
    {
      "cell_type": "code",
      "execution_count": null,
      "id": "310d9e87",
      "metadata": {
        "id": "310d9e87"
      },
      "outputs": [],
      "source": [
        "df.info()"
      ]
    },
    {
      "cell_type": "code",
      "execution_count": null,
      "id": "1cf80414",
      "metadata": {
        "id": "1cf80414"
      },
      "outputs": [],
      "source": [
        "n = 5\n",
        "query = 'Senior Human Resources Business Partner at Heil Environmental'\n",
        "compare_results(n, query)"
      ]
    },
    {
      "cell_type": "code",
      "execution_count": null,
      "id": "864bae99",
      "metadata": {
        "id": "864bae99"
      },
      "outputs": [],
      "source": [
        "query = 'Senior Human Resources Business Partner at Heil Environmental'\n",
        "\n",
        "df = get_all_similarity(query)\n",
        "\n",
        "top_candidates(n = 10, by = 'w2v_fit', ascending = False, min_con = 0)"
      ]
    },
    {
      "cell_type": "code",
      "execution_count": null,
      "id": "c34843b2",
      "metadata": {
        "scrolled": false,
        "id": "c34843b2"
      },
      "outputs": [],
      "source": [
        "top_candidates(n = 5, by = 'w2v_fit', ascending = False, min_con = 50)"
      ]
    },
    {
      "cell_type": "code",
      "execution_count": null,
      "id": "2e4ea13d",
      "metadata": {
        "scrolled": true,
        "id": "2e4ea13d"
      },
      "outputs": [],
      "source": [
        "top_candidates(n = 10, by = 'w2v_fit', ascending = False, min_con = 20, location = 'Greater New York City Area')"
      ]
    },
    {
      "cell_type": "code",
      "execution_count": null,
      "id": "1532b4f3",
      "metadata": {
        "id": "1532b4f3"
      },
      "outputs": [],
      "source": [
        "query = 'Staff Data Scientist'\n",
        "\n",
        "df = get_all_similarity(query)\n",
        "\n",
        "top_candidates(n = 10, by = 'w2v_fit', ascending = False, min_con = 0)"
      ]
    },
    {
      "cell_type": "markdown",
      "id": "c3dd756c",
      "metadata": {
        "id": "c3dd756c"
      },
      "source": [
        "# GloVe -"
      ]
    },
    {
      "cell_type": "markdown",
      "id": "da76257b",
      "metadata": {
        "id": "da76257b"
      },
      "source": [
        "https://nlp.stanford.edu/projects/glove/"
      ]
    },
    {
      "cell_type": "code",
      "execution_count": null,
      "id": "d65758f9",
      "metadata": {
        "id": "d65758f9"
      },
      "outputs": [],
      "source": [
        "# Downloading GloVe pre-trained vectors\n",
        "# !pip install wget\n",
        "# import wget\n",
        "# wget.download('https://nlp.stanford.edu/data/glove.840B.300d.zip')"
      ]
    },
    {
      "cell_type": "code",
      "execution_count": null,
      "id": "4f96b222",
      "metadata": {
        "id": "4f96b222"
      },
      "outputs": [],
      "source": [
        "# Extracting GloVe vector file\n",
        "# import zipfile as zf\n",
        "# files = zf.ZipFile(\"glove.840B.300d.zip\", 'r')\n",
        "# files.extractall('GloVe')\n",
        "# files.close()"
      ]
    },
    {
      "cell_type": "code",
      "execution_count": null,
      "id": "9ea67983",
      "metadata": {
        "id": "9ea67983"
      },
      "outputs": [],
      "source": [
        "# Navigating to directory where GloVe pre-trained vectors were downloaded\n",
        "os.chdir(r\"C:\\Users\\Alex Chung\\Documents\\the_Lab\\Apziva\\Potential Talent\\glove\")\n",
        "path = 'glove.840B.300d.txt'"
      ]
    },
    {
      "cell_type": "code",
      "execution_count": null,
      "id": "65ccde25",
      "metadata": {
        "scrolled": false,
        "id": "65ccde25"
      },
      "outputs": [],
      "source": [
        "with open(path) as file:\n",
        "  for i in range(10):\n",
        "    line = file.readline()\n",
        "    print(line[:10])"
      ]
    },
    {
      "cell_type": "code",
      "execution_count": null,
      "id": "1e7520de",
      "metadata": {
        "scrolled": false,
        "id": "1e7520de"
      },
      "outputs": [],
      "source": [
        "df_glove = pd.read_csv(path, sep=\" \", quoting=3, header=None, index_col=0)\n",
        "df_glove.T"
      ]
    },
    {
      "cell_type": "code",
      "execution_count": null,
      "id": "9b877076",
      "metadata": {
        "id": "9b877076"
      },
      "outputs": [],
      "source": [
        "glove = { key: val.values for key, val in df_glove.T.items() }"
      ]
    },
    {
      "cell_type": "code",
      "execution_count": null,
      "id": "2d150142",
      "metadata": {
        "scrolled": false,
        "id": "2d150142"
      },
      "outputs": [],
      "source": [
        "glove['man'][:5]"
      ]
    },
    {
      "cell_type": "code",
      "execution_count": null,
      "id": "3be33d67",
      "metadata": {
        "id": "3be33d67"
      },
      "outputs": [],
      "source": [
        "unknown_word = df_glove.mean().values"
      ]
    },
    {
      "cell_type": "code",
      "execution_count": null,
      "id": "ef7c9458",
      "metadata": {
        "id": "ef7c9458"
      },
      "outputs": [],
      "source": [
        "df_glove.head()"
      ]
    },
    {
      "cell_type": "code",
      "execution_count": null,
      "id": "d01dc67b",
      "metadata": {
        "id": "d01dc67b"
      },
      "outputs": [],
      "source": [
        "glove[word][:3]"
      ]
    },
    {
      "cell_type": "code",
      "execution_count": null,
      "id": "289b8d7c",
      "metadata": {
        "scrolled": true,
        "id": "289b8d7c"
      },
      "outputs": [],
      "source": [
        "# Creating a vectorize representation for each job title in our dataframe\n",
        "job_titles = df.job_title_cleaned\n",
        "\n",
        "doc_sent_vec = []\n",
        "# rem_words = []\n",
        "\n",
        "# n = 0\n",
        "for sentences in job_titles:\n",
        "\n",
        "    word_vec = []\n",
        "    # print(n)\n",
        "    # print(sentences)\n",
        "    for word in sentences.split():\n",
        "        # if word not in rem_words:\n",
        "        #     rem_words.append(word)\n",
        "        if word in glove:\n",
        "            vectors = glove[word]\n",
        "            word_vec.append(vectors)\n",
        "        else:\n",
        "            word_vec.append(unknown_word)\n",
        "        # print(word)\n",
        "        # print(word_vec[0][:3])\n",
        "\n",
        "    n = n + 1\n",
        "    word_vec_mean = sum(word_vec) / len(word_vec) # returning a mean for each job title\n",
        "    doc_sent_vec.append(word_vec_mean) # returning a list for all job titles"
      ]
    },
    {
      "cell_type": "code",
      "execution_count": null,
      "id": "2717d557",
      "metadata": {
        "scrolled": false,
        "id": "2717d557"
      },
      "outputs": [],
      "source": [
        "doc_sent_vec[0].shape"
      ]
    },
    {
      "cell_type": "code",
      "execution_count": null,
      "id": "dd481b92",
      "metadata": {
        "scrolled": true,
        "id": "dd481b92"
      },
      "outputs": [],
      "source": [
        "# Creating a vectorize representation for each query\n",
        "def q_sent_vec(query):\n",
        "    q_sent_vec = []\n",
        "    q_word_vec = []\n",
        "\n",
        "    for word in query.split():\n",
        "        if word in glove:\n",
        "            vectors = glove[word]\n",
        "            q_word_vec.append(vectors)\n",
        "        else:\n",
        "            q_word_vec.append(unknown_word)\n",
        "        q_word_vec_mean = sum(q_word_vec) / len(q_word_vec)\n",
        "    q_sent_vec.append(q_word_vec_mean)\n",
        "\n",
        "    return q_sent_vec"
      ]
    },
    {
      "cell_type": "code",
      "execution_count": null,
      "id": "4fd96b33",
      "metadata": {
        "scrolled": false,
        "id": "4fd96b33"
      },
      "outputs": [],
      "source": [
        "query = 'native english speaking'\n",
        "len(q_sent_vec(query))"
      ]
    },
    {
      "cell_type": "code",
      "execution_count": null,
      "id": "07c5322d",
      "metadata": {
        "scrolled": false,
        "id": "07c5322d"
      },
      "outputs": [],
      "source": [
        "q_sent_vec(query)[0].shape"
      ]
    },
    {
      "cell_type": "code",
      "execution_count": null,
      "id": "77c6b567",
      "metadata": {
        "scrolled": true,
        "id": "77c6b567"
      },
      "outputs": [],
      "source": [
        "q_sent_vec(query)[0][:5]"
      ]
    },
    {
      "cell_type": "code",
      "execution_count": null,
      "id": "6c4e1db8",
      "metadata": {
        "scrolled": true,
        "id": "6c4e1db8"
      },
      "outputs": [],
      "source": [
        "query = 'student indiana university'\n",
        "q_sent_vec(query)[0][:5]"
      ]
    },
    {
      "cell_type": "code",
      "execution_count": null,
      "id": "00dd374c",
      "metadata": {
        "id": "00dd374c"
      },
      "outputs": [],
      "source": [
        "def get_glove_query_similarity(doc_sent_vec, query):\n",
        "    \"\"\"\n",
        "    query_glove: processing the query\n",
        "    doc_sent_vec: glove embedding for all docs\n",
        "    query: query doc\n",
        "\n",
        "    return: cosine similarity between query and all docs\n",
        "\n",
        "    \"\"\"\n",
        "    query_glove = q_sent_vec(query)\n",
        "\n",
        "    cos_sim_glove = cosine_similarity(query_glove, doc_sent_vec).flatten()\n",
        "\n",
        "    return cos_sim_glove"
      ]
    },
    {
      "cell_type": "code",
      "execution_count": null,
      "id": "0a6a9d10",
      "metadata": {
        "id": "0a6a9d10"
      },
      "outputs": [],
      "source": [
        "def get_all_similarity(query):\n",
        "\n",
        "    #GloVe similarity\n",
        "    cos_sim_glove = get_glove_query_similarity(doc_sent_vec, query)\n",
        "    df['glove_fit'] = cos_sim_glove\n",
        "\n",
        "    # original TFIDF similarity and Word2Vec Similarity for comparison\n",
        "    cos_sim = get_tf_idf_query_similarity(vectorizer, docs_tfidf, query)\n",
        "    df['tfidf_fit'] = cos_sim\n",
        "\n",
        "    cos_sim_w2v = get_w2v_query_similarity(document_word_embeddings, query)\n",
        "    df['w2v_fit'] = cos_sim_w2v\n",
        "\n",
        "    return df"
      ]
    },
    {
      "cell_type": "code",
      "execution_count": null,
      "id": "0a8d592c",
      "metadata": {
        "id": "0a8d592c"
      },
      "outputs": [],
      "source": [
        "query = 'Aspiring human resources'\n",
        "df = get_all_similarity(query)\n",
        "top_candidates(n = 10, by = 'glove_fit', ascending = False, min_con = 0)"
      ]
    },
    {
      "cell_type": "code",
      "execution_count": null,
      "id": "b11305ed",
      "metadata": {
        "id": "b11305ed"
      },
      "outputs": [],
      "source": [
        "query = 'seeking human resources'\n",
        "df = get_all_similarity(query)\n",
        "top_candidates(n = 10, by = 'glove_fit', ascending = False, min_con = 0)"
      ]
    },
    {
      "cell_type": "code",
      "execution_count": null,
      "id": "ec9db416",
      "metadata": {
        "id": "ec9db416"
      },
      "outputs": [],
      "source": [
        "query = 'senior data analyst'\n",
        "df = get_all_similarity(query)\n",
        "top_candidates(n = 10, by = 'glove_fit', ascending = False, min_con = 0)"
      ]
    },
    {
      "cell_type": "code",
      "execution_count": null,
      "id": "3a0b165c",
      "metadata": {
        "id": "3a0b165c"
      },
      "outputs": [],
      "source": [
        "n = 5\n",
        "query = 'senior data analyst'\n",
        "compare_results(n, query)"
      ]
    },
    {
      "cell_type": "markdown",
      "id": "e394ed03",
      "metadata": {
        "id": "e394ed03"
      },
      "source": [
        "# Fasttext\n",
        "FastText is a library developed by Facebook for NLP - known for its training speed and accuracy.  "
      ]
    },
    {
      "cell_type": "code",
      "execution_count": null,
      "id": "48d7317c",
      "metadata": {
        "id": "48d7317c"
      },
      "outputs": [],
      "source": [
        "# import sys\n",
        "# sys.path\n",
        "\n",
        "# # !pip install wget\n",
        "# !pip3.10 install --user wget"
      ]
    },
    {
      "cell_type": "code",
      "execution_count": null,
      "id": "c3c741a0",
      "metadata": {
        "id": "c3c741a0"
      },
      "outputs": [],
      "source": [
        "# # # Downloading fastText pre-trained vectors\n",
        "# import wget\n",
        "# wget.download('https://github.com/facebookresearch/fastText/archive/v0.9.2.zip')"
      ]
    },
    {
      "cell_type": "code",
      "execution_count": null,
      "id": "219c66d5",
      "metadata": {
        "id": "219c66d5"
      },
      "outputs": [],
      "source": [
        "# # # Extracting fastText vector file\n",
        "# import zipfile as zf\n",
        "# files = zf.ZipFile(\"fastText-0.9.2.zip\", 'r')\n",
        "# files.extractall()\n",
        "# files.close()"
      ]
    },
    {
      "cell_type": "code",
      "execution_count": null,
      "id": "9677bfdd",
      "metadata": {
        "scrolled": true,
        "id": "9677bfdd"
      },
      "outputs": [],
      "source": [
        "os.chdir(r\"C:\\Users\\Alex Chung\\Documents\\the_Lab\\Apziva\\Potential Talent\\fastText-0.9.2\")"
      ]
    },
    {
      "cell_type": "markdown",
      "id": "f66f0d08",
      "metadata": {
        "id": "f66f0d08"
      },
      "source": [
        "#### Issues and workarounds with installing fasttext:\n",
        "\n",
        "https://stackoverflow.com/questions/44951456/pip-error-microsoft-visual-c-14-0-is-required"
      ]
    },
    {
      "cell_type": "code",
      "execution_count": null,
      "id": "e1c89bb8",
      "metadata": {
        "scrolled": true,
        "id": "e1c89bb8"
      },
      "outputs": [],
      "source": [
        "# !pip install --upgrade pip\n",
        "# !pip install --upgrade wheel\n",
        "# !pip install --upgrade setuptools\n",
        "# !pip install Cython --install-option=\"--no-cython-compile\""
      ]
    },
    {
      "cell_type": "code",
      "execution_count": null,
      "id": "b6af9727",
      "metadata": {
        "id": "b6af9727"
      },
      "outputs": [],
      "source": [
        "# !pip install fasttext\n",
        "# !pip install fasttext-wheel"
      ]
    },
    {
      "cell_type": "code",
      "execution_count": null,
      "id": "b29ad6be",
      "metadata": {
        "id": "b29ad6be"
      },
      "outputs": [],
      "source": [
        "import fasttext as fasttext"
      ]
    },
    {
      "cell_type": "code",
      "execution_count": null,
      "id": "5ea73120",
      "metadata": {
        "scrolled": true,
        "id": "5ea73120"
      },
      "outputs": [],
      "source": [
        "# Downloading pretrained model trained on Common Crawl and Wikipedia\n",
        "# import fasttext.util\n",
        "# fasttext.util.download_model('en', if_exists='ignore')  # English Skip downloading if you've already downloaded\n"
      ]
    },
    {
      "cell_type": "code",
      "execution_count": null,
      "id": "85caf6be",
      "metadata": {
        "id": "85caf6be"
      },
      "outputs": [],
      "source": [
        "ft = fasttext.load_model('cc.en.300.bin')"
      ]
    },
    {
      "cell_type": "code",
      "execution_count": null,
      "id": "98de8326",
      "metadata": {
        "id": "98de8326"
      },
      "outputs": [],
      "source": [
        "ft.get_word_vector('hello')[:20]"
      ]
    },
    {
      "cell_type": "code",
      "execution_count": null,
      "id": "5a5968c5",
      "metadata": {
        "id": "5a5968c5"
      },
      "outputs": [],
      "source": [
        "ft.get_words()[:10]"
      ]
    },
    {
      "cell_type": "code",
      "execution_count": null,
      "id": "03726c57",
      "metadata": {
        "id": "03726c57"
      },
      "outputs": [],
      "source": [
        "# Creating a dictionary of fasttext word and vector representaiton\n",
        "ft_words = ft.get_words()\n",
        "ft_vectors = [ft.get_word_vector(word) for word in ft_words]\n",
        "ft_dict = dict(zip(ft_words, ft_vectors))"
      ]
    },
    {
      "cell_type": "code",
      "execution_count": null,
      "id": "8473a4bd",
      "metadata": {
        "id": "8473a4bd"
      },
      "outputs": [],
      "source": [
        "ft_dict['hello'][:20]"
      ]
    },
    {
      "cell_type": "code",
      "execution_count": null,
      "id": "b9aa3441",
      "metadata": {
        "id": "b9aa3441"
      },
      "outputs": [],
      "source": [
        "df_ft = pd.DataFrame(ft_dict.items(), columns = ['ft_words', 'ft_vectors'])"
      ]
    },
    {
      "cell_type": "code",
      "execution_count": null,
      "id": "6147309e",
      "metadata": {
        "scrolled": false,
        "id": "6147309e"
      },
      "outputs": [],
      "source": [
        "df_ft.head(3)"
      ]
    },
    {
      "cell_type": "code",
      "execution_count": null,
      "id": "9be45db2",
      "metadata": {
        "id": "9be45db2"
      },
      "outputs": [],
      "source": [
        "# May not need to do this for fasttext\n",
        "oov_word = np.zeros((300,))"
      ]
    },
    {
      "cell_type": "code",
      "execution_count": null,
      "id": "4b9bca82",
      "metadata": {
        "id": "4b9bca82"
      },
      "outputs": [],
      "source": [
        "# Creating a fasttext vectorize representation for each job title in our dataframe\n",
        "job_titles = df.job_title_cleaned\n",
        "\n",
        "doc_sent_vec_ft = []\n",
        "\n",
        "for sentences in job_titles:\n",
        "    word_vec_ft = []\n",
        "    for word in sentences.split():\n",
        "        if word in ft_dict:\n",
        "            vectors = ft_dict[word]\n",
        "            word_vec_ft.append(vectors)\n",
        "        else:\n",
        "            word_vec_ft.append(oov_word)\n",
        "    word_vec_mean_ft = sum(word_vec_ft) / len(word_vec_ft) # returning a mean for each job title\n",
        "    doc_sent_vec_ft.append(word_vec_mean_ft) # returning a list for all job titles"
      ]
    },
    {
      "cell_type": "code",
      "execution_count": null,
      "id": "d9d4fa8c",
      "metadata": {
        "id": "d9d4fa8c"
      },
      "outputs": [],
      "source": [
        "# Creating a fasttext vectorize representation for each query\n",
        "def q_sent_vec_ft(query):\n",
        "    q_sent_vec_ft = []\n",
        "    q_word_vec_ft = []\n",
        "\n",
        "    for word in query.split():\n",
        "        if word in ft_dict:\n",
        "            vectors = ft_dict[word]\n",
        "            q_word_vec_ft.append(vectors)\n",
        "        else:\n",
        "            q_word_vec_ft.append(oov_word)\n",
        "    q_word_vec_mean_ft = sum(q_word_vec_ft) / len(q_word_vec_ft) # This was indented but just fixed this round - if it breaks, this should be indented again\n",
        "    q_sent_vec_ft.append(q_word_vec_mean_ft)\n",
        "\n",
        "    return q_sent_vec_ft"
      ]
    },
    {
      "cell_type": "code",
      "execution_count": null,
      "id": "b2b1f8cf",
      "metadata": {
        "id": "b2b1f8cf"
      },
      "outputs": [],
      "source": [
        "def get_fasttext_query_similarity(doc_sent_vec_ft, query):\n",
        "    \"\"\"\n",
        "    query_fasttext: processing the query\n",
        "    doc_sent_vec: glove embedding for all docs\n",
        "    query: query doc\n",
        "\n",
        "    return: cosine similarity between query and all docs\n",
        "\n",
        "    \"\"\"\n",
        "    query_fasttext = q_sent_vec_ft(query)\n",
        "\n",
        "    cos_sim_fasttext = cosine_similarity(query_fasttext, doc_sent_vec_ft).flatten()\n",
        "\n",
        "    return cos_sim_fasttext"
      ]
    },
    {
      "cell_type": "code",
      "execution_count": null,
      "id": "0037a0e0",
      "metadata": {
        "id": "0037a0e0"
      },
      "outputs": [],
      "source": [
        "\n",
        "\n",
        "def get_all_similarity(query):\n",
        "\n",
        "    #Fasttext similarity\n",
        "    cos_sim_fasttext = get_fasttext_query_similarity(doc_sent_vec_ft, query)\n",
        "    df['fasttext_fit'] = cos_sim_fasttext\n",
        "\n",
        "    # original TFIDF similarity and Word2Vec Similarity for comparison\n",
        "    cos_sim = get_tf_idf_query_similarity(vectorizer, docs_tfidf, query)\n",
        "    df['tfidf_fit'] = cos_sim\n",
        "\n",
        "    cos_sim_w2v = get_w2v_query_similarity(document_word_embeddings, query)\n",
        "    df['w2v_fit'] = cos_sim_w2v\n",
        "\n",
        "    cos_sim_glove = get_glove_query_similarity(doc_sent_vec, query)\n",
        "    df['glove_fit'] = cos_sim_glove\n",
        "\n",
        "    return df"
      ]
    },
    {
      "cell_type": "code",
      "execution_count": null,
      "id": "e006c31a",
      "metadata": {
        "scrolled": false,
        "id": "e006c31a"
      },
      "outputs": [],
      "source": [
        "query = 'Aspiring human resources'\n",
        "df = get_all_similarity(query)\n",
        "top_candidates(n = 10, by = 'fasttext_fit', ascending = False, min_con = 0)"
      ]
    },
    {
      "cell_type": "code",
      "execution_count": null,
      "id": "b9c5eb36",
      "metadata": {
        "id": "b9c5eb36"
      },
      "outputs": [],
      "source": [
        "query = 'seeking human resources'\n",
        "df = get_all_similarity(query)\n",
        "top_candidates(n = 10, by = 'fasttext_fit', ascending = False, min_con = 0)"
      ]
    },
    {
      "cell_type": "code",
      "execution_count": null,
      "id": "537ac8dc",
      "metadata": {
        "id": "537ac8dc"
      },
      "outputs": [],
      "source": [
        "n = 5\n",
        "query = 'senior data analyst'\n",
        "compare_results(n, query)"
      ]
    },
    {
      "cell_type": "code",
      "execution_count": null,
      "id": "d48c5a24",
      "metadata": {
        "id": "d48c5a24"
      },
      "outputs": [],
      "source": [
        "os.chdir(\"..\")"
      ]
    },
    {
      "cell_type": "code",
      "execution_count": null,
      "id": "7e46e13f",
      "metadata": {
        "id": "7e46e13f"
      },
      "outputs": [],
      "source": [
        "df.head(5)"
      ]
    },
    {
      "cell_type": "code",
      "execution_count": null,
      "id": "3c71f8fa",
      "metadata": {
        "id": "3c71f8fa"
      },
      "outputs": [],
      "source": [
        "\n",
        "# for tn, t in zip(col_names, cols):\n",
        "\n",
        "\n",
        "def compare_results(n, query):\n",
        "\n",
        "    df_compare = pd.DataFrame()\n",
        "    df = get_all_similarity(query)\n",
        "    cols = df.columns[4:].to_list()\n",
        "    col_names = [x.split(\"_\")[0] for x in df.columns[4:].to_list()]\n",
        "    for tn, t in zip(col_names, cols):\n",
        "        if type(top_candidates(n = n, by = t)) != str:\n",
        "            if len(top_candidates(n = n, by = t)) < n:\n",
        "                difference = n - len(top_candidates(n = n, by = t))\n",
        "                zeros = [0] * difference\n",
        "                df_compare[tn] = top_candidates(n = n, by = t)['job_title'].to_list() + zeros\n",
        "\n",
        "            else:\n",
        "                df_compare[tn] = top_candidates(n = n, by = t)['job_title'].to_list()\n",
        "\n",
        "    return df_compare"
      ]
    },
    {
      "cell_type": "markdown",
      "id": "61128e1e",
      "metadata": {
        "id": "61128e1e"
      },
      "source": [
        "# BERT -"
      ]
    },
    {
      "cell_type": "code",
      "execution_count": null,
      "id": "0f199f28",
      "metadata": {
        "id": "0f199f28"
      },
      "outputs": [],
      "source": [
        "# First install\n",
        "# !pip install transformers\n",
        "# !pip install transformers -U --use-feature 2020-resolver"
      ]
    },
    {
      "cell_type": "code",
      "execution_count": null,
      "id": "ca90fcf9",
      "metadata": {
        "id": "ca90fcf9"
      },
      "outputs": [],
      "source": [
        "# !pip install --upgrade pip"
      ]
    },
    {
      "cell_type": "code",
      "execution_count": null,
      "id": "268e4291",
      "metadata": {
        "id": "268e4291"
      },
      "outputs": [],
      "source": [
        "# !pip config set --user global.use-feature 2020-resolver"
      ]
    },
    {
      "cell_type": "code",
      "execution_count": null,
      "id": "446fa35c",
      "metadata": {
        "id": "446fa35c"
      },
      "outputs": [],
      "source": [
        "# !pip install torch torchvision torchaudio"
      ]
    },
    {
      "cell_type": "code",
      "execution_count": null,
      "id": "837fb4ff",
      "metadata": {
        "id": "837fb4ff"
      },
      "outputs": [],
      "source": [
        "from transformers import AutoTokenizer, AutoModel\n",
        "import torch\n",
        "import torch.nn.functional as F\n",
        "\n",
        "# Load the tokenizer and the model from HuggingFace Hub\n",
        "bert_tokenizer = AutoTokenizer.from_pretrained('sentence-transformers/all-MiniLM-L6-v2')\n",
        "bert_model = AutoModel.from_pretrained('sentence-transformers/all-MiniLM-L6-v2')"
      ]
    },
    {
      "cell_type": "code",
      "execution_count": null,
      "id": "6fcaf503",
      "metadata": {
        "id": "6fcaf503"
      },
      "outputs": [],
      "source": [
        "# Mean Pooling - Take average of all tokens\n",
        "def mean_pooling(model_output, attention_mask):\n",
        "    token_embeddings = model_output.last_hidden_state #First element of model_output contains all token embeddings\n",
        "    input_mask_expanded = attention_mask.unsqueeze(-1).expand(token_embeddings.size()).float()\n",
        "    return torch.sum(token_embeddings * input_mask_expanded, 1) / torch.clamp(input_mask_expanded.sum(1), min=1e-9)\n",
        "\n",
        "\n",
        "#Encode text\n",
        "def encode(texts):\n",
        "    # Tokenize sentences\n",
        "    encoded_input = bert_tokenizer(texts, padding=True, truncation=True, return_tensors='pt')\n",
        "\n",
        "    # Compute token embeddings\n",
        "    with torch.no_grad():\n",
        "        model_output = bert_model(**encoded_input, return_dict=True)\n",
        "\n",
        "    # Perform pooling\n",
        "    embeddings = mean_pooling(model_output, encoded_input['attention_mask'])\n",
        "\n",
        "    # Normalize embeddings\n",
        "    embeddings = F.normalize(embeddings, p=2, dim=1)\n",
        "\n",
        "    return embeddings"
      ]
    },
    {
      "cell_type": "code",
      "execution_count": null,
      "id": "5dbe4410",
      "metadata": {
        "id": "5dbe4410"
      },
      "outputs": [],
      "source": [
        "# get bert embedding for all docs\n",
        "titles_list = df['job_title_cleaned'].to_list()\n",
        "\n",
        "doc_emb = encode(titles_list)"
      ]
    },
    {
      "cell_type": "code",
      "execution_count": null,
      "id": "c4ffd754",
      "metadata": {
        "id": "c4ffd754"
      },
      "outputs": [],
      "source": [
        "titles_list[:3]"
      ]
    },
    {
      "cell_type": "code",
      "execution_count": null,
      "id": "37274b02",
      "metadata": {
        "id": "37274b02"
      },
      "outputs": [],
      "source": [
        "def get_bert_query_similarity(doc_emb, query):\n",
        "    \"\"\"\n",
        "    query_bert: processing the query\n",
        "    doc_emb: bert embedding for all docs\n",
        "    query: query doc\n",
        "\n",
        "    return: cosine similarity between query and all docs\n",
        "\n",
        "    \"\"\"\n",
        "    query_bert = encode(query)\n",
        "\n",
        "    #Compute dot score between query and all document embeddings\n",
        "    cos_sim_bert = torch.mm(query_bert, doc_emb.transpose(0, 1))[0].cpu().tolist()\n",
        "\n",
        "    return cos_sim_bert"
      ]
    },
    {
      "cell_type": "code",
      "execution_count": null,
      "id": "fb404374",
      "metadata": {
        "id": "fb404374"
      },
      "outputs": [],
      "source": [
        "def get_all_similarity(query):\n",
        "\n",
        "    #Bert similarity\n",
        "    cos_sim_bert = get_bert_query_similarity(doc_emb, query)\n",
        "    df['bert_fit'] = cos_sim_bert\n",
        "\n",
        "    #Fasttext similarity\n",
        "    cos_sim_fasttext = get_fasttext_query_similarity(doc_sent_vec_ft, query)\n",
        "    df['fasttext_fit'] = cos_sim_fasttext\n",
        "\n",
        "    # original TFIDF similarity and Word2Vec Similarity for comparison\n",
        "    cos_sim = get_tf_idf_query_similarity(vectorizer, docs_tfidf, query)\n",
        "    df['tfidf_fit'] = cos_sim\n",
        "\n",
        "    cos_sim_w2v = get_w2v_query_similarity(document_word_embeddings, query)\n",
        "    df['w2v_fit'] = cos_sim_w2v\n",
        "\n",
        "    cos_sim_glove = get_glove_query_similarity(doc_sent_vec, query)\n",
        "    df['glove_fit'] = cos_sim_glove\n",
        "\n",
        "    return df"
      ]
    },
    {
      "cell_type": "code",
      "execution_count": null,
      "id": "eaba9bd7",
      "metadata": {
        "id": "eaba9bd7"
      },
      "outputs": [],
      "source": [
        "query = 'seeking human resources'\n",
        "df = get_all_similarity(query)\n",
        "top_candidates(n = 5, by = 'bert_fit', ascending = False, min_con = 0)"
      ]
    },
    {
      "cell_type": "code",
      "execution_count": null,
      "id": "b53b3bb2",
      "metadata": {
        "id": "b53b3bb2"
      },
      "outputs": [],
      "source": []
    },
    {
      "cell_type": "code",
      "execution_count": null,
      "id": "868e5629",
      "metadata": {
        "id": "868e5629"
      },
      "outputs": [],
      "source": [
        "query = 'Nurse'\n",
        "# query = 'Doctor'\n",
        "# query = 'Help Desk'\n",
        "# query = 'Researcher'\n",
        "# query = 'Soldier'\n",
        "# query = 'Athlete'\n",
        "# query = 'Cashier'\n",
        "# query = 'Spy'\n",
        "query = 'Writer'\n",
        "query = 'Singer'\n",
        "# query = 'Chef'\n",
        "# query = 'Data Scientist'\n",
        "# query = 'Architect'\n",
        "# query = 'Accountant'\n",
        "# query = 'Recruiter'\n",
        "query = 'human resources'\n",
        "df = get_all_similarity(query)\n",
        "n = 3\n",
        "\n",
        "df_compare = compare_results(n, query)\n",
        "df_compare"
      ]
    },
    {
      "cell_type": "code",
      "execution_count": null,
      "id": "ce9cf122",
      "metadata": {
        "id": "ce9cf122"
      },
      "outputs": [],
      "source": [
        "popular_jobs = [\n",
        "    \"Software Engineer\",\n",
        "    \"Data Scientist\",\n",
        "    \"Product Manager\",\n",
        "    \"UX Designer\",\n",
        "    \"Project Manager\",\n",
        "    \"Marketing Manager\",\n",
        "    \"Business Analyst\",\n",
        "    \"DevOps Engineer\",\n",
        "    \"AI/ML Engineer\",\n",
        "    \"Cybersecurity Analyst\",\n",
        "    \"Cloud Architect\",\n",
        "    \"Full Stack Developer\",\n",
        "    \"Frontend Developer\",\n",
        "    \"Backend Developer\",\n",
        "    \"Database Administrator\",\n",
        "    \"Financial Analyst\",\n",
        "    \"HR Manager\",\n",
        "    \"Graphic Designer\",\n",
        "    \"Systems Administrator\",\n",
        "    \"Technical Writer\",\n",
        "    \"Mechanical Engineer\",\n",
        "    \"Civil Engineer\",\n",
        "    \"Electrical Engineer\",\n",
        "    \"Accountant\",\n",
        "    \"Sales Representative\"\n",
        "]\n"
      ]
    },
    {
      "cell_type": "code",
      "execution_count": null,
      "id": "0dfe35b9",
      "metadata": {
        "id": "0dfe35b9"
      },
      "outputs": [],
      "source": [
        "n = 5\n",
        "for job in popular_jobs:\n",
        "#     df = get_all_similarity(job)\n",
        "#     df_compare = compare_results(n, job)\n",
        "    print(job)\n",
        "#     display(df_compare)"
      ]
    },
    {
      "cell_type": "code",
      "execution_count": null,
      "id": "bf6ff2fd",
      "metadata": {
        "id": "bf6ff2fd"
      },
      "outputs": [],
      "source": []
    },
    {
      "cell_type": "code",
      "execution_count": null,
      "id": "852a1bcf",
      "metadata": {
        "id": "852a1bcf"
      },
      "outputs": [],
      "source": [
        "# WordtoVec  Same thing but with pretrained word embedding average of word\n",
        "# Try to see who I'm connected with\n",
        "# skill review surrvey - schedule interview - motivated"
      ]
    },
    {
      "cell_type": "markdown",
      "id": "3df22c85",
      "metadata": {
        "id": "3df22c85"
      },
      "source": [
        "Process:\n",
        "1. Sentence transformer:\n",
        "    https://sbert.net/\n",
        "    https://www.geeksforgeeks.org/sentence-similarity-using-bert-transformer/\n",
        "\n",
        "\n",
        "2. Gen AI\n",
        "https://stackoverflow.com/questions/75673222/semantic-searching-using-google-flan-t5\n",
        "\n",
        "3. Utilizing LLM via prompting\n",
        "GPT general purpose transformer - closed boxed model through an Open AI API\n",
        "- Focus on instead, take advantage of open source LLM such as LLama 3 model from Meta\n",
        "- Mistral, Llama 2, Grok maybe?\n",
        "\n",
        "Bert"
      ]
    },
    {
      "cell_type": "markdown",
      "id": "670d2b05",
      "metadata": {
        "id": "670d2b05"
      },
      "source": [
        "# Gen AI"
      ]
    },
    {
      "cell_type": "code",
      "execution_count": null,
      "id": "2c799c38",
      "metadata": {
        "id": "2c799c38"
      },
      "outputs": [],
      "source": [
        "popular_jobs = [\n",
        "    \"Software Engineer\",\n",
        "    \"Data Scientist\",\n",
        "    \"Product Manager\",\n",
        "    \"UX Designer\",\n",
        "    \"Project Manager\",\n",
        "    \"Marketing Manager\",\n",
        "    \"Business Analyst\",\n",
        "    \"DevOps Engineer\",\n",
        "    \"AI/ML Engineer\",\n",
        "    \"Cybersecurity Analyst\",\n",
        "    \"Cloud Architect\",\n",
        "    \"Full Stack Developer\",\n",
        "    \"Frontend Developer\",\n",
        "    \"Backend Developer\",\n",
        "    \"Database Administrator\",\n",
        "    \"Financial Analyst\",\n",
        "    \"HR Manager\",\n",
        "    \"Graphic Designer\",\n",
        "    \"Systems Administrator\",\n",
        "    \"Technical Writer\",\n",
        "    \"Mechanical Engineer\",\n",
        "    \"Civil Engineer\",\n",
        "    \"Electrical Engineer\",\n",
        "    \"Accountant\",\n",
        "    \"Sales Representative\"\n",
        "]\n"
      ]
    },
    {
      "cell_type": "code",
      "execution_count": null,
      "id": "77d10fe8",
      "metadata": {
        "id": "77d10fe8"
      },
      "outputs": [],
      "source": [
        "n = 5\n",
        "for job in popular_jobs:\n",
        "#     df = get_all_similarity(job)\n",
        "#     df_compare = compare_results(n, job)\n",
        "    print(job)\n",
        "#     display(df_compare)"
      ]
    },
    {
      "cell_type": "code",
      "execution_count": null,
      "id": "c485590e",
      "metadata": {
        "id": "c485590e"
      },
      "outputs": [],
      "source": [
        "nameList = ['driven professional']\n",
        "\n",
        "strings = ['innovative and driven professional seeking a role in data analyticsdata science in the information technology industry.',\n",
        " 'ms applied data science student usc research assistant usc former data analytics intern at dr reddys laboratories former data science intern quadratyx actively seeking full time roles in summer 2025',\n",
        " 'computer science student seeking full-time software engineerdeveloper positions ai sql data visualization toolspython ssrs',\n",
        " 'microsoft certified power bi data analyst mba business analytics unt business intelligence engineer data scientist data engineer business analytics predictive analytics statistical analysis ex-ericsson',\n",
        " 'graduate research assistant at uab masters in data science student at uab ex jio']\n",
        "\n",
        "# any(name in title.lower() for title in strings for name in nameList)\n",
        "# any([name in nameList if name in title.split() for title in strings])\n",
        "\n",
        "matching_strings = [\n",
        "    title for title in strings\n",
        "    if any(name in title.lower() for name in nameList)\n",
        "]\n",
        "\n",
        "print(matching_strings)"
      ]
    },
    {
      "cell_type": "code",
      "execution_count": null,
      "id": "9425b369",
      "metadata": {
        "id": "9425b369"
      },
      "outputs": [],
      "source": [
        "df.job_title.to_list()"
      ]
    },
    {
      "cell_type": "code",
      "execution_count": null,
      "id": "f38ed34d",
      "metadata": {
        "id": "f38ed34d"
      },
      "outputs": [],
      "source": [
        "# %pip install -U datasets==2.17.0\n",
        "\n",
        "# %pip install --upgrade pip\n",
        "# %pip install --disable-pip-version-check \\\n",
        "#     torch==1.13.1 \\\n",
        "#     torchdata==0.5.1 --quiet\n",
        "\n",
        "# %pip install \\\n",
        "#     transformers==4.27.2 --quiet"
      ]
    },
    {
      "cell_type": "code",
      "execution_count": null,
      "id": "b84dfab4",
      "metadata": {
        "id": "b84dfab4"
      },
      "outputs": [],
      "source": [
        "# !pip install --upgrade transformers"
      ]
    },
    {
      "cell_type": "code",
      "execution_count": null,
      "id": "5f9f68f1",
      "metadata": {
        "id": "5f9f68f1"
      },
      "outputs": [],
      "source": [
        "from transformers import AutoModelForSeq2SeqLM, AutoTokenizer, GenerationConfig"
      ]
    },
    {
      "cell_type": "code",
      "execution_count": null,
      "id": "dd72ad0f",
      "metadata": {
        "id": "dd72ad0f"
      },
      "outputs": [],
      "source": [
        "# model_name='google/flan-t5-base'\n",
        "\n",
        "# model_name = 'google/gemma-7b-it'\n",
        "\n",
        "# model_name = 'google/gemma-3-1b-it'\n",
        "\n",
        "# gen_ai_tokenizer = AutoTokenizer.from_pretrained(model_name, use_fast=True)\n",
        "# gen_model = AutoModelForSeq2SeqLM.from_pretrained(model_name)"
      ]
    },
    {
      "cell_type": "code",
      "execution_count": null,
      "id": "1f06971a",
      "metadata": {
        "id": "1f06971a"
      },
      "outputs": [],
      "source": [
        "n = 5\n",
        "query = job\n",
        "\n",
        "def get_titles(n = 5, query=query):\n",
        "    df = get_all_similarity(query)\n",
        "\n",
        "    df_compare = compare_results(n, query)\n",
        "    # print(job)\n",
        "    # display(df_compare)\n",
        "\n",
        "    titles = []\n",
        "\n",
        "    for col in df_compare.columns:\n",
        "        titles.extend(df_compare[col].to_list())\n",
        "\n",
        "    # add additional titles\n",
        "    titles.extend(df.sample(80)['job_title'].to_list())\n",
        "    titles = list(set(titles))\n",
        "    titles = [x for x in titles if x != 0]\n",
        "    return titles\n",
        "\n"
      ]
    },
    {
      "cell_type": "code",
      "execution_count": null,
      "id": "f5ffdf48",
      "metadata": {
        "id": "f5ffdf48"
      },
      "outputs": [],
      "source": [
        "# def build_prompt(query, options):\n",
        "#     options_text = \"\\n\".join(f\"- {opt}\" for opt in options)\n",
        "#     prompt = \"\"\"Which applicant best fits the job query?\n",
        "#         QUERY: {query}\n",
        "#         OPTIONS:\n",
        "#         {options}\"\"\".format(query=query, options=options_text)\n",
        "#     return prompt"
      ]
    },
    {
      "cell_type": "code",
      "execution_count": null,
      "id": "b234d7b9",
      "metadata": {
        "id": "b234d7b9"
      },
      "outputs": [],
      "source": [
        "titles = df['job_title'].to_list()\n",
        "titles = list(set(titles))\n",
        "titles"
      ]
    },
    {
      "cell_type": "code",
      "execution_count": null,
      "id": "0835013a",
      "metadata": {
        "id": "0835013a"
      },
      "outputs": [],
      "source": [
        "def build_prompt(query, options):\n",
        "    options_text = \"\\n\".join(f\"- {opt}\" for opt in options)\n",
        "    prompt = \"\"\"I'm going to provide a list of candidates' job titles, as well as the search term.\n",
        "I want you to rank the job titles based on their semantic similarity to the search term. Return the ranked list without changing the job\n",
        "titles, but only the order of them. Here is the search term: {query}, and here is the list of job titles: {options}\"\"\".format(query=query, options=options_text)\n",
        "    return prompt\n"
      ]
    },
    {
      "cell_type": "code",
      "execution_count": null,
      "id": "647dd72f",
      "metadata": {
        "id": "647dd72f"
      },
      "outputs": [],
      "source": []
    },
    {
      "cell_type": "code",
      "execution_count": null,
      "id": "c574adc2",
      "metadata": {
        "id": "c574adc2"
      },
      "outputs": [],
      "source": [
        "n = 5\n",
        "query = job\n",
        "\n",
        "options = get_titles(n, query)\n",
        "\n",
        "query = popular_jobs[5]"
      ]
    },
    {
      "cell_type": "code",
      "execution_count": null,
      "id": "fd77e9ce",
      "metadata": {
        "id": "fd77e9ce"
      },
      "outputs": [],
      "source": [
        "# from transformers import AutoTokenizer, AutoModelForCausalLM\n",
        "# import torch\n",
        "\n",
        "# tokenizer = AutoTokenizer.from_pretrained(\"gpt2\")\n",
        "# model = AutoModelForCausalLM.from_pretrained(\"gpt2\")\n",
        "\n",
        "# model=\"google/gemma-3-1b-it\"\n",
        "\n",
        "# def build_prompt(query, options):\n",
        "#     options_text = \"\\n\".join(f\"- {opt}\" for opt in options)\n",
        "#     return f\"\"\"\n",
        "# I'm going to provide a list of candidates' job titles, as well as the search term.\n",
        "# I want you to rank the job titles based on their semantic similarity to the search term.\n",
        "# Return the ranked list without changing the job titles, but only the order of them.\n",
        "\n",
        "# Search term: {query}\n",
        "# Job titles:\n",
        "# {options_text}\n",
        "# \"\"\"\n",
        "\n",
        "# # Function to generate from a chunk\n",
        "# def generate_from_chunk(query, options_chunk, max_tokens=400):\n",
        "#     prompt = build_prompt(query, options_chunk)\n",
        "#     inputs = tokenizer(prompt, return_tensors=\"pt\", truncation=True, max_length=1024)\n",
        "#     outputs = model.generate(**inputs, max_new_tokens=max_tokens)\n",
        "#     return tokenizer.decode(outputs[0], skip_special_tokens=True)\n",
        "\n",
        "# # Chunking\n",
        "# def chunk_list(lst, chunk_size):\n",
        "#     for i in range(0, len(lst), chunk_size):\n",
        "#         yield lst[i:i + chunk_size]\n",
        "\n",
        "# # Run in chunks\n",
        "# all_chunks = []\n",
        "# for chunk in chunk_list(options, 50):  # Adjust chunk size based on model limit\n",
        "#     result = generate_from_chunk(query, chunk)\n",
        "#     all_chunks.append(result)\n",
        "\n",
        "# Optional: Re-rank merged top results with embeddings\n"
      ]
    },
    {
      "cell_type": "code",
      "execution_count": null,
      "id": "90562e92",
      "metadata": {
        "id": "90562e92"
      },
      "outputs": [],
      "source": []
    },
    {
      "cell_type": "code",
      "execution_count": null,
      "id": "17721df9",
      "metadata": {
        "id": "17721df9"
      },
      "outputs": [],
      "source": [
        "# import re\n",
        "\n",
        "# def extract_ranked_job_titles(text):\n",
        "#     lines = text.strip().split(\"\\n\")\n",
        "#     titles = []\n",
        "#     start_ranking = False\n",
        "\n",
        "#     for line in lines:\n",
        "#         line = line.strip()\n",
        "\n",
        "#         # Skip empty or clearly non-ranking sections\n",
        "#         if not line:\n",
        "#             continue\n",
        "#         if \"reasoning:\" in line.lower():\n",
        "#             break  # Stop parsing after list ends\n",
        "#         if \"most to least similar:\" in line.lower():\n",
        "#             start_ranking = True\n",
        "#             continue\n",
        "#         if not start_ranking:\n",
        "#             continue\n",
        "\n",
        "#         # Remove leading numbers, bullets, markdown\n",
        "#         clean = re.sub(r\"^\\s*[\\-*]?\\s*\\d+\\.\\s*\", \"\", line)      # remove \"1. \" or \"- 1.\"\n",
        "#         clean = re.sub(r\"\\*\\*\", \"\", clean)                      # remove bold markers\n",
        "#         clean = re.sub(r\"\\s*\\(.*?\\)\", \"\", clean)                # remove things like \"(Most Similar)\"\n",
        "#         clean = clean.strip()\n",
        "\n",
        "#         if clean and len(clean.split()) >= 2:\n",
        "#             titles.append(clean)\n",
        "\n",
        "#     return titles\n"
      ]
    },
    {
      "cell_type": "code",
      "execution_count": null,
      "id": "4099ef13",
      "metadata": {
        "id": "4099ef13"
      },
      "outputs": [],
      "source": [
        "import re\n",
        "\n",
        "def extract_ranked_job_titles(data):\n",
        "    \"\"\"\n",
        "    Extract job titles from a numbered list in raw text starting after the second line containing 'here's the',\n",
        "    removing all asterisks, explanations, and splitting multi-title lines correctly.\n",
        "\n",
        "    Args:\n",
        "        data (str): Raw text with lines separated by newlines, containing job titles and other text.\n",
        "\n",
        "    Returns:\n",
        "        list: Ordered list of unique job titles (lowercase).\n",
        "    \"\"\"\n",
        "    lines = data.strip().split('\\n')\n",
        "\n",
        "    # Find all lines that contain \"here's the\"\n",
        "    matching_indices = [i for i, line in enumerate(lines) if re.search(r\"here's the\", line, re.IGNORECASE)]\n",
        "\n",
        "    # Use the second occurrence if available, otherwise fallback to the first\n",
        "    if len(matching_indices) >= 2:\n",
        "        start_index = matching_indices[1]\n",
        "    elif matching_indices:\n",
        "        start_index = matching_indices[0]\n",
        "    else:\n",
        "        return []\n",
        "\n",
        "    # Common non-title terms to exclude (lowercase for consistency)\n",
        "    exclude_terms = {'python', 'sql', 'r', 'tableau', 'spark', 'aws', 'gcp'}\n",
        "\n",
        "    job_titles = []\n",
        "    seen = set()\n",
        "\n",
        "    for line in lines[start_index:]:\n",
        "        # Match lines that start with a number followed by a period\n",
        "        if re.match(r'^\\d+\\.\\s*', line.strip()):\n",
        "            # Remove number, asterisks, and trailing explanations\n",
        "            cleaned = re.sub(r'^\\d+\\.\\s*|\\*+|\\s*[-–(].*$', '', line).strip()\n",
        "            # Split multiple titles in one line\n",
        "            split_titles = re.split(r',|/| and | or ', cleaned)\n",
        "            for title in split_titles:\n",
        "                title = title.strip().lower()\n",
        "                if title and title not in exclude_terms and title not in seen:\n",
        "                    seen.add(title)\n",
        "                    job_titles.append(title)\n",
        "\n",
        "    return job_titles\n",
        "\n",
        "\n",
        "# Example usage\n",
        "data = \"\"\"Search term: Marketing Manager\n",
        "Job titles:\n",
        "- software developer scheme designers inc developed features for aircraft configurators\n",
        "- graduate research and teaching assistant at michigan state university\n",
        "- data science data engineer machine learning data scientist project 990 ms in data science iub seeking full-time roles may 25\n",
        "- senior big data engineer actively seeking for new opportunities data engineer big data sql aws hadoop azure pyspark kafka yarn hdfs scala etl\n",
        "- staff data scientist and analytics engineer equifax\n",
        "- phd in mol bio bioinformatic data science i ai ml l aws saa linux python and r docker kubernetes devops cicd pipelinegit-github terraform l ansible\n",
        "- encargado de marketing y ventas en sego eventos\n",
        "- data analyst at kingston brass\n",
        "\n",
        "model\n",
        "Okay, here's the ranked list of job titles, ordered from most to least semantically similar to the search term \"Marketing Manager,\" based on their relevance:\n",
        "1.  **data science data engineer machine learning data scientist project 990 ms in data science iub seeking full-time roles may 25**\n",
        "2.  **senior big data engineer actively seeking for new opportunities data engineer big data sql aws azure hdfs yarn kafka**\n",
        "3.  **software developer scheme designers inc developed features for aircraft configurators**\n",
        "4.  **graduate research and teaching assistant at michigan state university**\n",
        "5.  **enchargado de marketing y ventas en sego eventos**\n",
        "6.  **data analyst at kingston brass**\n",
        "7.  **data science data engineer machine learning data scientist**\n",
        "8. **staff data scientist and analytics engineer equifax**\n",
        "\n",
        "\n",
        "Search term: AI/ML Engineer\n",
        "Job titles:\n",
        "- computer science graduate from the university of south africa\n",
        "- data science machine learning artificial intelligence nlp\n",
        "- biomedical engineer thermo fisher scientific\n",
        "- data scientist ai startup data science uc berkeley\n",
        "- data science graduate passionate about ai ml analytics\n",
        "- rashmika nattam graduate teaching assistant uic python sql java c html web dev enthusiast\n",
        "- data analyst data scientist healthcare mit applied data science big sql energy advanced data analytics certified data darling\n",
        "\n",
        "model\n",
        "Okay, here’s the ranked list of job titles, ordered from most to least semantically similar to the search term \"AI/ML Engineer,\" based on relevance:\n",
        "\n",
        "1.  **data science machine learning artificial intelligence nlp** - This is the most directly related, encompassing the core focus of the search term.\n",
        "2.  **data scientist ai startup data science uc berkeley** -  Highlights experience in AI/ML, often in a startup or research setting.\n",
        "3.  **biomedical engineer thermo fisher scientific** -  Specifically focuses on a field heavily reliant on AI/ML and data analysis.\n",
        "4.  **data science graduate passionate about ai ml analytics** -  Clearly indicates an interest in AI/ML and data science.\n",
        "5.  **data analyst data scientist healthcare mit applied data science big sql** -  Combines data analysis with AI/ML, a common role.\n",
        "6.  **data science graduate from the university of south africa** -  A strong indicator of an AI/ML background, particularly with a focus on data science.\n",
        "7.  **computer science graduate from the university of south africa** -  A broader entry point, but still relevant if the candidate has a strong foundation in computer science and AI.\n",
        "8.  **rashmika nattam graduate teaching assistant uic python sql java c html web dev enthusiast** -  Focuses on a technical role, but with a strong emphasis on programming and related skills.\n",
        "9.  **data analyst data scientist healthcare mit applied data science big sql** - Similar to the previous one, but with a slightly different emphasis.\n",
        "10. **data analyst data scientist healthcare mit applied data science big sql energy advanced data analytics certified data darling** -  This is a more general role, but still relevant if the candidate has experience in data analysis and potentially some AI/ML knowledge.\n",
        "\n",
        "**Reasoning for the ranking:**\"\"\"\n",
        "\n",
        "\n",
        "job_titles = extract_ranked_job_titles(data)\n",
        "print(job_titles)"
      ]
    },
    {
      "cell_type": "code",
      "execution_count": null,
      "id": "c3a8a2a4",
      "metadata": {
        "id": "c3a8a2a4"
      },
      "outputs": [],
      "source": [
        "from huggingface_hub import login\n",
        "\n",
        "login()"
      ]
    },
    {
      "cell_type": "code",
      "execution_count": null,
      "id": "3888557c",
      "metadata": {
        "id": "3888557c"
      },
      "outputs": [],
      "source": [
        "from transformers import AutoTokenizer, AutoModelForCausalLM, TextStreamer\n",
        "import torch\n",
        "\n",
        "# Use the correct Gemma model from Hugging Face Hub\n",
        "model_id = \"google/gemma-3-1b-it\"\n"
      ]
    },
    {
      "cell_type": "code",
      "execution_count": null,
      "id": "2119a7e4",
      "metadata": {
        "id": "2119a7e4"
      },
      "outputs": [],
      "source": [
        "\n",
        "# max_token = gemma_tokenizer.model_max_length\n",
        "max_token = 512\n",
        "device = torch.device(\"cuda\" if torch.cuda.is_available() else \"cpu\")\n",
        "\n",
        "# Load model and tokenizer (run in float16 if on GPU)\n",
        "ai_tokenizer = AutoTokenizer.from_pretrained(model_id)\n",
        "\n",
        "model = AutoModelForCausalLM.from_pretrained(\n",
        "    model_id,\n",
        "    torch_dtype=torch.float16 if torch.cuda.is_available() else torch.float32\n",
        ").to(device)\n",
        "\n",
        "# streamer = TextStreamer(gemma_tokenizer, skip_prompt=True, skip_special_tokens=True)"
      ]
    },
    {
      "cell_type": "code",
      "execution_count": null,
      "id": "574a2c9a",
      "metadata": {
        "id": "574a2c9a"
      },
      "outputs": [],
      "source": [
        "\n",
        "# Prompt construction function\n",
        "def build_prompt(query, options):\n",
        "    options_text = \"\\n\".join(f\"- {opt}\" for opt in options)\n",
        "    return f\"\"\"<bos><start_of_turn>user\n",
        "I will give you a list of job titles and a search term.\n",
        "Rank them in the list by how semantically similar they are to the search term.\n",
        "Do not change the job titles I give you — just reorder them in a ranked list from most to least similar.\n",
        "\n",
        "Search term: Marketing Manager\n",
        "Job titles:\n",
        "- software developer scheme designers inc developed features for aircraft configurators\n",
        "- graduate research and teaching assistant at michigan state university\n",
        "- data science data engineer machine learning data scientist project 990 ms in data science iub seeking full-time roles may 25\n",
        "- senior big data engineer actively seeking for new opportunities data engineer big data sql aws hadoop azure pyspark kafka yarn hdfs scala etl\n",
        "- staff data scientist and analytics engineer equifax\n",
        "- phd in mol bio bioinformatic data science i ai ml l aws saa linux python and r docker kubernetes devops cicd pipelinegit-github terraform l ansible\n",
        "- encargado de marketing y ventas en sego eventos\n",
        "- data analyst at kingston brass\n",
        "\n",
        "model\n",
        "Okay, here's the ranked list of job titles, ordered from most to least semantically similar to the search term \"Marketing Manager,\" based on their relevance:\n",
        "1.  **data science data engineer machine learning data scientist project 990 ms in data science iub seeking full-time roles may 25**\n",
        "2.  **senior big data engineer actively seeking for new opportunities data engineer big data sql aws azure hdfs yarn kafka**\n",
        "3.  **software developer scheme designers inc developed features for aircraft configurators**\n",
        "4.  **graduate research and teaching assistant at michigan state university**\n",
        "5.  **enchargado de marketing y ventas en sego eventos**\n",
        "6.  **data analyst at kingston brass**\n",
        "7.  **data science data engineer machine learning data scientist**\n",
        "8. **staff data scientist and analytics engineer equifax**\n",
        "\n",
        "\n",
        "Search term: {query}\n",
        "Job titles:\n",
        "{options_text}\n",
        "<end_of_turn>\n",
        "<start_of_turn>model\n",
        "\"\"\"\n"
      ]
    },
    {
      "cell_type": "code",
      "execution_count": null,
      "id": "0b641155",
      "metadata": {
        "id": "0b641155"
      },
      "outputs": [],
      "source": [
        "# Prompt construction function\n",
        "def build_prompt_NS(query, options):\n",
        "    options_text = \"\\n\".join(f\"- {opt}\" for opt in options)\n",
        "    return f\"\"\"<bos><start_of_turn>user\n",
        "I will give you a list of job titles and a search term.\n",
        "Rank them by how semantically similar they are to the search term.\n",
        "Do not change the job titles I give you — just reorder them into a new list from most to least similar.\n",
        "\n",
        "Search term: {query}\n",
        "Job titles:\n",
        "{options_text}\n",
        "<end_of_turn>\n",
        "<start_of_turn>model\n",
        "\"\"\"\n",
        "\n",
        "# Chunking logic\n",
        "def chunk_list(lst, chunk_size):\n",
        "    for i in range(0, len(lst), chunk_size):\n",
        "        yield lst[i:i + chunk_size]\n",
        "\n",
        "# Generate for a chunk\n",
        "def generate_chunk_ranking(query, options_chunk, max_tokens=max_token, type = 'NS'):\n",
        "    if type == 'NS':\n",
        "        prompt = build_prompt_NS(query, options_chunk)\n",
        "    else:\n",
        "        prompt = build_prompt(query, options_chunk)\n",
        "\n",
        "    # Load model and tokenizer (run in float16 if on GPU)\n",
        "    ai_tokenizer = AutoTokenizer.from_pretrained(model_id)\n",
        "\n",
        "    model = AutoModelForCausalLM.from_pretrained(\n",
        "        model_id,\n",
        "        torch_dtype=torch.float16 if torch.cuda.is_available() else torch.float32\n",
        "    ).to(device)\n",
        "\n",
        "    inputs = ai_tokenizer(prompt, return_tensors=\"pt\", return_attention_mask=True).to(model.device)\n",
        "    outputs = model.generate(\n",
        "        **inputs,\n",
        "        max_new_tokens=max_tokens,\n",
        "        do_sample=False,\n",
        "        temperature=0.1,\n",
        "        pad_token_id=ai_tokenizer.eos_token_id,\n",
        "        # streamer=streamer\n",
        "    )\n",
        "    # print()  # Ensure newline after streamed output\n",
        "    # return gemma_tokenizer.decode(outputs[0], skip_special_tokens=True)\n",
        "\n",
        "    response = ai_tokenizer.decode(outputs[0], skip_special_tokens=True)\n",
        "    print(response)\n",
        "    return extract_ranked_job_titles(response)"
      ]
    },
    {
      "cell_type": "markdown",
      "id": "7161bb11",
      "metadata": {
        "id": "7161bb11"
      },
      "source": [
        "more models Qwen, Lamma2, Lamma3\n",
        "tempurature\n",
        "max token length to bigger\n",
        "10 chunk"
      ]
    },
    {
      "cell_type": "markdown",
      "id": "b3132ec6",
      "metadata": {
        "id": "b3132ec6"
      },
      "source": [
        "Gemma No Shot"
      ]
    },
    {
      "cell_type": "code",
      "execution_count": null,
      "id": "58eab11f",
      "metadata": {
        "id": "58eab11f"
      },
      "outputs": [],
      "source": [
        "titles = df['job_title'].to_list()\n",
        "titles = list(set(titles))\n",
        "options = titles[:30]\n",
        "query = popular_jobs[15]\n",
        "query"
      ]
    },
    {
      "cell_type": "code",
      "execution_count": null,
      "id": "ca210ce2",
      "metadata": {
        "id": "ca210ce2"
      },
      "outputs": [],
      "source": [
        "# Use the correct Gemma model from Hugging Face Hub\n",
        "model_id = \"google/gemma-3-1b-it\"\n",
        "\n",
        "chunk_results = []\n",
        "for chunk in chunk_list(options, 10):\n",
        "    ranked_chunk = generate_chunk_ranking(query, chunk)\n",
        "    print(\"✅ Ranked chunk output:\", ranked_chunk)\n",
        "    chunk_results.extend(ranked_chunk)  # collect all reordered titles"
      ]
    },
    {
      "cell_type": "code",
      "execution_count": null,
      "id": "c17dca25",
      "metadata": {
        "id": "c17dca25"
      },
      "outputs": [],
      "source": [
        "ranked_chunk"
      ]
    },
    {
      "cell_type": "code",
      "execution_count": null,
      "id": "0e29c8d6",
      "metadata": {
        "id": "0e29c8d6"
      },
      "outputs": [],
      "source": [
        "chunk_results"
      ]
    },
    {
      "cell_type": "markdown",
      "id": "2abf824b",
      "metadata": {
        "id": "2abf824b"
      },
      "source": [
        "One Shot"
      ]
    },
    {
      "cell_type": "code",
      "execution_count": null,
      "id": "fa169e4d",
      "metadata": {
        "id": "fa169e4d"
      },
      "outputs": [],
      "source": [
        "model_id = \"google/gemma-3-1b-it\"\n",
        "\n",
        "chunk_results = []\n",
        "for chunk in chunk_list(options, 10):\n",
        "    ranked_chunk = generate_chunk_ranking(query, chunk, type=\"OneShot\")\n",
        "    print(\"✅ Ranked chunk output:\", ranked_chunk)\n",
        "    chunk_results.extend(ranked_chunk)  # collect all reordered titles"
      ]
    },
    {
      "cell_type": "code",
      "execution_count": null,
      "id": "adbc9082",
      "metadata": {
        "id": "adbc9082"
      },
      "outputs": [],
      "source": [
        "chunk_results"
      ]
    },
    {
      "cell_type": "code",
      "execution_count": null,
      "id": "460250ca",
      "metadata": {
        "id": "460250ca"
      },
      "outputs": [],
      "source": [
        "xxx"
      ]
    },
    {
      "cell_type": "code",
      "execution_count": null,
      "id": "36a60441",
      "metadata": {
        "id": "36a60441"
      },
      "outputs": [],
      "source": [
        "# Use the correct Gemma model from Hugging Face Hub\n",
        "model_id = \"NousResearch/Meta-Llama-3-70B-Instruct\"\n",
        "\n",
        "chunk_results = []\n",
        "for chunk in chunk_list(options, 7):\n",
        "    ranked_chunk = generate_chunk_ranking(query, chunk)\n",
        "    print(\"✅ Ranked chunk output:\", ranked_chunk)\n",
        "    chunk_results.extend(ranked_chunk)  # collect all reordered titles"
      ]
    },
    {
      "cell_type": "markdown",
      "id": "581b52ed",
      "metadata": {
        "id": "581b52ed"
      },
      "source": [
        "### Qwen"
      ]
    },
    {
      "cell_type": "code",
      "execution_count": null,
      "id": "02199a91",
      "metadata": {
        "id": "02199a91"
      },
      "outputs": [],
      "source": [
        "# !pip install hf_xet\n",
        "!pip install -U huggingface_hub[hf_xet]"
      ]
    },
    {
      "cell_type": "code",
      "execution_count": null,
      "id": "b13d5198",
      "metadata": {
        "id": "b13d5198"
      },
      "outputs": [],
      "source": [
        "\n",
        "model_id = \"Qwen/Qwen2.5-72B-Instruct\"\n",
        "\n",
        "chunk_results = []\n",
        "for chunk in chunk_list(options, 10):\n",
        "    ranked_chunk = generate_chunk_ranking(query, chunk, type=\"OneShot\")\n",
        "    print(\"✅ Ranked chunk output:\", ranked_chunk)\n",
        "    chunk_results.extend(ranked_chunk)  # collect all reordered titles"
      ]
    },
    {
      "cell_type": "code",
      "execution_count": null,
      "id": "244a40d7",
      "metadata": {
        "id": "244a40d7"
      },
      "outputs": [],
      "source": []
    },
    {
      "cell_type": "code",
      "execution_count": null,
      "id": "330a9e39",
      "metadata": {
        "id": "330a9e39"
      },
      "outputs": [],
      "source": [
        "ranked_chunk"
      ]
    },
    {
      "cell_type": "code",
      "execution_count": null,
      "id": "b2aa5ec0",
      "metadata": {
        "id": "b2aa5ec0"
      },
      "outputs": [],
      "source": [
        "chunk_results"
      ]
    },
    {
      "cell_type": "markdown",
      "id": "45e4cc89",
      "metadata": {
        "id": "45e4cc89"
      },
      "source": [
        "### Llama 3"
      ]
    },
    {
      "cell_type": "code",
      "execution_count": null,
      "id": "15d4b9df",
      "metadata": {
        "id": "15d4b9df"
      },
      "outputs": [],
      "source": []
    },
    {
      "cell_type": "markdown",
      "id": "d093dc99",
      "metadata": {
        "id": "d093dc99"
      },
      "source": [
        "**google/gemma-2-27b-it**, **NousResearch/Meta-Llama-3-70B-Instruct**, **Mistral-Large-Instruct-2411**"
      ]
    },
    {
      "cell_type": "code",
      "execution_count": null,
      "id": "f627fc45",
      "metadata": {
        "id": "f627fc45"
      },
      "outputs": [],
      "source": [
        "lines"
      ]
    },
    {
      "cell_type": "code",
      "execution_count": null,
      "id": "f6b8f34d",
      "metadata": {
        "id": "f6b8f34d"
      },
      "outputs": [],
      "source": [
        "seen"
      ]
    },
    {
      "cell_type": "code",
      "execution_count": null,
      "id": "4b00996e",
      "metadata": {
        "id": "4b00996e"
      },
      "outputs": [],
      "source": [
        "chunk_results"
      ]
    },
    {
      "cell_type": "code",
      "execution_count": null,
      "id": "ef952177",
      "metadata": {
        "id": "ef952177"
      },
      "outputs": [],
      "source": [
        "import re\n",
        "\n",
        "def extract_ranked_job_titles(text):\n",
        "    lines = text.strip().split(\"\\n\")\n",
        "    titles = []\n",
        "    start_ranking = False\n",
        "\n",
        "    for line in lines:\n",
        "        line = line.strip()\n",
        "\n",
        "        # Skip empty or clearly non-ranking sections\n",
        "        if not line:\n",
        "            continue\n",
        "        if \"reasoning:\" in line.lower():\n",
        "            break  # Stop parsing after list ends\n",
        "        if \"most to least similar:\" in line.lower():\n",
        "            start_ranking = True\n",
        "            continue\n",
        "        if not start_ranking:\n",
        "            continue\n",
        "\n",
        "        # Remove leading numbers, bullets, markdown\n",
        "        clean = re.sub(r\"^\\s*[\\-*]?\\s*\\d+\\.\\s*\", \"\", line)      # remove \"1. \" or \"- 1.\"\n",
        "        clean = re.sub(r\"\\*\\*\", \"\", clean)                      # remove bold markers\n",
        "        clean = re.sub(r\"\\s*\\(.*?\\)\", \"\", clean)                # remove things like \"(Most Similar)\"\n",
        "        clean = clean.strip()\n",
        "\n",
        "        if clean and len(clean.split()) >= 2:\n",
        "            titles.append(clean)\n",
        "\n",
        "    return titles\n"
      ]
    },
    {
      "cell_type": "code",
      "execution_count": null,
      "id": "1da40df3",
      "metadata": {
        "id": "1da40df3"
      },
      "outputs": [],
      "source": [
        "sample_output = \"\"\"\n",
        "Job titles:\n",
        "- Junior Software Engineer\n",
        "- Senior Data Scientist\n",
        "- Marketing Analyst\n",
        "- Lead Machine Learning Engineer\n",
        "- AI Researcher\n",
        "- Product Manager\n",
        "\n",
        "model\n",
        "Here's the ranking of the job titles by semantic similarity to the search term \"senior data scientist,\" from most to least similar:\n",
        "\n",
        "1.  **Senior Data Scientist** (Most Similar)\n",
        "2.  Lead Machine Learning Engineer\n",
        "3.  AI Researcher\n",
        "4.  Product Manager\n",
        "5.  Marketing Analyst\n",
        "6.  Junior Software Engineer\n",
        "\n",
        "**Reasoning:**\n",
        "...\n",
        "\"\"\"\n",
        "\n",
        "print(extract_ranked_job_titles(sample_output))\n"
      ]
    },
    {
      "cell_type": "code",
      "execution_count": null,
      "id": "550db7b3",
      "metadata": {
        "id": "550db7b3"
      },
      "outputs": [],
      "source": [
        "chunk_results = []\n",
        "\n",
        "for chunk in chunk_list(options, 50):\n",
        "    ranked_chunk = generate_chunk_ranking(query, chunk)\n",
        "    chunk_results.extend(ranked_chunk)\n",
        "\n",
        "print(\"🎯 FINAL chunk_results:\", chunk_results)\n"
      ]
    },
    {
      "cell_type": "code",
      "execution_count": null,
      "id": "8939a035",
      "metadata": {
        "id": "8939a035"
      },
      "outputs": [],
      "source": [
        "for i, chunk in enumerate(chunk_list(options, 50)):\n",
        "    print(f\"\\n🔍 Processing chunk {i+1}\")\n",
        "    ranked_chunk = generate_chunk_ranking(query, chunk)\n",
        "    print(\"✅ Ranked chunk output:\", ranked_chunk)\n",
        "    chunk_results.extend(ranked_chunk)\n",
        "\n",
        "print(\"\\n🎯 FINAL chunk_results:\", chunk_results)"
      ]
    },
    {
      "cell_type": "code",
      "execution_count": null,
      "id": "87d98ab6",
      "metadata": {
        "id": "87d98ab6"
      },
      "outputs": [],
      "source": [
        "data = ['user',\n",
        " 'I will give you a list of job titles and a search term.',\n",
        " 'Rank the job titles by how semantically similar they are to the search term.',\n",
        " 'Do not change the titles — just reorder them in a ranked list from most to least similar.',\n",
        " 'Search term: senior data scientist',\n",
        " 'Job titles:',\n",
        " 'Junior Software Engineer',\n",
        " 'Senior Data Scientist',\n",
        " 'Marketing Analyst',\n",
        " 'Lead Machine Learning Engineer',\n",
        " 'AI Researcher',\n",
        " 'Product Manager',\n",
        " 'model',\n",
        " 'Here\\'s the ranking of the job titles by semantic similarity to the search term \"senior data scientist,\" from most to least similar:',\n",
        " '**Senior Data Scientist** (Most Similar)',\n",
        " 'Lead Machine Learning Engineer',\n",
        " 'AI Researcher',\n",
        " 'Product Manager',\n",
        " 'Marketing Analyst',\n",
        " 'Junior Software Engineer',\n",
        " '**Reasoning:**',\n",
        " '*   **Senior Data Scientist** is the closest in terms of the core responsibilities and skill set – a senior role focused on data science.',\n",
        " '*   **Lead Machine Learning Engineer** directly mirrors the role of a senior data scientist, focusing on leading a team and complex machine learning projects.',\n",
        " '*   **AI Researcher** is closely related, often involving research and development of new AI techniques, which overlaps with data science.',\n",
        " \"*   **Product Manager** is a broader role, but often involves significant data analysis and understanding of user behavior, which can be a component of a data scientist's work.\",\n",
        " \"*   **Marketing Analyst** is a data-driven role, but it's less focused on the technical complexities of statistical modeling and more on interpreting data for marketing purposes.\",\n",
        " '*   **Junior Software Engineer** is the least related, representing a foundational role']\n",
        "\n",
        "extract_ranked_job_titles(data)"
      ]
    },
    {
      "cell_type": "code",
      "execution_count": null,
      "id": "609b0a7b",
      "metadata": {
        "id": "609b0a7b"
      },
      "outputs": [],
      "source": [
        "import re\n",
        "test = \"**Senior Data Scientist** (Most Similar)\"\n",
        "# Matching pattern (unchanged, works as shown)\n",
        "pattern = r'^\\*{0,2}[A-Za-z\\s]+\\*{0,2}(?:\\s*\\(Most Similar\\))?$'\n",
        "print(re.match(pattern, test))  # Should match\n",
        "# New cleaning pattern\n",
        "cleaned = re.sub(r'^\\*+|\\*+\\s*\\(Most Similar\\)$|\\*+$', '', test).strip()\n",
        "print(cleaned)  # Should print: Senior Data Scientist"
      ]
    },
    {
      "cell_type": "code",
      "execution_count": null,
      "id": "006f8428",
      "metadata": {
        "id": "006f8428"
      },
      "outputs": [],
      "source": [
        "start_index = next(i for i, item in enumerate(data) if re.search(r'\\(Most Similar\\)', item))\n",
        "# Extract job titles from the ranked list section\n",
        "job_titles = []\n",
        "seen = set()\n",
        "\n",
        "for item in data[start_index:]:\n",
        "    # Match job titles (alphanumeric with spaces, optionally with \"(Most Similar)\", ignoring Markdown **)\n",
        "    if re.match(r'^\\*?\\*?[A-Za-z\\s]+(\\s*\\(Most Similar\\))?\\*?\\*?$', item.strip()):\n",
        "        # Remove Markdown ** and \"(Most Similar)\" to get the clean title\n",
        "        title = re.sub(r'^\\*?\\*?|\\*?\\*?$|\\s*\\(Most Similar\\)$', '', item).strip()\n",
        "        if title not in seen:\n",
        "            seen.add(title)\n",
        "            job_titles.append(title)"
      ]
    },
    {
      "cell_type": "code",
      "execution_count": null,
      "id": "e460beb5",
      "metadata": {
        "id": "e460beb5"
      },
      "outputs": [],
      "source": [
        "job_titles"
      ]
    },
    {
      "cell_type": "code",
      "execution_count": null,
      "id": "dcab0eea",
      "metadata": {
        "id": "dcab0eea"
      },
      "outputs": [],
      "source": [
        "chunk_results"
      ]
    },
    {
      "cell_type": "code",
      "execution_count": null,
      "id": "b3631a76",
      "metadata": {
        "id": "b3631a76"
      },
      "outputs": [],
      "source": [
        "# Find the start index by matching any title containing \"(Most Similar)\"\n",
        "start_index = next(i for i, item in enumerate(chunk_results) if re.search(r'\\(Most Similar\\)', item))\n",
        "\n",
        "# Extract job titles from the ranked list section\n",
        "job_titles = []\n",
        "seen = set()\n",
        "\n",
        "for item in chunk_results[start_index:]:\n",
        "    # Match job titles (alphanumeric with spaces, optionally with \"(Most Similar)\")\n",
        "    if re.match(r'^[A-Za-z\\s]+(\\s*\\(Most Similar\\))?$', item.strip()):\n",
        "        # Extract only the title part, removing \"(Most Similar)\" if present\n",
        "        title = re.sub(r'\\s*\\(Most Similar\\)$', '', item).strip()\n",
        "        if title not in seen:\n",
        "            seen.add(title)\n",
        "            job_titles.append(title)\n",
        "\n",
        "print(job_titles)"
      ]
    },
    {
      "cell_type": "code",
      "execution_count": null,
      "id": "dc0957f4",
      "metadata": {
        "id": "dc0957f4"
      },
      "outputs": [],
      "source": [
        "from transformers import AutoTokenizer, AutoModelForSeq2SeqLM\n",
        "\n",
        "model_id = \"google/flan-t5-large\"\n",
        "\n",
        "GenAI_tokenizer = AutoTokenizer.from_pretrained(model_id)\n",
        "model = AutoModelForSeq2SeqLM.from_pretrained(model_id)\n",
        "n = 5\n",
        "query = \"data scientist\"\n",
        "options = titles\n",
        "# options = get_titles(n, query)\n",
        "\n",
        "# prompt = \"\"\"Which song fits the query.\n",
        "# QUERY: I'm feeling so sad rn\n",
        "# OPTIONS\n",
        "# -happy song\n",
        "# -some sad song\n",
        "# -a very happy song\"\"\"\n",
        "\n",
        "prompt = build_prompt(query, options)\n",
        "\n",
        "input_ids = GenAI_tokenizer(prompt, return_tensors=\"pt\").input_ids\n",
        "outputs = model.generate(input_ids)\n",
        "print(GenAI_tokenizer.decode(outputs[0], skip_special_tokens=True))"
      ]
    },
    {
      "cell_type": "markdown",
      "id": "34393ec1",
      "metadata": {
        "id": "34393ec1"
      },
      "source": [
        "Use gemma model from hugging face. use Llama 3 and use Qwen3, minstral ... smol small model ... deep seek model\n",
        "-"
      ]
    },
    {
      "cell_type": "code",
      "execution_count": null,
      "id": "36670b45",
      "metadata": {
        "id": "36670b45"
      },
      "outputs": [],
      "source": [
        "# prompt = \"\"\"Which song fits the query.\n",
        "# QUERY: I'm feeling so sad rn\n",
        "# OPTIONS\n",
        "# -happy song\n",
        "# -some sad song\n",
        "# -a very happy song\"\"\"\n",
        "\n",
        "# # prompt = build_prompt(query, options)\n",
        "\n",
        "# input_ids = GenAI_tokenizer(prompt, return_tensors=\"pt\").input_ids\n",
        "# outputs = model.generate(input_ids)\n",
        "# print(GenAI_tokenizer.decode(outputs[0], skip_special_tokens=True))"
      ]
    },
    {
      "cell_type": "code",
      "execution_count": null,
      "id": "8179b540",
      "metadata": {
        "id": "8179b540"
      },
      "outputs": [],
      "source": [
        "options"
      ]
    },
    {
      "cell_type": "code",
      "execution_count": null,
      "id": "e8642b71",
      "metadata": {
        "id": "e8642b71"
      },
      "outputs": [],
      "source": [
        "prompt"
      ]
    },
    {
      "cell_type": "code",
      "execution_count": null,
      "id": "d34cef29",
      "metadata": {
        "id": "d34cef29"
      },
      "outputs": [],
      "source": [
        "# decoded_output"
      ]
    },
    {
      "cell_type": "markdown",
      "id": "a7344573",
      "metadata": {
        "id": "a7344573"
      },
      "source": [
        "# Scratch"
      ]
    },
    {
      "cell_type": "code",
      "execution_count": null,
      "id": "5a8fd124",
      "metadata": {
        "id": "5a8fd124"
      },
      "outputs": [],
      "source": [
        "titles = df['job_title'].to_list()\n",
        "titles = list(set(titles))\n",
        "titles"
      ]
    },
    {
      "cell_type": "code",
      "execution_count": null,
      "id": "b5107d92",
      "metadata": {
        "id": "b5107d92"
      },
      "outputs": [],
      "source": [
        "len(titles)"
      ]
    },
    {
      "cell_type": "code",
      "execution_count": null,
      "id": "d15f5061",
      "metadata": {
        "id": "d15f5061"
      },
      "outputs": [],
      "source": [
        "query"
      ]
    },
    {
      "cell_type": "code",
      "execution_count": null,
      "id": "58673c71",
      "metadata": {
        "id": "58673c71"
      },
      "outputs": [],
      "source": [
        "query = popular_jobs[5]\n",
        "best_options = []\n",
        "batch_size = 50\n",
        "for i in range(0, len(titles), batch_size):\n",
        "    batch = titles[i:i + batch_size]\n",
        "    prompt = build_prompt(query, batch)\n",
        "    input_ids = GenAI_tokenizer(prompt, return_tensors=\"pt\").input_ids\n",
        "    outputs = model.generate(input_ids)\n",
        "    response = GenAI_tokenizer.decode(outputs[0], skip_special_tokens=True)\n",
        "    best_options.append(response)\n",
        "print(query)\n",
        "\n",
        "print(best_options)"
      ]
    },
    {
      "cell_type": "code",
      "execution_count": null,
      "id": "a8a8c8f8",
      "metadata": {
        "id": "a8a8c8f8"
      },
      "outputs": [],
      "source": [
        "\n",
        "titles = best_options\n",
        "batch_size = 50\n",
        "for i in range(0, len(titles), batch_size):\n",
        "    batch = titles[i:i + batch_size]\n",
        "    prompt = build_prompt(query, batch)\n",
        "    input_ids = GenAI_tokenizer(prompt, return_tensors=\"pt\").input_ids\n",
        "    outputs = model.generate(input_ids)\n",
        "    response = GenAI_tokenizer.decode(outputs[0], skip_special_tokens=True)\n",
        "    best_options.append(response)\n",
        "print(query)\n",
        "\n",
        "print(best_options)"
      ]
    },
    {
      "cell_type": "code",
      "execution_count": null,
      "id": "c0d738f2",
      "metadata": {
        "id": "c0d738f2"
      },
      "outputs": [],
      "source": [
        "len(best_options)"
      ]
    },
    {
      "cell_type": "code",
      "execution_count": null,
      "id": "3ad3fe97",
      "metadata": {
        "id": "3ad3fe97"
      },
      "outputs": [],
      "source": [
        "query = popular_jobs[5]\n",
        "best_options = []\n",
        "batch_size = 50\n",
        "for i in range(0, len(titles), batch_size):\n",
        "    batch = titles[i:i + batch_size]\n",
        "    prompt = build_prompt(query, batch)\n",
        "    input_ids = GenAI_tokenizer(prompt, return_tensors=\"pt\").input_ids\n",
        "    outputs = model.generate(input_ids)\n",
        "    response = GenAI_tokenizer.decode(outputs[0], skip_special_tokens=True)\n",
        "    best_options.append(response)\n",
        "print(query)\n",
        "best_options"
      ]
    },
    {
      "cell_type": "code",
      "execution_count": null,
      "id": "ece0fd2a",
      "metadata": {
        "id": "ece0fd2a"
      },
      "outputs": [],
      "source": [
        "# titles = ['Experienced Software Engineer AI Automation Specialist Python Cloud Enthusiast',\n",
        "#  'data scientistgeoscientist',\n",
        "#  'Data Analyst Experience with Python SQL Tableau Power BI Excel and Alteryx LLB Data Scientist',\n",
        "#  'Business Analyst Data Science Competitive Programmer Web Developer',\n",
        "#  'Data Scientist',\n",
        "#  'data analyst python sql machine learning power bi tableau sql server',\n",
        "#  'msc data science graduate full stack developer python sql java react',\n",
        "#  'data analyst with 2 years of experience in extracting analyzing and visualizing data to empower organizations with',\n",
        "#  'ms in ds at university of new haven grad 2023 actively seeking for',\n",
        "#  'looking for a opportunity in field of Data Analytic Data Science NLP Power Bi SQL Machine Learning',\n",
        "#  'software engineer',\n",
        "#  '3rd year data science student at arizona state university. passionate about turning data into',\n",
        "#  'actively seeking full-time opportunities in data science python sql r spark machine',\n",
        "#  'experienced data analyst actively seeking opportunities to leverage data for business success sql python tableau',\n",
        "#  'actively looking for internships and full-time opportunities 2025',\n",
        "#  'Data Analyst Machine Learning Scientist',\n",
        "#  'ms in cs k-state specializing in ai m',\n",
        "#  'aspiring data analyst sql python tableau power bi skilled in excel data-driven',\n",
        "#  'data engineer ai machine learning enthusiast sql python big data cloud technologies ',\n",
        "#  'Digital Marketing Strategist Growth Performance Marketing SEO PPC Social Media Expert',\n",
        "#  'data scientist ms in data science',\n",
        "#  'data analyst turning complex data into actionable insights passionate about solving business challenges with data-driven solutions',\n",
        "#  'actively seeking data analyst jobs',\n",
        "#  'msc physics interested in responsible ai data',\n",
        "#  'mlops engineer vosyn ai cicd docker aws']\n",
        "# query = popular_jobs[5]\n",
        "# best_options = []\n",
        "# batch_size = 50\n",
        "# for i in range(0, len(titles), batch_size):\n",
        "#     batch = titles[i:i + batch_size]\n",
        "#     prompt = build_prompt(query, batch)\n",
        "#     input_ids = GenAI_tokenizer(prompt, return_tensors=\"pt\").input_ids\n",
        "#     outputs = model.generate(input_ids)\n",
        "#     response = GenAI_tokenizer.decode(outputs[0], skip_special_tokens=True)\n",
        "#     best_options.append(response)\n",
        "# print(query)\n",
        "# best_options"
      ]
    },
    {
      "cell_type": "code",
      "execution_count": null,
      "id": "0fcd0497",
      "metadata": {
        "id": "0fcd0497"
      },
      "outputs": [],
      "source": [
        "print(query)\n",
        "# best_options"
      ]
    },
    {
      "cell_type": "code",
      "execution_count": null,
      "id": "6f3b8f6e",
      "metadata": {
        "id": "6f3b8f6e"
      },
      "outputs": [],
      "source": [
        "batch"
      ]
    },
    {
      "cell_type": "code",
      "execution_count": null,
      "id": "bb4ffe7d",
      "metadata": {
        "id": "bb4ffe7d"
      },
      "outputs": [],
      "source": [
        "def generate_best_option(model, tokenizer, query, titles, batch_size=50):\n",
        "    best_options = []\n",
        "    for i in range(0, len(titles), batch_size):\n",
        "        batch = options[i:i + batch_size]\n",
        "        prompt = build_prompt(query, batch)\n",
        "        input_ids = tokenizer(prompt, return_tensors=\"pt\", truncation=True, max_length=1024).input_ids\n",
        "        outputs = model.generate(input_ids, max_new_tokens=20)\n",
        "        response = tokenizer.decode(outputs[0], skip_special_tokens=True)\n",
        "        best_options.append(response)\n",
        "    return best_options\n",
        "\n",
        "# def generate_best_option(model, tokenizer, query, titles, batch_size=50):\n",
        "#     best_options = []\n",
        "#     for i in range(0, len(titles), batch_size):\n",
        "#         batch = titles[i:i + batch_size]\n",
        "#         prompt = build_prompt(query, batch)\n",
        "#         input_ids = tokenizer(prompt, return_tensors=\"pt\").input_ids\n",
        "#         outputs = model.generate(input_ids)\n",
        "#         response = tokenizer.decode(outputs[0], skip_special_tokens=True)\n",
        "#         best_options.append(response)\n",
        "#     return best_options"
      ]
    },
    {
      "cell_type": "code",
      "execution_count": null,
      "id": "7cc7332e",
      "metadata": {
        "id": "7cc7332e"
      },
      "outputs": [],
      "source": [
        "options"
      ]
    },
    {
      "cell_type": "code",
      "execution_count": null,
      "id": "bac5e2d3",
      "metadata": {
        "id": "bac5e2d3"
      },
      "outputs": [],
      "source": []
    },
    {
      "cell_type": "code",
      "execution_count": null,
      "id": "59da58de",
      "metadata": {
        "id": "59da58de"
      },
      "outputs": [],
      "source": [
        "query = popular_jobs[3]\n",
        "options = generate_best_option(model, GenAI_tokenizer, query, titles, batch_size=50)\n",
        "options"
      ]
    },
    {
      "cell_type": "code",
      "execution_count": null,
      "id": "012ff758",
      "metadata": {
        "id": "012ff758"
      },
      "outputs": [],
      "source": [
        "query"
      ]
    },
    {
      "cell_type": "code",
      "execution_count": null,
      "id": "936de2c8",
      "metadata": {
        "id": "936de2c8"
      },
      "outputs": [],
      "source": [
        "xxxx\n",
        "\n",
        "- Llama 4 - One of them can Large context window\n",
        "- lack of compute and gpu | cpu 8-10x slower\n",
        "- flant5 is outdated\n",
        "- build a prompt from scratch in a different way\n",
        "- Prompt: i'm going to give a list of candidate's job titles as well as search term.\n",
        "I want you to rank the job titles based on their semantic similarity to the search term. I want you to return the ranked list without changing the job\n",
        "titles but only the order of them. Here is the search term {} and here is the list of job titles {}\n",
        "- more clear instructions\n",
        "- Use gemma model from hugging face. use Llama 3 and use Qwen3\n",
        "- Qualitative performance"
      ]
    },
    {
      "cell_type": "code",
      "execution_count": null,
      "id": "66c24449",
      "metadata": {
        "id": "66c24449"
      },
      "outputs": [],
      "source": [
        "\n",
        "for query in popular_jobs:\n",
        "    options = generate_best_option(model, GenAI_tokenizer, query, titles, batch_size=50)\n",
        "\n",
        "    prompt = build_prompt(query, options)\n",
        "\n",
        "    input_ids = GenAI_tokenizer(prompt, return_tensors=\"pt\").input_ids\n",
        "    outputs = model.generate(input_ids)\n",
        "    decoded_output = GenAI_tokenizer.decode(outputs[0], skip_special_tokens=True)\n",
        "\n",
        "    print(f\"Query: {query}\")\n",
        "\n",
        "    df = get_all_similarity(query)\n",
        "    df_compare = compare_results(n, query)\n",
        "    display(df_compare)\n",
        "    print(f\"AI Generated Output: {decoded_output}\\n\")\n",
        "    print(\"\")"
      ]
    },
    {
      "cell_type": "markdown",
      "id": "7d9957ca",
      "metadata": {
        "id": "7d9957ca"
      },
      "source": [
        "# End Scratch"
      ]
    },
    {
      "cell_type": "code",
      "execution_count": null,
      "id": "d61158af",
      "metadata": {
        "id": "d61158af"
      },
      "outputs": [],
      "source": [
        "xxx"
      ]
    },
    {
      "cell_type": "code",
      "execution_count": null,
      "id": "94883eda",
      "metadata": {
        "id": "94883eda"
      },
      "outputs": [],
      "source": [
        "# n = 5\n",
        "\n",
        "# for query in popular_jobs:\n",
        "\n",
        "#     options = get_titles(n, query)\n",
        "#     prompt = build_prompt(query, options)\n",
        "\n",
        "#     input_ids = GenAI_tokenizer(prompt, return_tensors=\"pt\").input_ids\n",
        "#     outputs = model.generate(input_ids)\n",
        "#     decoded_output = GenAI_tokenizer.decode(outputs[0], skip_special_tokens=True)\n",
        "\n",
        "#     print(f\"Query: {query}\")\n",
        "#     print(f\"AI Generated Output: {decoded_output}\\n\")\n",
        "    # print(\" \")"
      ]
    },
    {
      "cell_type": "code",
      "execution_count": null,
      "id": "74d7480b",
      "metadata": {
        "id": "74d7480b"
      },
      "outputs": [],
      "source": [
        "for query in popular_jobs:\n",
        "    options = get_titles(n, query)\n",
        "    prompt = build_prompt(query, options)\n",
        "\n",
        "    input_ids = GenAI_tokenizer(prompt, return_tensors=\"pt\").input_ids\n",
        "    outputs = model.generate(input_ids)\n",
        "    decoded_output = GenAI_tokenizer.decode(outputs[0], skip_special_tokens=True)\n",
        "\n",
        "    print(f\"Query: {query}\")\n",
        "\n",
        "    df = get_all_similarity(query)\n",
        "    df_compare = compare_results(n, query)\n",
        "    # print(job)\n",
        "    display(df_compare)\n",
        "    print(f\"AI Generated Output: {decoded_output}\\n\")\n",
        "    print(\"\")"
      ]
    },
    {
      "cell_type": "code",
      "execution_count": null,
      "id": "1965ccc4",
      "metadata": {
        "id": "1965ccc4"
      },
      "outputs": [],
      "source": []
    },
    {
      "cell_type": "code",
      "execution_count": null,
      "id": "2c6dc4c3",
      "metadata": {
        "id": "2c6dc4c3"
      },
      "outputs": [],
      "source": [
        "xxxx"
      ]
    },
    {
      "cell_type": "code",
      "execution_count": null,
      "id": "54c4cb95",
      "metadata": {
        "id": "54c4cb95"
      },
      "outputs": [],
      "source": []
    },
    {
      "cell_type": "code",
      "execution_count": null,
      "id": "49596588",
      "metadata": {
        "id": "49596588"
      },
      "outputs": [],
      "source": []
    },
    {
      "cell_type": "code",
      "execution_count": null,
      "id": "98b75e69",
      "metadata": {
        "id": "98b75e69"
      },
      "outputs": [],
      "source": []
    },
    {
      "cell_type": "code",
      "execution_count": null,
      "id": "765a674f",
      "metadata": {
        "id": "765a674f"
      },
      "outputs": [],
      "source": [
        "outputs"
      ]
    },
    {
      "cell_type": "code",
      "execution_count": null,
      "id": "348ec8ff",
      "metadata": {
        "id": "348ec8ff"
      },
      "outputs": [],
      "source": [
        "prompt = \"\"\"Sort all songs based on fit to query in descending order.\n",
        "QUERY: I'm feeling so upbeat rn\n",
        "OPTIONS:\n",
        "-crazy song\n",
        "-some song\n",
        "-blues\n",
        "-a very happy song\"\"\"\n",
        "\n",
        "input_ids = tokenizer(prompt, return_tensors=\"pt\").input_ids\n",
        "outputs = model.generate(input_ids)\n",
        "print(tokenizer.decode(outputs[0], skip_special_tokens=True))"
      ]
    },
    {
      "cell_type": "code",
      "execution_count": null,
      "id": "83207e3b",
      "metadata": {
        "id": "83207e3b"
      },
      "outputs": [],
      "source": []
    },
    {
      "cell_type": "markdown",
      "id": "ad1e88fc",
      "metadata": {
        "id": "ad1e88fc"
      },
      "source": [
        "### Scratch"
      ]
    },
    {
      "cell_type": "code",
      "execution_count": null,
      "id": "7faf5822",
      "metadata": {
        "id": "7faf5822"
      },
      "outputs": [],
      "source": [
        "sentence = \"What time is it, Tom?\"\n",
        "\n",
        "sentence_encoded = gen_ai_tokenizer(sentence, return_tensors='pt')\n",
        "\n",
        "sentence_decoded = gen_ai_tokenizer.decode(\n",
        "        sentence_encoded[\"input_ids\"][0],\n",
        "        skip_special_tokens=True\n",
        "    )\n",
        "\n",
        "print('ENCODED SENTENCE:')\n",
        "print(sentence_encoded[\"input_ids\"][0])\n",
        "print('\\nDECODED SENTENCE:')\n",
        "print(sentence_decoded)"
      ]
    },
    {
      "cell_type": "code",
      "execution_count": null,
      "id": "aac84e46",
      "metadata": {
        "id": "aac84e46"
      },
      "outputs": [],
      "source": [
        "sentence_encoded[\"input_ids\"][0]"
      ]
    },
    {
      "cell_type": "markdown",
      "id": "7fbf20ee",
      "metadata": {
        "id": "7fbf20ee"
      },
      "source": []
    },
    {
      "cell_type": "code",
      "execution_count": null,
      "id": "46907124",
      "metadata": {
        "id": "46907124"
      },
      "outputs": [],
      "source": [
        "# Creating a vectorize representation for each job title in our dataframe\n",
        "job_titles = df.job_title_cleaned\n",
        "\n",
        "doc_sent_gen_ai = []\n",
        "\n",
        "for sentence in job_titles:\n",
        "    sentence_encoded = gen_ai_tokenizer(sentence, return_tensors='pt')\n",
        "\n",
        "    sentence_encoded_mean = sum(sentence_encoded[\"input_ids\"][0]) / len(sentence_encoded[\"input_ids\"][0]) # returning a mean for each job title\n",
        "\n",
        "    # print(sentence)\n",
        "    # print(sentence_encoded_mean)\n",
        "\n",
        "    doc_sent_gen_ai.append(sentence_encoded_mean.item()) # returning a list for all job titles\n",
        "\n",
        "# word_vec_mean = sum(word_vec_mean) / len(word_vec_mean) # This was indented but just fixed this round - if it breaks, this should be indented again\n",
        "# doc_sent_vec.append(doc_sent_vec)\n",
        "\n",
        "# return doc_sent_vec"
      ]
    },
    {
      "cell_type": "code",
      "execution_count": null,
      "id": "a6fa1ae4",
      "metadata": {
        "id": "a6fa1ae4"
      },
      "outputs": [],
      "source": [
        "sentence_encoded"
      ]
    },
    {
      "cell_type": "code",
      "execution_count": null,
      "id": "fbce7af2",
      "metadata": {
        "id": "fbce7af2"
      },
      "outputs": [],
      "source": [
        "sentence_decoded = gen_ai_tokenizer.decode(\n",
        "        sentence_encoded[\"input_ids\"][0],\n",
        "        skip_special_tokens=True\n",
        "    )\n",
        "\n",
        "sentence_decoded"
      ]
    },
    {
      "cell_type": "code",
      "execution_count": null,
      "id": "17a3572a",
      "metadata": {
        "id": "17a3572a"
      },
      "outputs": [],
      "source": [
        "sentence_encoded"
      ]
    },
    {
      "cell_type": "code",
      "execution_count": null,
      "id": "18def833",
      "metadata": {
        "id": "18def833"
      },
      "outputs": [],
      "source": [
        "query = \"What time is it, Tom?\"\n",
        "\n",
        "q_sentence_encoded = gen_ai_tokenizer(query, return_tensors='pt')\n",
        "q_sentence_encoded_mean = sum(q_sentence_encoded[\"input_ids\"][0]) / len(q_sentence_encoded[\"input_ids\"][0])"
      ]
    },
    {
      "cell_type": "code",
      "execution_count": null,
      "id": "f0f75e16",
      "metadata": {
        "id": "f0f75e16"
      },
      "outputs": [],
      "source": [
        "q_sentence_encoded_mean.item()"
      ]
    },
    {
      "cell_type": "markdown",
      "id": "ecb43b10",
      "metadata": {
        "id": "ecb43b10"
      },
      "source": [
        "### Unscratch"
      ]
    },
    {
      "cell_type": "code",
      "execution_count": null,
      "id": "809cb9c2",
      "metadata": {
        "id": "809cb9c2"
      },
      "outputs": [],
      "source": [
        "# Mean Pooling - Take average of all tokens\n",
        "def mean_pooling(model_output, attention_mask):\n",
        "    token_embeddings = model_output.last_hidden_state #First element of model_output contains all token embeddings\n",
        "    input_mask_expanded = attention_mask.unsqueeze(-1).expand(token_embeddings.size()).float()\n",
        "    return torch.sum(token_embeddings * input_mask_expanded, 1) / torch.clamp(input_mask_expanded.sum(1), min=1e-9)\n",
        "\n",
        "\n",
        "#Encode text\n",
        "def gen_encode(texts):\n",
        "    # Tokenize sentences\n",
        "    encoded_input = gen_ai_tokenizer(texts, padding=True, \\\n",
        "        truncation=True, return_tensors='pt')\n",
        "\n",
        "    # Compute token embeddings\n",
        "    with torch.no_grad():\n",
        "        generated_output = gen_model.generate(**encoded_input, return_dict=True)\n",
        "\n",
        "    # Perform pooling\n",
        "    embeddings = mean_pooling(_output, encoded_input['attention_mask'])\n",
        "\n",
        "    # Normalize embeddings\n",
        "    embeddings = F.normalize(embeddings, p=2, dim=1)\n",
        "\n",
        "    return generated_output"
      ]
    },
    {
      "cell_type": "code",
      "execution_count": null,
      "id": "977f542b",
      "metadata": {
        "id": "977f542b"
      },
      "outputs": [],
      "source": [
        "gen_encode(texts[0])"
      ]
    },
    {
      "cell_type": "code",
      "execution_count": null,
      "id": "bf891041",
      "metadata": {
        "id": "bf891041"
      },
      "outputs": [],
      "source": [
        "encoded_input.tokens"
      ]
    },
    {
      "cell_type": "code",
      "execution_count": null,
      "id": "9fefec81",
      "metadata": {
        "id": "9fefec81"
      },
      "outputs": [],
      "source": [
        "texts = df['job_title_cleaned'].to_list()\n",
        "\n",
        "encoded_input = gen_ai_tokenizer(texts, padding=True, truncation=True, return_tensors='pt')\n",
        "\n",
        "# Compute token embeddings\n",
        "with torch.no_grad():\n",
        "    # model_output = gen_model.generate(**encoded_input, return_dict=True)\n",
        "    model_output = gen_model.generate(**encoded_input)"
      ]
    },
    {
      "cell_type": "code",
      "execution_count": null,
      "id": "f1eccc7a",
      "metadata": {
        "id": "f1eccc7a"
      },
      "outputs": [],
      "source": [
        "model_output"
      ]
    },
    {
      "cell_type": "code",
      "execution_count": null,
      "id": "a3b10dda",
      "metadata": {
        "id": "a3b10dda"
      },
      "outputs": [],
      "source": [
        "model_output[0]"
      ]
    },
    {
      "cell_type": "code",
      "execution_count": null,
      "id": "66585626",
      "metadata": {
        "id": "66585626"
      },
      "outputs": [],
      "source": [
        "encoded_input.items"
      ]
    },
    {
      "cell_type": "code",
      "execution_count": null,
      "id": "45c7cbc9",
      "metadata": {
        "id": "45c7cbc9"
      },
      "outputs": [],
      "source": [
        "encoded_input['input_ids'][0]"
      ]
    },
    {
      "cell_type": "code",
      "execution_count": null,
      "id": "44dc09d8",
      "metadata": {
        "id": "44dc09d8"
      },
      "outputs": [],
      "source": [
        "with torch.no_grad():\n",
        "        model_output = gen_model(**encoded_input)"
      ]
    },
    {
      "cell_type": "code",
      "execution_count": null,
      "id": "4275a401",
      "metadata": {
        "id": "4275a401"
      },
      "outputs": [],
      "source": [
        "# get gen embedding for all docs\n",
        "titles_list = df['job_title_cleaned'].to_list()\n",
        "titles_list"
      ]
    },
    {
      "cell_type": "code",
      "execution_count": null,
      "id": "0f754268",
      "metadata": {
        "id": "0f754268"
      },
      "outputs": [],
      "source": [
        "gen_doc_emb = gen_encode(titles_list)"
      ]
    },
    {
      "cell_type": "code",
      "execution_count": null,
      "id": "31dd9e2d",
      "metadata": {
        "id": "31dd9e2d"
      },
      "outputs": [],
      "source": [
        "query"
      ]
    },
    {
      "cell_type": "code",
      "execution_count": null,
      "id": "8e4c011e",
      "metadata": {
        "id": "8e4c011e"
      },
      "outputs": [],
      "source": [
        "\n",
        "\n",
        "encoded_input = gen_ai_tokenizer(query, padding=True, truncation=True, return_tensors='pt')\n",
        "\n",
        "with torch.no_grad():\n",
        "    model_output = gen_model(**encoded_input, return_dict=True)\n",
        "    # model_output = gen_model(**encoded_input)\n",
        "\n",
        "mean_pooling(model_output, encoded_input['attention_mask'])"
      ]
    },
    {
      "cell_type": "code",
      "execution_count": null,
      "id": "a066f862",
      "metadata": {
        "id": "a066f862"
      },
      "outputs": [],
      "source": [
        "def get_gen_ai_query_similarity(gen_doc_emb, query):\n",
        "    \"\"\"\n",
        "    query_gen: processing the query\n",
        "    gen_doc_emb: bert embedding for all docs\n",
        "    query: query doc\n",
        "\n",
        "    return: cosine similarity between query and all docs\n",
        "\n",
        "    \"\"\"\n",
        "    query_gen = gen_encode(query)\n",
        "\n",
        "    #Compute dot score between query and all document embeddings\n",
        "    cos_sim_gen = torch.mm(query_gen, gen_doc_emb.transpose(0, 1))[0].cpu().tolist()\n",
        "\n",
        "    return cos_sim_gen"
      ]
    },
    {
      "cell_type": "code",
      "execution_count": null,
      "id": "efaa6ae1",
      "metadata": {
        "id": "efaa6ae1"
      },
      "outputs": [],
      "source": [
        "query = 'seeking human resources'\n",
        "cos_sim_gen = get_gen_ai_query_similarity(gen_doc_emb, query)\n",
        "cos_sim_gen"
      ]
    },
    {
      "cell_type": "code",
      "execution_count": null,
      "id": "650677f8",
      "metadata": {
        "id": "650677f8"
      },
      "outputs": [],
      "source": [
        "def get_all_similarity(query):\n",
        "\n",
        "    #Bert similarity\n",
        "    cos_sim_bert = get_bert_query_similarity(doc_emb, query)\n",
        "    df['bert_fit'] = cos_sim_bert\n",
        "\n",
        "    #Fasttext similarity\n",
        "    cos_sim_fasttext = get_fasttext_query_similarity(doc_sent_vec_ft, query)\n",
        "    df['fasttext_fit'] = cos_sim_fasttext\n",
        "\n",
        "    # original TFIDF similarity and Word2Vec Similarity for comparison\n",
        "    cos_sim = get_tf_idf_query_similarity(vectorizer, docs_tfidf, query)\n",
        "    df['tfidf_fit'] = cos_sim\n",
        "\n",
        "    cos_sim_w2v = get_w2v_query_similarity(document_word_embeddings, query)\n",
        "    df['w2v_fit'] = cos_sim_w2v\n",
        "\n",
        "    cos_sim_glove = get_glove_query_similarity(doc_sent_vec, query)\n",
        "    df['glove_fit'] = cos_sim_glove\n",
        "\n",
        "    return df"
      ]
    },
    {
      "cell_type": "code",
      "execution_count": null,
      "id": "8bf392de",
      "metadata": {
        "id": "8bf392de"
      },
      "outputs": [],
      "source": [
        "query = 'seeking human resources'\n",
        "df = get_all_similarity(query)\n",
        "top_candidates(n = 10, by = 'bert_fit', ascending = False, min_con = 0)"
      ]
    },
    {
      "cell_type": "code",
      "execution_count": null,
      "id": "32dd86b1",
      "metadata": {
        "id": "32dd86b1"
      },
      "outputs": [],
      "source": []
    },
    {
      "cell_type": "code",
      "execution_count": null,
      "id": "4928ef9c",
      "metadata": {
        "id": "4928ef9c"
      },
      "outputs": [],
      "source": []
    },
    {
      "cell_type": "code",
      "execution_count": null,
      "id": "0a17f8a1",
      "metadata": {
        "id": "0a17f8a1"
      },
      "outputs": [],
      "source": [
        "# Creating a fasttext vectorize representation for each query\n",
        "def q_sent_vec_ft(query):\n",
        "    q_sent_vec_ft = []\n",
        "    q_word_vec_ft = []\n",
        "\n",
        "    for word in query.split():\n",
        "        if word in ft_dict:\n",
        "            vectors = ft_dict[word]\n",
        "            q_word_vec_ft.append(vectors)\n",
        "        else:\n",
        "            q_word_vec_ft.append(oov_word)\n",
        "    q_word_vec_mean_ft = sum(q_word_vec_ft) / len(q_word_vec_ft) # This was indented but just fixed this round - if it breaks, this should be indented again\n",
        "    q_sent_vec_ft.append(q_word_vec_mean_ft)\n",
        "\n",
        "    return q_sent_vec_ft"
      ]
    },
    {
      "cell_type": "code",
      "execution_count": null,
      "id": "23bfa7d9",
      "metadata": {
        "id": "23bfa7d9"
      },
      "outputs": [],
      "source": [
        "doc_sent_vec"
      ]
    },
    {
      "cell_type": "code",
      "execution_count": null,
      "id": "734a0e5f",
      "metadata": {
        "id": "734a0e5f"
      },
      "outputs": [],
      "source": [
        "example_indices = [40, 200]\n",
        "\n",
        "dash_line = '-'.join('' for x in range(100))\n",
        "\n",
        "for i, index in enumerate(example_indices):\n",
        "    print(dash_line)\n",
        "    print('Example ', i + 1)\n",
        "    print(dash_line)\n",
        "    print('INPUT DIALOGUE:')\n",
        "    print(dataset['test'][index]['dialogue'])\n",
        "    print(dash_line)\n",
        "    print('BASELINE HUMAN SUMMARY:')\n",
        "    print(dataset['test'][index]['summary'])\n",
        "    print(dash_line)\n",
        "    print()"
      ]
    },
    {
      "cell_type": "code",
      "execution_count": null,
      "id": "3c4840fe",
      "metadata": {
        "id": "3c4840fe"
      },
      "outputs": [],
      "source": []
    },
    {
      "cell_type": "code",
      "execution_count": null,
      "id": "383a8f50",
      "metadata": {
        "id": "383a8f50"
      },
      "outputs": [],
      "source": []
    },
    {
      "cell_type": "code",
      "execution_count": null,
      "id": "e40b971a",
      "metadata": {
        "id": "e40b971a"
      },
      "outputs": [],
      "source": []
    },
    {
      "cell_type": "code",
      "metadata": {
        "id": "0a08e358"
      },
      "source": [
        "!pip install --upgrade keras_preprocessing"
      ],
      "id": "0a08e358",
      "execution_count": null,
      "outputs": []
    },
    {
      "cell_type": "code",
      "metadata": {
        "id": "41549fe4"
      },
      "source": [
        "!pip install keras_preprocessing==1.1.2"
      ],
      "id": "41549fe4",
      "execution_count": null,
      "outputs": []
    },
    {
      "cell_type": "code",
      "metadata": {
        "id": "8b29f2a3"
      },
      "source": [
        "!pip install numpy<2.0"
      ],
      "id": "8b29f2a3",
      "execution_count": null,
      "outputs": []
    }
  ],
  "metadata": {
    "kernelspec": {
      "display_name": "NLP",
      "language": "python",
      "name": "python3"
    },
    "language_info": {
      "codemirror_mode": {
        "name": "ipython",
        "version": 3
      },
      "file_extension": ".py",
      "mimetype": "text/x-python",
      "name": "python",
      "nbconvert_exporter": "python",
      "pygments_lexer": "ipython3",
      "version": "3.12.4"
    },
    "colab": {
      "provenance": []
    }
  },
  "nbformat": 4,
  "nbformat_minor": 5
}